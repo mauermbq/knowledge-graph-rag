{
 "cells": [
  {
   "cell_type": "markdown",
   "metadata": {},
   "source": [
    "# Combine Knowledge Graphs with RAG\n",
    "\n",
    "Retriever-Augmented Generation (RAG) models combine the powers of pre-trained language models with an external knowledge retrieval mechanism to enhance the model's ability to generate more accurate, informative, and contextually relevant responses.\n",
    "\n",
    "Find below a simple example that uses course examples from deeplearning.ai"
   ]
  },
  {
   "cell_type": "code",
   "execution_count": 153,
   "metadata": {},
   "outputs": [],
   "source": [
    "from dotenv import load_dotenv\n",
    "import os\n",
    "\n",
    "from langchain_community.graphs import Neo4jGraph\n",
    "\n",
    "# Warning control\n",
    "import warnings\n",
    "warnings.filterwarnings(\"ignore\")"
   ]
  },
  {
   "cell_type": "markdown",
   "metadata": {},
   "source": [
    "# Qeurying and preparing for RAG"
   ]
  },
  {
   "cell_type": "code",
   "execution_count": 154,
   "metadata": {},
   "outputs": [],
   "source": [
    "# connect to graph DB\n",
    "load_dotenv('.env', override=True)\n",
    "NEO4J_URI = os.getenv('NEO4J_URI')\n",
    "NEO4J_USERNAME = os.getenv('NEO4J_USERNAME')\n",
    "NEO4J_PASSWORD = os.getenv('NEO4J_PASSWORD')\n",
    "NEO4J_DATABASE = os.getenv('NEO4J_DATABASE')\n",
    "# Connect to the knowledge graph instance using LangChain's Neo4jGraph class\n",
    "kg = Neo4jGraph(\n",
    "    url=NEO4J_URI, username=NEO4J_USERNAME, password=NEO4J_PASSWORD, database=NEO4J_DATABASE\n",
    ")"
   ]
  },
  {
   "cell_type": "code",
   "execution_count": 155,
   "metadata": {},
   "outputs": [
    {
     "data": {
      "text/plain": [
       "[{'numberOfNodes': 179}]"
      ]
     },
     "execution_count": 155,
     "metadata": {},
     "output_type": "execute_result"
    }
   ],
   "source": [
    "#check entries should be 171\n",
    "cypher = \"\"\"\n",
    "  MATCH (n) \n",
    "  RETURN count(n) AS numberOfNodes\n",
    "  \"\"\"\n",
    "kg.query(cypher)"
   ]
  },
  {
   "cell_type": "code",
   "execution_count": 156,
   "metadata": {},
   "outputs": [
    {
     "data": {
      "text/plain": [
       "[{'numberOfMovies': 40}]"
      ]
     },
     "execution_count": 156,
     "metadata": {},
     "output_type": "execute_result"
    }
   ],
   "source": [
    "# checl MOVIES\n",
    "cypher = \"\"\"\n",
    "  MATCH (m:Movie) \n",
    "  RETURN count(m) AS numberOfMovies\n",
    "  \"\"\"\n",
    "kg.query(cypher)"
   ]
  },
  {
   "cell_type": "code",
   "execution_count": 157,
   "metadata": {},
   "outputs": [
    {
     "data": {
      "text/plain": [
       "[{'coActors.name': 'Parker Posey', 'm.title': \"You've Got Mail\"},\n",
       " {'coActors.name': 'Greg Kinnear', 'm.title': \"You've Got Mail\"},\n",
       " {'coActors.name': 'Meg Ryan', 'm.title': \"You've Got Mail\"},\n",
       " {'coActors.name': 'Steve Zahn', 'm.title': \"You've Got Mail\"},\n",
       " {'coActors.name': 'Dave Chappelle', 'm.title': \"You've Got Mail\"},\n",
       " {'coActors.name': 'Ed Harris', 'm.title': 'Apollo 13'},\n",
       " {'coActors.name': 'Kevin Bacon', 'm.title': 'Apollo 13'},\n",
       " {'coActors.name': 'Gary Sinise', 'm.title': 'Apollo 13'},\n",
       " {'coActors.name': 'Bill Paxton', 'm.title': 'Apollo 13'},\n",
       " {'coActors.name': 'Nathan Lane', 'm.title': 'Joe Versus the Volcano'},\n",
       " {'coActors.name': 'Meg Ryan', 'm.title': 'Joe Versus the Volcano'},\n",
       " {'coActors.name': 'Liv Tyler', 'm.title': 'That Thing You Do'},\n",
       " {'coActors.name': 'Charlize Theron', 'm.title': 'That Thing You Do'},\n",
       " {'coActors.name': 'Jim Broadbent', 'm.title': 'Cloud Atlas'},\n",
       " {'coActors.name': 'Halle Berry', 'm.title': 'Cloud Atlas'},\n",
       " {'coActors.name': 'Hugo Weaving', 'm.title': 'Cloud Atlas'},\n",
       " {'coActors.name': 'Audrey Tautou', 'm.title': 'The Da Vinci Code'},\n",
       " {'coActors.name': 'Ian McKellen', 'm.title': 'The Da Vinci Code'},\n",
       " {'coActors.name': 'Paul Bettany', 'm.title': 'The Da Vinci Code'},\n",
       " {'coActors.name': 'Meg Ryan', 'm.title': 'Sleepless in Seattle'},\n",
       " {'coActors.name': 'Victor Garber', 'm.title': 'Sleepless in Seattle'},\n",
       " {'coActors.name': 'Bill Pullman', 'm.title': 'Sleepless in Seattle'},\n",
       " {'coActors.name': 'Rita Wilson', 'm.title': 'Sleepless in Seattle'},\n",
       " {'coActors.name': \"Rosie O'Donnell\", 'm.title': 'Sleepless in Seattle'},\n",
       " {'coActors.name': 'Lori Petty', 'm.title': 'A League of Their Own'},\n",
       " {'coActors.name': 'Bill Paxton', 'm.title': 'A League of Their Own'},\n",
       " {'coActors.name': \"Rosie O'Donnell\", 'm.title': 'A League of Their Own'},\n",
       " {'coActors.name': 'Geena Davis', 'm.title': 'A League of Their Own'},\n",
       " {'coActors.name': 'Madonna', 'm.title': 'A League of Their Own'},\n",
       " {'coActors.name': 'Patricia Clarkson', 'm.title': 'The Green Mile'},\n",
       " {'coActors.name': 'Sam Rockwell', 'm.title': 'The Green Mile'},\n",
       " {'coActors.name': 'Gary Sinise', 'm.title': 'The Green Mile'},\n",
       " {'coActors.name': 'David Morse', 'm.title': 'The Green Mile'},\n",
       " {'coActors.name': 'Bonnie Hunt', 'm.title': 'The Green Mile'},\n",
       " {'coActors.name': 'Michael Clarke Duncan', 'm.title': 'The Green Mile'},\n",
       " {'coActors.name': 'James Cromwell', 'm.title': 'The Green Mile'},\n",
       " {'coActors.name': 'Julia Roberts', 'm.title': \"Charlie Wilson's War\"},\n",
       " {'coActors.name': 'Philip Seymour Hoffman',\n",
       "  'm.title': \"Charlie Wilson's War\"},\n",
       " {'coActors.name': 'Helen Hunt', 'm.title': 'Cast Away'}]"
      ]
     },
     "execution_count": 157,
     "metadata": {},
     "output_type": "execute_result"
    }
   ],
   "source": [
    "cypher = \"\"\"\n",
    "  MATCH (tom:Person {name:\"Tom Hanks\"})-[:ACTED_IN]->(m)<-[:ACTED_IN]-(coActors) \n",
    "  RETURN coActors.name, m.title\n",
    "  \"\"\"\n",
    "kg.query(cypher)"
   ]
  },
  {
   "cell_type": "markdown",
   "metadata": {},
   "source": [
    "## Create a vector index\n",
    "\n",
    "Neo4j provides integrations with various generative AI services using a native GenAI plugin. This includes support for transforming text data into vector embeddings using VertexAI, OpenAI, Azure OpenAI, or Amazon Bedrock. The resulting vector embeddings can be used together with Neo4j’s vector search indexes.\n",
    "\n",
    "in order to search over a knowledhge Graph you need to create the embeddings of the text fields. "
   ]
  },
  {
   "cell_type": "code",
   "execution_count": 158,
   "metadata": {},
   "outputs": [
    {
     "data": {
      "text/plain": [
       "[]"
      ]
     },
     "execution_count": 158,
     "metadata": {},
     "output_type": "execute_result"
    }
   ],
   "source": [
    "kg.query(\"\"\"\n",
    "  CREATE VECTOR INDEX movie_tagline_embeddings IF NOT EXISTS\n",
    "  FOR (m:Movie) ON (m.taglineEmbedding) \n",
    "  OPTIONS { indexConfig: {\n",
    "    `vector.dimensions`: 1536,\n",
    "    `vector.similarity_function`: 'cosine'\n",
    "  }}\"\"\"\n",
    ")\n"
   ]
  },
  {
   "cell_type": "code",
   "execution_count": 159,
   "metadata": {},
   "outputs": [
    {
     "data": {
      "text/plain": [
       "[{'id': 4,\n",
       "  'name': 'form_10k_chunks',\n",
       "  'state': 'ONLINE',\n",
       "  'populationPercent': 100.0,\n",
       "  'type': 'VECTOR',\n",
       "  'entityType': 'NODE',\n",
       "  'labelsOrTypes': ['Chunk'],\n",
       "  'properties': ['textEmbedding'],\n",
       "  'indexProvider': 'vector-2.0',\n",
       "  'owningConstraint': None,\n",
       "  'lastRead': neo4j.time.DateTime(2024, 3, 15, 22, 55, 55, 571000000, tzinfo=<UTC>),\n",
       "  'readCount': 6},\n",
       " {'id': 3,\n",
       "  'name': 'movie_tagline_embeddings',\n",
       "  'state': 'ONLINE',\n",
       "  'populationPercent': 100.0,\n",
       "  'type': 'VECTOR',\n",
       "  'entityType': 'NODE',\n",
       "  'labelsOrTypes': ['Movie'],\n",
       "  'properties': ['taglineEmbedding'],\n",
       "  'indexProvider': 'vector-2.0',\n",
       "  'owningConstraint': None,\n",
       "  'lastRead': neo4j.time.DateTime(2024, 3, 15, 18, 46, 23, 543000000, tzinfo=<UTC>),\n",
       "  'readCount': 2}]"
      ]
     },
     "execution_count": 159,
     "metadata": {},
     "output_type": "execute_result"
    }
   ],
   "source": [
    "kg.query(\"\"\"\n",
    "  SHOW VECTOR INDEXES\n",
    "  \"\"\"\n",
    ")"
   ]
  },
  {
   "cell_type": "markdown",
   "metadata": {},
   "source": [
    "## Populate the vector index\n",
    "Calculate vector representation for each movie tagline using OpenAI.\n",
    "Add vector to the Movie node as taglineEmbedding property.\n",
    "This allows vevtor similarity search later."
   ]
  },
  {
   "cell_type": "code",
   "execution_count": 160,
   "metadata": {},
   "outputs": [
    {
     "data": {
      "text/plain": [
       "[]"
      ]
     },
     "execution_count": 160,
     "metadata": {},
     "output_type": "execute_result"
    }
   ],
   "source": [
    "OPENAI_API_KEY = os.getenv('OPENAI_API_KEY')\n",
    "kg.query(\"\"\"\n",
    "         MATCH (movie:Movie) WHERE movie.tagline IS NOT NULL\n",
    "         WITH movie, genai.vector.encode(movie.tagline, \"OpenAI\", {token: $openAiApiKey}) AS vector\n",
    "          CALL db.create.setNodeVectorProperty(movie, \"taglineEmbedding\", vector)\n",
    "    \"\"\", \n",
    "  params={\"openAiApiKey\":OPENAI_API_KEY} )"
   ]
  },
  {
   "cell_type": "code",
   "execution_count": 161,
   "metadata": {},
   "outputs": [],
   "source": [
    "result = kg.query(\"\"\"\n",
    "    MATCH (m:Movie) \n",
    "    WHERE m.tagline IS NOT NULL\n",
    "    RETURN m.tagline, m.taglineEmbedding\n",
    "    LIMIT 1\n",
    "    \"\"\"\n",
    ")"
   ]
  },
  {
   "cell_type": "code",
   "execution_count": 162,
   "metadata": {},
   "outputs": [
    {
     "data": {
      "text/plain": [
       "'Welcome to the Real World'"
      ]
     },
     "execution_count": 162,
     "metadata": {},
     "output_type": "execute_result"
    }
   ],
   "source": [
    "result[0]['m.tagline']"
   ]
  },
  {
   "cell_type": "code",
   "execution_count": 163,
   "metadata": {},
   "outputs": [
    {
     "data": {
      "text/plain": [
       "[0.01738535612821579,\n",
       " -0.005492697935551405,\n",
       " -0.002040519379079342,\n",
       " -0.02559983730316162,\n",
       " -0.01443757489323616,\n",
       " 0.01673029363155365,\n",
       " -0.017123330384492874,\n",
       " 0.0005064451252110302,\n",
       " -0.02524610422551632,\n",
       " -0.02953021228313446]"
      ]
     },
     "execution_count": 163,
     "metadata": {},
     "output_type": "execute_result"
    }
   ],
   "source": [
    "result[0]['m.taglineEmbedding'][:10]"
   ]
  },
  {
   "cell_type": "code",
   "execution_count": 164,
   "metadata": {},
   "outputs": [
    {
     "data": {
      "text/plain": [
       "1536"
      ]
     },
     "execution_count": 164,
     "metadata": {},
     "output_type": "execute_result"
    }
   ],
   "source": [
    "len(result[0]['m.taglineEmbedding'])"
   ]
  },
  {
   "cell_type": "markdown",
   "metadata": {},
   "source": [
    "## Similarity search\n",
    "\n",
    "Calculate embedding for question and identify matching movies based on similarity of question and taglineEmbedding vectors."
   ]
  },
  {
   "cell_type": "code",
   "execution_count": 165,
   "metadata": {},
   "outputs": [],
   "source": [
    "#question = \"What movies are about love?\"\n",
    "question = \"What movies are about adventure?\""
   ]
  },
  {
   "cell_type": "code",
   "execution_count": 166,
   "metadata": {},
   "outputs": [
    {
     "data": {
      "text/plain": [
       "[{'movie.title': 'RescueDawn',\n",
       "  'movie.tagline': \"Based on the extraordinary true story of one man's fight for freedom\",\n",
       "  'score': 0.8997487425804138},\n",
       " {'movie.title': 'Cast Away',\n",
       "  'movie.tagline': 'At the edge of the world, his journey begins.',\n",
       "  'score': 0.8985832929611206},\n",
       " {'movie.title': 'Ninja Assassin',\n",
       "  'movie.tagline': 'Prepare to enter a secret world of assassins',\n",
       "  'score': 0.8880105018615723},\n",
       " {'movie.title': 'Joe Versus the Volcano',\n",
       "  'movie.tagline': 'A story of love, lava and burning desire.',\n",
       "  'score': 0.8869996070861816},\n",
       " {'movie.title': 'As Good as It Gets',\n",
       "  'movie.tagline': 'A comedy from the heart that goes for the throat.',\n",
       "  'score': 0.8855773210525513}]"
      ]
     },
     "execution_count": 166,
     "metadata": {},
     "output_type": "execute_result"
    }
   ],
   "source": [
    "kg.query(\"\"\"\n",
    "    WITH genai.vector.encode($question, \"OpenAI\", {token: $openAiApiKey}) AS question_embedding\n",
    "    CALL db.index.vector.queryNodes(\n",
    "        'movie_tagline_embeddings', \n",
    "        $top_k, \n",
    "        question_embedding\n",
    "        ) YIELD node AS movie, score\n",
    "    RETURN movie.title, movie.tagline, score\n",
    "    \"\"\", \n",
    "    params={\"openAiApiKey\":OPENAI_API_KEY,\n",
    "            \"question\": question,\n",
    "            \"top_k\": 5\n",
    "            })"
   ]
  },
  {
   "cell_type": "markdown",
   "metadata": {},
   "source": [
    "# Constructing a knowledge Graph from text Documents\n",
    "\n",
    "Publicly traded companies are required to fill a form 10-K each year with the Securities and Exchange Commision (SEC)\n",
    "- The filings available in SEC's [EDGAR database](https://www.sec.gov/edgar/search/)\n",
    "- in this NB a single 10-K form is used from[NetApp](https://www.netapp.com/)\n",
    "\n",
    "Completed 10-K forms are available to download as text files that contain XML components. In order to work with them, the following cleaning steps were applied:\n",
    "\n",
    "- Cleaned up the files using regex\n",
    "- Parsed XML into python data structures using Beautiful Soup\n",
    "- Extracted CIK (Central Index Key) ID which is a company identifier used by the SEC\n",
    "- Extracted specific sections of the form (Items 1, 1a, 7, and 7a)\n",
    "\n",
    "The cleaned up data is provided in json file."
   ]
  },
  {
   "cell_type": "code",
   "execution_count": 167,
   "metadata": {},
   "outputs": [],
   "source": [
    "# Common data processing\n",
    "import json\n",
    "import textwrap\n",
    "\n",
    "# neo4j\n",
    "from neo4j import GraphDatabase\n",
    "\n",
    "# Langchain\n",
    "from langchain_community.graphs import Neo4jGraph\n",
    "from langchain_community.vectorstores import Neo4jVector\n",
    "from langchain_openai import OpenAIEmbeddings\n",
    "from langchain.text_splitter import RecursiveCharacterTextSplitter\n",
    "from langchain.chains import RetrievalQAWithSourcesChain\n",
    "from langchain_openai import ChatOpenAI\n",
    "# Global constants\n",
    "VECTOR_INDEX_NAME = 'form_10k_chunks'\n",
    "VECTOR_NODE_LABEL = 'Chunk'\n",
    "VECTOR_SOURCE_PROPERTY = 'text'\n",
    "VECTOR_EMBEDDING_PROPERTY = 'textEmbedding'"
   ]
  },
  {
   "cell_type": "code",
   "execution_count": 168,
   "metadata": {},
   "outputs": [
    {
     "name": "stdout",
     "output_type": "stream",
     "text": [
      "item1 <class 'str'>\n",
      "item1a <class 'str'>\n",
      "item7 <class 'str'>\n",
      "item7a <class 'str'>\n",
      "cik <class 'str'>\n",
      "cusip6 <class 'str'>\n",
      "cusip <class 'list'>\n",
      "names <class 'list'>\n",
      "source <class 'str'>\n"
     ]
    }
   ],
   "source": [
    "# the json includes strings and lists\n",
    "first_file_name = \"./data/0000950170-23-027948.json\"\n",
    "first_file_as_object = json.load(open(first_file_name))\n",
    "for k,v in first_file_as_object.items():\n",
    "    print(k, type(v))"
   ]
  },
  {
   "cell_type": "code",
   "execution_count": 169,
   "metadata": {},
   "outputs": [
    {
     "data": {
      "text/plain": [
       "'>Item 1.  \\nBusiness\\n\\n\\nOverview\\n\\n\\nNetApp, Inc. (NetApp, we, us or the Company) is a global cloud-led, data-centric software company. We were incorporated in 1992 and are headquartered in San Jose, California. Building on more than three decades of innovation, we give customers the freedom to manage applications and data across hybrid multicloud environments. Our portfolio of cloud services, and storage infrastructure, powered by intelligent data management software, enables applications to run faster, more reliably, and more securely, all at a lower cost.\\n\\n\\nOur opportunity is defined by the durable megatrends of data-driven digital and cloud transformations. NetApp helps organizations meet the complexities created by rapid data and cloud growth, multi-cloud management, and the adoption of next-generation technologies, such as AI, Kubernetes, and modern databases. Our modern approach to hybrid, multicloud infrastructure and data management, which we term ‘evolved cloud’, provides customers the ability to leverage data across their entire estate with simplicity, security, and sustainability which increases our relevance and value to our customers.\\n\\n\\nIn an evolved cloud state, the cloud is fully integrated into an organization’s architecture and operations. Data centers and clouds are seamlessly united and hybrid multicloud operations are simplified, with consistency and observability across environments. The key benefits NetApp brings to an organization’s hybrid multicloud envir'"
      ]
     },
     "execution_count": 169,
     "metadata": {},
     "output_type": "execute_result"
    }
   ],
   "source": [
    "item1_text = first_file_as_object['item1']\n",
    "item1_text[0:1500]"
   ]
  },
  {
   "cell_type": "markdown",
   "metadata": {},
   "source": [
    "## Split Form 10-K sections into chunks\n",
    "\n",
    "Set up text splitter using LangChain. For now, split only the text from the \"item 1\" section. Later each chunk will be a node in the Graph."
   ]
  },
  {
   "cell_type": "code",
   "execution_count": 170,
   "metadata": {},
   "outputs": [
    {
     "data": {
      "text/plain": [
       "254"
      ]
     },
     "execution_count": 170,
     "metadata": {},
     "output_type": "execute_result"
    }
   ],
   "source": [
    "text_splitter = RecursiveCharacterTextSplitter(\n",
    "    chunk_size = 2000,\n",
    "    chunk_overlap  = 200,\n",
    "    length_function = len,\n",
    "    is_separator_regex = False,\n",
    ")\n",
    "# split into list of chunks\n",
    "item1_text_chunks = text_splitter.split_text(item1_text)\n",
    "len(item1_text_chunks)"
   ]
  },
  {
   "cell_type": "code",
   "execution_count": 171,
   "metadata": {},
   "outputs": [
    {
     "data": {
      "text/plain": [
       "'>Item 1.  \\nBusiness\\n\\n\\nOverview\\n\\n\\nNetApp, Inc. (NetApp, we, us or the Company) is a global cloud-led, data-centric software company. We were incorporated in 1992 and are headquartered in San Jose, California. Building on more than three decades of innovation, we give customers the freedom to manage applications and data across hybrid multicloud environments. Our portfolio of cloud services, and storage infrastructure, powered by intelligent data management software, enables applications to run faster, more reliably, and more securely, all at a lower cost.\\n\\n\\nOur opportunity is defined by the durable megatrends of data-driven digital and cloud transformations. NetApp helps organizations meet the complexities created by rapid data and cloud growth, multi-cloud management, and the adoption of next-generation technologies, such as AI, Kubernetes, and modern databases. Our modern approach to hybrid, multicloud infrastructure and data management, which we term ‘evolved cloud’, provides customers the ability to leverage data across their entire estate with simplicity, security, and sustainability which increases our relevance and value to our customers.\\n\\n\\nIn an evolved cloud state, the cloud is fully integrated into an organization’s architecture and operations. Data centers and clouds are seamlessly united and hybrid multicloud operations are simplified, with consistency and observability across environments. The key benefits NetApp brings to an organization’s hybrid multicloud environment are:\\n\\n\\n•\\nOperational simplicity: NetApp’s use of open source, open architectures and APIs, microservices, and common capabilities and data services facilitate the creation of applications that can run anywhere.\\n\\n\\n•\\nFlexibility and consistency: NetApp makes moving data and applications between environments seamless through a common storage foundation across on-premises and multicloud environments.'"
      ]
     },
     "execution_count": 171,
     "metadata": {},
     "output_type": "execute_result"
    }
   ],
   "source": [
    "item1_text_chunks[0]"
   ]
  },
  {
   "cell_type": "code",
   "execution_count": 172,
   "metadata": {},
   "outputs": [],
   "source": [
    "# now helper function to chunk all sections of the Form 10-K, limit each section to 20\n",
    "def split_form10k_data_from_file(file):\n",
    "    chunks_with_metadata = [] # use this to accumlate chunk records\n",
    "    file_as_object = json.load(open(file)) # open the json file\n",
    "    for item in ['item1','item1a','item7','item7a']: # pull these keys from the json\n",
    "        print(f'Processing {item} from {file}') \n",
    "        item_text = file_as_object[item] # grab the text of the item\n",
    "        item_text_chunks = text_splitter.split_text(item_text) # split the text into chunks\n",
    "        chunk_seq_id = 0\n",
    "        for chunk in item_text_chunks[:20]: # only take the first 20 chunks\n",
    "            form_id = file[file.rindex('/') + 1:file.rindex('.')] # extract form id from file name\n",
    "            # finally, construct a record with metadata and the chunk text\n",
    "            chunks_with_metadata.append({\n",
    "                'text': chunk, \n",
    "                # metadata from looping...\n",
    "                'f10kItem': item,\n",
    "                'chunkSeqId': chunk_seq_id,\n",
    "                # constructed metadata...\n",
    "                'formId': f'{form_id}', # pulled from the filename\n",
    "                'chunkId': f'{form_id}-{item}-chunk{chunk_seq_id:04d}',\n",
    "                # metadata from file...\n",
    "                'names': file_as_object['names'],\n",
    "                'cik': file_as_object['cik'],\n",
    "                'cusip6': file_as_object['cusip6'],\n",
    "                'source': file_as_object['source'],\n",
    "            })\n",
    "            chunk_seq_id += 1\n",
    "        print(f'\\tSplit into {chunk_seq_id} chunks')\n",
    "    return chunks_with_metadata"
   ]
  },
  {
   "cell_type": "code",
   "execution_count": 173,
   "metadata": {},
   "outputs": [
    {
     "name": "stdout",
     "output_type": "stream",
     "text": [
      "Processing item1 from ./data/0000950170-23-027948.json\n",
      "\tSplit into 20 chunks\n",
      "Processing item1a from ./data/0000950170-23-027948.json\n",
      "\tSplit into 1 chunks\n",
      "Processing item7 from ./data/0000950170-23-027948.json\n",
      "\tSplit into 1 chunks\n",
      "Processing item7a from ./data/0000950170-23-027948.json\n",
      "\tSplit into 1 chunks\n"
     ]
    },
    {
     "data": {
      "text/plain": [
       "{'text': '>Item 1.  \\nBusiness\\n\\n\\nOverview\\n\\n\\nNetApp, Inc. (NetApp, we, us or the Company) is a global cloud-led, data-centric software company. We were incorporated in 1992 and are headquartered in San Jose, California. Building on more than three decades of innovation, we give customers the freedom to manage applications and data across hybrid multicloud environments. Our portfolio of cloud services, and storage infrastructure, powered by intelligent data management software, enables applications to run faster, more reliably, and more securely, all at a lower cost.\\n\\n\\nOur opportunity is defined by the durable megatrends of data-driven digital and cloud transformations. NetApp helps organizations meet the complexities created by rapid data and cloud growth, multi-cloud management, and the adoption of next-generation technologies, such as AI, Kubernetes, and modern databases. Our modern approach to hybrid, multicloud infrastructure and data management, which we term ‘evolved cloud’, provides customers the ability to leverage data across their entire estate with simplicity, security, and sustainability which increases our relevance and value to our customers.\\n\\n\\nIn an evolved cloud state, the cloud is fully integrated into an organization’s architecture and operations. Data centers and clouds are seamlessly united and hybrid multicloud operations are simplified, with consistency and observability across environments. The key benefits NetApp brings to an organization’s hybrid multicloud environment are:\\n\\n\\n•\\nOperational simplicity: NetApp’s use of open source, open architectures and APIs, microservices, and common capabilities and data services facilitate the creation of applications that can run anywhere.\\n\\n\\n•\\nFlexibility and consistency: NetApp makes moving data and applications between environments seamless through a common storage foundation across on-premises and multicloud environments.',\n",
       " 'f10kItem': 'item1',\n",
       " 'chunkSeqId': 0,\n",
       " 'formId': '0000950170-23-027948',\n",
       " 'chunkId': '0000950170-23-027948-item1-chunk0000',\n",
       " 'names': ['Netapp Inc', 'NETAPP INC'],\n",
       " 'cik': '1002047',\n",
       " 'cusip6': '64110D',\n",
       " 'source': 'https://www.sec.gov/Archives/edgar/data/1002047/000095017023027948/0000950170-23-027948-index.htm'}"
      ]
     },
     "execution_count": 173,
     "metadata": {},
     "output_type": "execute_result"
    }
   ],
   "source": [
    "first_file_chunks = split_form10k_data_from_file(first_file_name)\n",
    "first_file_chunks[0]"
   ]
  },
  {
   "cell_type": "markdown",
   "metadata": {},
   "source": [
    "## Create graph nodes from chunks"
   ]
  },
  {
   "cell_type": "code",
   "execution_count": 174,
   "metadata": {},
   "outputs": [],
   "source": [
    "# merge the chunks creted by helper function into the graph\n",
    "merge_chunk_node_query = \"\"\"\n",
    "MERGE(mergedChunk:Chunk {chunkId: $chunkParam.chunkId})\n",
    "    ON CREATE SET \n",
    "        mergedChunk.names = $chunkParam.names,\n",
    "        mergedChunk.formId = $chunkParam.formId, \n",
    "        mergedChunk.cik = $chunkParam.cik, \n",
    "        mergedChunk.cusip6 = $chunkParam.cusip6, \n",
    "        mergedChunk.source = $chunkParam.source, \n",
    "        mergedChunk.f10kItem = $chunkParam.f10kItem, \n",
    "        mergedChunk.chunkSeqId = $chunkParam.chunkSeqId, \n",
    "        mergedChunk.text = $chunkParam.text\n",
    "RETURN mergedChunk\n",
    "\"\"\"\n",
    "# Connect to the knowledge graph instance using LangChain's Neo4jGraph class\n",
    "kg = Neo4jGraph(\n",
    "    url=NEO4J_URI, username=NEO4J_USERNAME, password=NEO4J_PASSWORD, database='ten-k'\n",
    ")"
   ]
  },
  {
   "cell_type": "code",
   "execution_count": 175,
   "metadata": {},
   "outputs": [
    {
     "data": {
      "text/plain": [
       "[{'mergedChunk': {'formId': '0000950170-23-027948',\n",
       "   'f10kItem': 'item1',\n",
       "   'names': ['Netapp Inc', 'NETAPP INC'],\n",
       "   'textEmbedding': [-0.01717965118587017,\n",
       "    -0.018398253247141838,\n",
       "    0.016119996085762978,\n",
       "    -0.026001274585723877,\n",
       "    -0.0069473604671657085,\n",
       "    0.013159586116671562,\n",
       "    -0.0041955700144171715,\n",
       "    -0.013066866435110569,\n",
       "    -0.0029786229133605957,\n",
       "    -0.037140894681215286,\n",
       "    0.015894819051027298,\n",
       "    0.01374901831150055,\n",
       "    0.01381524745374918,\n",
       "    -0.013556956313550472,\n",
       "    0.0027170206885784864,\n",
       "    0.004510154947638512,\n",
       "    0.015100078657269478,\n",
       "    -0.029219975695014,\n",
       "    -0.014994112774729729,\n",
       "    -0.02160370908677578,\n",
       "    -0.03133928403258324,\n",
       "    0.010517071932554245,\n",
       "    0.00013028370449319482,\n",
       "    -0.006434090435504913,\n",
       "    -0.015497448854148388,\n",
       "    -0.010775363072752953,\n",
       "    0.003993573132902384,\n",
       "    -0.015272271819412708,\n",
       "    0.019497644156217575,\n",
       "    -0.004533335100859404,\n",
       "    0.008563334122300148,\n",
       "    -0.019934752956032753,\n",
       "    -0.008013637736439705,\n",
       "    -0.006579793058335781,\n",
       "    -0.008112980984151363,\n",
       "    0.004182324279099703,\n",
       "    0.0025795968249440193,\n",
       "    -0.01592131145298481,\n",
       "    0.026213206350803375,\n",
       "    -0.011914491653442383,\n",
       "    0.013762264512479305,\n",
       "    -0.015444465912878513,\n",
       "    -0.007708987221121788,\n",
       "    0.003111079800873995,\n",
       "    -0.015523940324783325,\n",
       "    0.00817920919507742,\n",
       "    -0.014199372380971909,\n",
       "    0.007682496216148138,\n",
       "    0.014239109121263027,\n",
       "    0.015033849515020847,\n",
       "    0.004039933439344168,\n",
       "    0.028822606429457664,\n",
       "    -0.029882259666919708,\n",
       "    -0.013510596007108688,\n",
       "    0.008735528215765953,\n",
       "    -0.0038942308165133,\n",
       "    -0.028398744761943817,\n",
       "    0.006374484859406948,\n",
       "    0.004808182828128338,\n",
       "    -0.013828492723405361,\n",
       "    0.0023726329673081636,\n",
       "    0.02204081602394581,\n",
       "    -0.01866316795349121,\n",
       "    -0.00036342840758152306,\n",
       "    -0.037114404141902924,\n",
       "    -0.033034734427928925,\n",
       "    -0.03102138824760914,\n",
       "    0.00932496041059494,\n",
       "    -0.013457613997161388,\n",
       "    0.01988177001476288,\n",
       "    0.03253139555454254,\n",
       "    0.03796212747693062,\n",
       "    0.013484105467796326,\n",
       "    -0.0023477973882108927,\n",
       "    -0.011391286738216877,\n",
       "    -0.007086440455168486,\n",
       "    -0.002481909701600671,\n",
       "    0.004741954617202282,\n",
       "    -0.006914246361702681,\n",
       "    0.024305827915668488,\n",
       "    -0.01570937968790531,\n",
       "    -0.0163849089294672,\n",
       "    0.022782573476433754,\n",
       "    -0.020411597564816475,\n",
       "    0.02433231845498085,\n",
       "    0.00971570797264576,\n",
       "    -0.0022683232091367245,\n",
       "    0.013053620234131813,\n",
       "    0.01233173068612814,\n",
       "    0.0027815934736281633,\n",
       "    0.017338598147034645,\n",
       "    0.014742445200681686,\n",
       "    0.016543857753276825,\n",
       "    0.008437500335276127,\n",
       "    -0.015629906207323074,\n",
       "    0.0425451323390007,\n",
       "    0.009934262372553349,\n",
       "    0.020318876951932907,\n",
       "    0.00807324331253767,\n",
       "    -0.02570987120270729,\n",
       "    0.003725348273292184,\n",
       "    0.016795525327324867,\n",
       "    -0.02704768441617489,\n",
       "    -0.012709232978522778,\n",
       "    -0.02376275509595871,\n",
       "    -0.010834968648850918,\n",
       "    0.014027178287506104,\n",
       "    -0.017007457092404366,\n",
       "    0.035286497324705124,\n",
       "    -0.00020489415328484029,\n",
       "    -0.011378041468560696,\n",
       "    -0.0038975421339273453,\n",
       "    0.001674751052632928,\n",
       "    -0.0241203885525465,\n",
       "    0.0034405661281198263,\n",
       "    -0.019192993640899658,\n",
       "    0.01604052260518074,\n",
       "    0.007238765712827444,\n",
       "    0.010993916541337967,\n",
       "    -0.005222110543400049,\n",
       "    0.011013785377144814,\n",
       "    0.037697214633226395,\n",
       "    0.009914393536746502,\n",
       "    -0.0162789449095726,\n",
       "    -0.004500220529735088,\n",
       "    0.0002994766109623015,\n",
       "    -0.0261602234095335,\n",
       "    -0.03353806957602501,\n",
       "    0.0165968406945467,\n",
       "    -0.009113029576838017,\n",
       "    0.017590267583727837,\n",
       "    0.010212421417236328,\n",
       "    0.00247528706677258,\n",
       "    -0.005096276290714741,\n",
       "    -0.024027667939662933,\n",
       "    0.0016896524466574192,\n",
       "    -0.010391238145530224,\n",
       "    0.00026243008323945105,\n",
       "    -0.02365678921341896,\n",
       "    -0.0176167581230402,\n",
       "    0.02296801470220089,\n",
       "    0.015206043608486652,\n",
       "    -0.007768592797219753,\n",
       "    -0.013629807159304619,\n",
       "    -0.005698955152183771,\n",
       "    0.018808869644999504,\n",
       "    0.021325549110770226,\n",
       "    0.03515404090285301,\n",
       "    0.021219583228230476,\n",
       "    0.008119603618979454,\n",
       "    0.014358320273458958,\n",
       "    -0.018676413223147392,\n",
       "    -0.017457809299230576,\n",
       "    -0.0074242050759494305,\n",
       "    0.009417680092155933,\n",
       "    -0.0018295599147677422,\n",
       "    -0.005500269588083029,\n",
       "    0.005235356278717518,\n",
       "    -0.011470761150121689,\n",
       "    -0.0018047243356704712,\n",
       "    -0.0036293170414865017,\n",
       "    0.02227923832833767,\n",
       "    4.767928476212546e-05,\n",
       "    -0.02649136632680893,\n",
       "    -0.008841493166983128,\n",
       "    0.02307397872209549,\n",
       "    0.00846399087458849,\n",
       "    -0.014080161228775978,\n",
       "    0.007073194719851017,\n",
       "    -0.010722380131483078,\n",
       "    -0.00041040920768864453,\n",
       "    0.012192650698125362,\n",
       "    -0.0350215844810009,\n",
       "    0.007066571619361639,\n",
       "    0.0006817387184128165,\n",
       "    0.006208913866430521,\n",
       "    0.014927884563803673,\n",
       "    0.028001373633742332,\n",
       "    -0.024623723700642586,\n",
       "    -0.0193386971950531,\n",
       "    0.04106161743402481,\n",
       "    -0.00282795331440866,\n",
       "    0.009722331538796425,\n",
       "    0.0023577315732836723,\n",
       "    0.009993867948651314,\n",
       "    -0.001268274150788784,\n",
       "    0.022544153034687042,\n",
       "    0.007523547857999802,\n",
       "    0.00802688393741846,\n",
       "    0.006308256648480892,\n",
       "    0.001433845143765211,\n",
       "    0.001456197234801948,\n",
       "    -0.025524429976940155,\n",
       "    -0.004284978378564119,\n",
       "    -0.6324018836021423,\n",
       "    -0.0108482139185071,\n",
       "    0.011450892314314842,\n",
       "    -0.03820054978132248,\n",
       "    -0.02194809727370739,\n",
       "    0.0071526686660945415,\n",
       "    0.028001373633742332,\n",
       "    -0.0028859032317996025,\n",
       "    0.001175554352812469,\n",
       "    0.023352138698101044,\n",
       "    -0.011265452951192856,\n",
       "    0.00978855974972248,\n",
       "    -0.010053473524749279,\n",
       "    -0.009331583976745605,\n",
       "    -0.021087126806378365,\n",
       "    -0.01694122888147831,\n",
       "    -0.009656102396547794,\n",
       "    -0.014914638362824917,\n",
       "    0.016967719420790672,\n",
       "    -0.021166600286960602,\n",
       "    -0.03737931698560715,\n",
       "    0.0206765104085207,\n",
       "    0.0022169961594045162,\n",
       "    -0.04524725303053856,\n",
       "    -0.002713709371164441,\n",
       "    0.013325156643986702,\n",
       "    0.02593504637479782,\n",
       "    0.022769328206777573,\n",
       "    -0.01409340649843216,\n",
       "    0.005400927271693945,\n",
       "    -0.030385596677660942,\n",
       "    0.020861949771642685,\n",
       "    0.028478218242526054,\n",
       "    -0.01319932285696268,\n",
       "    0.044955845922231674,\n",
       "    -0.0017848557326942682,\n",
       "    -0.013464236631989479,\n",
       "    0.044531986117362976,\n",
       "    0.036558084189891815,\n",
       "    0.015100078657269478,\n",
       "    -0.00893421284854412,\n",
       "    -0.006665889639407396,\n",
       "    0.011113127693533897,\n",
       "    -0.001114293118007481,\n",
       "    -0.0069539835676550865,\n",
       "    0.007702364586293697,\n",
       "    0.015206043608486652,\n",
       "    -0.0183187797665596,\n",
       "    0.005877771880477667,\n",
       "    0.0073910909704864025,\n",
       "    0.0081924544647336,\n",
       "    -0.020424842834472656,\n",
       "    -0.0028494775760918856,\n",
       "    -0.020636774599552155,\n",
       "    0.002059703692793846,\n",
       "    0.0009694183827377856,\n",
       "    0.006043342873454094,\n",
       "    -0.03181612864136696,\n",
       "    0.03186911344528198,\n",
       "    0.010523694567382336,\n",
       "    0.006189045496284962,\n",
       "    -0.009841542690992355,\n",
       "    -0.042015306651592255,\n",
       "    -0.0216964278370142,\n",
       "    -0.0411410890519619,\n",
       "    0.007470564916729927,\n",
       "    -0.0016987588023766875,\n",
       "    -0.011391286738216877,\n",
       "    0.029511380940675735,\n",
       "    -0.03820054978132248,\n",
       "    0.00579498615115881,\n",
       "    0.0059340656735002995,\n",
       "    -0.008834870532155037,\n",
       "    -0.001377551001496613,\n",
       "    0.0393131859600544,\n",
       "    0.023471349850296974,\n",
       "    0.0234183669090271,\n",
       "    0.019245976582169533,\n",
       "    -0.01853070966899395,\n",
       "    0.010364746674895287,\n",
       "    0.00228984747081995,\n",
       "    -0.02866365760564804,\n",
       "    0.016424646601080894,\n",
       "    -0.03602825850248337,\n",
       "    0.017139913514256477,\n",
       "    0.027604002505540848,\n",
       "    0.006367862224578857,\n",
       "    -0.002897493075579405,\n",
       "    0.00802688393741846,\n",
       "    -0.015166306868195534,\n",
       "    0.022928277030587196,\n",
       "    0.00994088500738144,\n",
       "    -0.009775313548743725,\n",
       "    -0.02797488123178482,\n",
       "    -0.00551682710647583,\n",
       "    0.021087126806378365,\n",
       "    -0.025431711226701736,\n",
       "    0.0004162041877862066,\n",
       "    -0.022358711808919907,\n",
       "    -0.0033312891609966755,\n",
       "    0.0021590462420135736,\n",
       "    -0.01727236993610859,\n",
       "    0.002412369940429926,\n",
       "    0.011967474594712257,\n",
       "    0.02102089859545231,\n",
       "    0.022689854726195335,\n",
       "    0.001567957689985633,\n",
       "    0.010735626332461834,\n",
       "    0.03899528831243515,\n",
       "    -0.016318680718541145,\n",
       "    -0.013338402844965458,\n",
       "    -0.022875294089317322,\n",
       "    -0.03380298241972923,\n",
       "    0.006500318646430969,\n",
       "    -0.0003868153435178101,\n",
       "    -0.029617346823215485,\n",
       "    0.03435930237174034,\n",
       "    -0.004159144591540098,\n",
       "    0.009218995459377766,\n",
       "    -0.015166306868195534,\n",
       "    -0.0027335777413100004,\n",
       "    -0.00702683487907052,\n",
       "    0.0069473604671657085,\n",
       "    0.007291748188436031,\n",
       "    -0.015590168535709381,\n",
       "    0.011503875255584717,\n",
       "    0.005834723357111216,\n",
       "    -0.027312597259879112,\n",
       "    -0.027471546083688736,\n",
       "    -0.014914638362824917,\n",
       "    -0.007543416228145361,\n",
       "    -0.01704719290137291,\n",
       "    0.029537873342633247,\n",
       "    0.002993524307385087,\n",
       "    0.04638637974858284,\n",
       "    0.024756181985139847,\n",
       "    -0.00591419730335474,\n",
       "    -0.018239304423332214,\n",
       "    0.007576530333608389,\n",
       "    -0.03708791360259056,\n",
       "    -0.029723312705755234,\n",
       "    -0.010563432238996029,\n",
       "    0.021325549110770226,\n",
       "    -0.011119750328361988,\n",
       "    -0.01206019427627325,\n",
       "    0.012040325440466404,\n",
       "    -0.014464285224676132,\n",
       "    -0.009887902066111565,\n",
       "    -0.018967818468809128,\n",
       "    0.004652546253055334,\n",
       "    -0.028716640546917915,\n",
       "    0.003993573132902384,\n",
       "    -0.015656396746635437,\n",
       "    0.025325745344161987,\n",
       "    0.018451236188411713,\n",
       "    -0.002960410201922059,\n",
       "    -0.006861263886094093,\n",
       "    -0.03732633590698242,\n",
       "    -0.01817307621240616,\n",
       "    -0.027471546083688736,\n",
       "    -0.014517268165946007,\n",
       "    0.016980964690446854,\n",
       "    -0.015179552137851715,\n",
       "    0.0008464819402433932,\n",
       "    -0.01661008596420288,\n",
       "    -0.011126373894512653,\n",
       "    -0.018822114914655685,\n",
       "    0.011146241798996925,\n",
       "    0.017245879396796227,\n",
       "    -0.014914638362824917,\n",
       "    -0.00020779164333362132,\n",
       "    -0.012265502475202084,\n",
       "    0.0013808624353259802,\n",
       "    0.004112784285098314,\n",
       "    -0.005993671249598265,\n",
       "    -0.007503679487854242,\n",
       "    0.0007947409758344293,\n",
       "    -0.016000784933567047,\n",
       "    0.0352335162460804,\n",
       "    -0.015417974442243576,\n",
       "    0.024358810856938362,\n",
       "    -0.014808673411607742,\n",
       "    -0.0018775755306705832,\n",
       "    -0.00035514988121576607,\n",
       "    0.036107730120420456,\n",
       "    0.00018906142213381827,\n",
       "    0.04392268508672714,\n",
       "    0.018557202070951462,\n",
       "    -0.0035928913857787848,\n",
       "    -0.004513466265052557,\n",
       "    -0.01449077669531107,\n",
       "    0.03250490501523018,\n",
       "    0.009887902066111565,\n",
       "    0.010238912887871265,\n",
       "    -0.019153257831931114,\n",
       "    -0.007848067209124565,\n",
       "    -0.0061393738724291325,\n",
       "    0.011854886077344418,\n",
       "    0.01580210030078888,\n",
       "    0.01495437603443861,\n",
       "    -0.015762362629175186,\n",
       "    -0.0013891409616917372,\n",
       "    0.010636283084750175,\n",
       "    -0.005520138423889875,\n",
       "    0.012046948075294495,\n",
       "    -2.8328169719316065e-05,\n",
       "    0.006357927806675434,\n",
       "    -0.017709478735923767,\n",
       "    0.004139275755733252,\n",
       "    0.009993867948651314,\n",
       "    0.03568387031555176,\n",
       "    -0.006404287647455931,\n",
       "    0.0021110307425260544,\n",
       "    -0.028504708781838417,\n",
       "    -0.004695594776421785,\n",
       "    0.015987539663910866,\n",
       "    0.011841640807688236,\n",
       "    0.010828346014022827,\n",
       "    -0.026875490322709084,\n",
       "    0.023047488182783127,\n",
       "    0.029405415058135986,\n",
       "    -0.011748920194804668,\n",
       "    0.0035928913857787848,\n",
       "    -0.017232634127140045,\n",
       "    -0.007867935113608837,\n",
       "    0.004251864273101091,\n",
       "    0.011609841138124466,\n",
       "    0.03851844370365143,\n",
       "    -0.007132800295948982,\n",
       "    -0.030862441286444664,\n",
       "    0.015656396746635437,\n",
       "    0.024160126224160194,\n",
       "    -0.00446710642427206,\n",
       "    0.009649479761719704,\n",
       "    0.020398352295160294,\n",
       "    0.012424450367689133,\n",
       "    0.005374435801059008,\n",
       "    -0.018027374520897865,\n",
       "    0.018053865060210228,\n",
       "    -0.011815149337053299,\n",
       "    0.00857657939195633,\n",
       "    0.02502109482884407,\n",
       "    0.03398842364549637,\n",
       "    -0.015603414736688137,\n",
       "    0.022676609456539154,\n",
       "    0.0038975421339273453,\n",
       "    0.014901393093168736,\n",
       "    0.01774921454489231,\n",
       "    -0.019020801410079002,\n",
       "    -0.033246662467718124,\n",
       "    -0.02115335501730442,\n",
       "    -0.009510400705039501,\n",
       "    0.015444465912878513,\n",
       "    -0.021193092688918114,\n",
       "    -0.0075897760689258575,\n",
       "    -0.019736066460609436,\n",
       "    -0.010146193206310272,\n",
       "    0.006049965508282185,\n",
       "    0.02876962348818779,\n",
       "    0.009252109564840794,\n",
       "    0.009583251550793648,\n",
       "    -0.014504022896289825,\n",
       "    0.013947703875601292,\n",
       "    -0.007218897342681885,\n",
       "    0.031180337071418762,\n",
       "    -0.025776099413633347,\n",
       "    0.01244431920349598,\n",
       "    -0.015828590840101242,\n",
       "    -0.0035730230156332254,\n",
       "    -0.024305827915668488,\n",
       "    0.0061228168196976185,\n",
       "    -0.023484595119953156,\n",
       "    0.02763049490749836,\n",
       "    -0.008894476108253002,\n",
       "    -0.015762362629175186,\n",
       "    0.018570447340607643,\n",
       "    -0.0044008782133460045,\n",
       "    -0.009020309895277023,\n",
       "    -0.00904017873108387,\n",
       "    0.007775215897709131,\n",
       "    -0.01331191137433052,\n",
       "    -0.014172880910336971,\n",
       "    0.00039240336627699435,\n",
       "    0.004881034139543772,\n",
       "    0.009728954173624516,\n",
       "    0.0025183353573083878,\n",
       "    -0.0196565929800272,\n",
       "    0.006583104375749826,\n",
       "    -0.012431073002517223,\n",
       "    0.01741807349026203,\n",
       "    -0.015020604245364666,\n",
       "    0.0023213059175759554,\n",
       "    -0.0004329682560637593,\n",
       "    0.010212421417236328,\n",
       "    -0.0043611410073935986,\n",
       "    0.020875196903944016,\n",
       "    0.02776295132935047,\n",
       "    -0.012775461189448833,\n",
       "    0.0032667166087776423,\n",
       "    -0.0054804012179374695,\n",
       "    0.007265257183462381,\n",
       "    -0.004043244756758213,\n",
       "    0.0046326774172484875,\n",
       "    0.0056459722109138966,\n",
       "    0.038147564977407455,\n",
       "    -0.005116145126521587,\n",
       "    -0.004861165769398212,\n",
       "    -0.0007318239659070969,\n",
       "    -0.0025564166717231274,\n",
       "    -0.00846399087458849,\n",
       "    0.007099686190485954,\n",
       "    -0.021563971415162086,\n",
       "    -0.02831926941871643,\n",
       "    0.00802026130259037,\n",
       "    0.008318289183080196,\n",
       "    -0.016755789518356323,\n",
       "    -0.020769231021404266,\n",
       "    -0.0023974685464054346,\n",
       "    0.01866316795349121,\n",
       "    -0.0012210863642394543,\n",
       "    0.01695447415113449,\n",
       "    -0.04630690813064575,\n",
       "    -0.04540619999170303,\n",
       "    0.026901980862021446,\n",
       "    0.07062598317861557,\n",
       "    0.014265600591897964,\n",
       "    -0.009278601035475731,\n",
       "    0.0203586146235466,\n",
       "    -0.026464873924851418,\n",
       "    0.007934164255857468,\n",
       "    0.001753397285938263,\n",
       "    -0.017643248662352562,\n",
       "    0.012775461189448833,\n",
       "    -0.012523792684078217,\n",
       "    -0.005566498264670372,\n",
       "    0.007656004745513201,\n",
       "    0.006854640785604715,\n",
       "    -0.030968407168984413,\n",
       "    0.006159242708235979,\n",
       "    0.00642415601760149,\n",
       "    0.0008013637852855027,\n",
       "    0.0021524233743548393,\n",
       "    -0.006040031556040049,\n",
       "    -0.021312303841114044,\n",
       "    -0.00035328720696270466,\n",
       "    -0.0010695889359340072,\n",
       "    0.007490433752536774,\n",
       "    0.04159144312143326,\n",
       "    0.032345958054065704,\n",
       "    0.0027286107651889324,\n",
       "    0.012861558236181736,\n",
       "    0.020517563447356224,\n",
       "    0.014649725519120693,\n",
       "    -0.026133732870221138,\n",
       "    -0.009278601035475731,\n",
       "    0.012278747744858265,\n",
       "    0.0029355743899941444,\n",
       "    0.0022153405006974936,\n",
       "    -0.02068975567817688,\n",
       "    0.0006001950241625309,\n",
       "    0.0013022162020206451,\n",
       "    0.007523547857999802,\n",
       "    -0.0008601415320299566,\n",
       "    -0.0004594596102833748,\n",
       "    -0.00039033370558172464,\n",
       "    -0.008079866878688335,\n",
       "    0.02170967496931553,\n",
       "    -0.017100175842642784,\n",
       "    0.007298371288925409,\n",
       "    -0.006751986686140299,\n",
       "    0.020782476291060448,\n",
       "    0.03242542967200279,\n",
       "    -0.011272076517343521,\n",
       "    -0.0165968406945467,\n",
       "    0.00011010473826900125,\n",
       "    -0.012093308381736279,\n",
       "    -0.04935341328382492,\n",
       "    0.004241929855197668,\n",
       "    0.002791527658700943,\n",
       "    0.009603120386600494,\n",
       "    0.03968406468629837,\n",
       "    -0.007119554560631514,\n",
       "    -0.004897591192275286,\n",
       "    -0.043604787439107895,\n",
       "    -0.014795427210628986,\n",
       "    -0.014689462259411812,\n",
       "    -0.007437450811266899,\n",
       "    -0.02491512894630432,\n",
       "    0.0006506941863335669,\n",
       "    -0.024650216102600098,\n",
       "    -0.01694122888147831,\n",
       "    0.0035928913857787848,\n",
       "    -0.013205945491790771,\n",
       "    0.0005273437709547579,\n",
       "    -0.002375944284722209,\n",
       "    -0.01992150768637657,\n",
       "    -0.0354454480111599,\n",
       "    0.029087519273161888,\n",
       "    0.035312991589307785,\n",
       "    0.00395052507519722,\n",
       "    -0.00534132169559598,\n",
       "    0.006728806998580694,\n",
       "    -0.011517121456563473,\n",
       "    0.028054356575012207,\n",
       "    0.012543661519885063,\n",
       "    -0.007708987221121788,\n",
       "    -0.0056691523641347885,\n",
       "    -0.04874411225318909,\n",
       "    0.008258683606982231,\n",
       "    -0.018610185012221336,\n",
       "    -0.0020977850072085857,\n",
       "    -0.005218799225986004,\n",
       "    -0.0327698178589344,\n",
       "    0.00846399087458849,\n",
       "    -0.0026160222478210926,\n",
       "    -0.0348096527159214,\n",
       "    0.038491953164339066,\n",
       "    0.014199372380971909,\n",
       "    0.0006283420952968299,\n",
       "    0.01864992082118988,\n",
       "    0.01990826055407524,\n",
       "    0.00027733147726394236,\n",
       "    -0.004612809047102928,\n",
       "    -0.025749607011675835,\n",
       "    0.014848410151898861,\n",
       "    -0.011126373894512653,\n",
       "    -0.014172880910336971,\n",
       "    -0.02990875206887722,\n",
       "    0.03409438580274582,\n",
       "    0.011695938184857368,\n",
       "    0.0007529342547059059,\n",
       "    -0.0032468480058014393,\n",
       "    0.01955062709748745,\n",
       "    -0.01393445860594511,\n",
       "    0.004877722822129726,\n",
       "    0.0015729247825220227,\n",
       "    0.008947459049522877,\n",
       "    -0.02590855583548546,\n",
       "    -0.0037187254056334496,\n",
       "    0.02045133337378502,\n",
       "    -0.0034637460485100746,\n",
       "    0.015166306868195534,\n",
       "    0.005175750702619553,\n",
       "    -0.005000245291739702,\n",
       "    0.01908702962100506,\n",
       "    -0.026650313287973404,\n",
       "    0.01819956861436367,\n",
       "    0.0006366206216625869,\n",
       "    0.0022070619743317366,\n",
       "    0.011841640807688236,\n",
       "    0.0029190173372626305,\n",
       "    -0.004559826105833054,\n",
       "    -0.030094191431999207,\n",
       "    -0.0030729984864592552,\n",
       "    0.000364670209819451,\n",
       "    0.009841542690992355,\n",
       "    -0.014384811744093895,\n",
       "    -0.004967131186276674,\n",
       "    -0.018967818468809128,\n",
       "    -0.009457417763769627,\n",
       "    -0.0026921851094812155,\n",
       "    0.018159830942749977,\n",
       "    -0.029855769127607346,\n",
       "    -0.03979003056883812,\n",
       "    0.0019702953286468983,\n",
       "    -0.010636283084750175,\n",
       "    0.019497644156217575,\n",
       "    -0.006626152899116278,\n",
       "    -0.012768838554620743,\n",
       "    -0.020159929990768433,\n",
       "    -0.0067254952155053616,\n",
       "    -0.011768789030611515,\n",
       "    -0.011682691983878613,\n",
       "    0.02525951713323593,\n",
       "    -0.010232290253043175,\n",
       "    -0.021087126806378365,\n",
       "    -0.012868180871009827,\n",
       "    0.013788755983114243,\n",
       "    -0.020265894010663033,\n",
       "    0.007225519977509975,\n",
       "    0.0029521314427256584,\n",
       "    -0.0336175411939621,\n",
       "    0.05568484961986542,\n",
       "    0.018000882118940353,\n",
       "    0.006874509155750275,\n",
       "    0.015643151476979256,\n",
       "    0.013490728102624416,\n",
       "    0.01980229653418064,\n",
       "    -0.018027374520897865,\n",
       "    -0.015722624957561493,\n",
       "    -0.01841149851679802,\n",
       "    -0.014861656352877617,\n",
       "    0.0015754083869978786,\n",
       "    -0.0014818607596680522,\n",
       "    -0.007715610321611166,\n",
       "    0.003582957200706005,\n",
       "    -0.0039339675568044186,\n",
       "    0.003688922617584467,\n",
       "    0.004844608251005411,\n",
       "    0.022822311148047447,\n",
       "    -0.0022881918121129274,\n",
       "    -0.02784242480993271,\n",
       "    -0.04307496175169945,\n",
       "    -0.034067895263433456,\n",
       "    0.0004884345689788461,\n",
       "    0.004053178709000349,\n",
       "    -0.006583104375749826,\n",
       "    0.02216002717614174,\n",
       "    -0.047366563230752945,\n",
       "    -0.0013096668990328908,\n",
       "    0.02000098116695881,\n",
       "    0.03581632673740387,\n",
       "    0.025153551250696182,\n",
       "    -0.0021275877952575684,\n",
       "    0.022941522300243378,\n",
       "    -0.012510547414422035,\n",
       "    8.071587944868952e-05,\n",
       "    0.02001422643661499,\n",
       "    0.002508401172235608,\n",
       "    -0.02319318987429142,\n",
       "    0.006414222065359354,\n",
       "    -0.03343210369348526,\n",
       "    -0.033379118889570236,\n",
       "    0.021126864477992058,\n",
       "    -0.0028180191293358803,\n",
       "    0.00597049156203866,\n",
       "    -0.00753679359331727,\n",
       "    0.0048214285634458065,\n",
       "    -0.008212323300540447,\n",
       "    0.008596448227763176,\n",
       "    -0.013490728102624416,\n",
       "    -0.037008438259363174,\n",
       "    0.027445055544376373,\n",
       "    -0.01369603630155325,\n",
       "    -0.0029902129899710417,\n",
       "    -0.010934310965240002,\n",
       "    -0.0372733511030674,\n",
       "    -0.029590854421257973,\n",
       "    0.025882063433527946,\n",
       "    0.010669397190213203,\n",
       "    0.0058678374625742435,\n",
       "    0.0011556858662515879,\n",
       "    -0.033723507076501846,\n",
       "    -0.018451236188411713,\n",
       "    0.029882259666919708,\n",
       "    0.0029306074138730764,\n",
       "    0.01931220479309559,\n",
       "    -0.006301633547991514,\n",
       "    0.043498821556568146,\n",
       "    0.017113422974944115,\n",
       "    -0.00971570797264576,\n",
       "    -0.029590854421257973,\n",
       "    -0.019987735897302628,\n",
       "    -0.019298959523439407,\n",
       "    0.0011407844722270966,\n",
       "    0.025180043652653694,\n",
       "    0.02012019231915474,\n",
       "    -0.0024537628050893545,\n",
       "    -0.013682790100574493,\n",
       "    -9.39098208618816e-06,\n",
       "    -0.02784242480993271,\n",
       "    0.006579793058335781,\n",
       "    -0.01296752318739891,\n",
       "    0.02776295132935047,\n",
       "    0.0196565929800272,\n",
       "    0.014013932086527348,\n",
       "    -0.010616415180265903,\n",
       "    -0.01569613441824913,\n",
       "    -0.028133830055594444,\n",
       "    0.030888931825757027,\n",
       "    0.002157390583306551,\n",
       "    0.017259124666452408,\n",
       "    -0.007609644904732704,\n",
       "    -0.019047291949391365,\n",
       "    -0.0017947900341823697,\n",
       "    0.011921114288270473,\n",
       "    -0.01445103995501995,\n",
       "    0.030624018982052803,\n",
       "    0.016345173120498657,\n",
       "    -0.01604052260518074,\n",
       "    0.008874607272446156,\n",
       "    0.005344633013010025,\n",
       "    0.01523253507912159,\n",
       "    -0.016239207237958908,\n",
       "    -0.03025314025580883,\n",
       "    0.02649136632680893,\n",
       "    0.0005029219901189208,\n",
       "    0.015378237701952457,\n",
       "    0.002783249132335186,\n",
       "    0.014623234048485756,\n",
       "    -0.016225961968302727,\n",
       "    -0.0019123454112559557,\n",
       "    -0.006914246361702681,\n",
       "    0.02389521151781082,\n",
       "    -0.022941522300243378,\n",
       "    -0.01752403751015663,\n",
       "    0.017113422974944115,\n",
       "    0.021855376660823822,\n",
       "    0.008596448227763176,\n",
       "    -0.014504022896289825,\n",
       "    -0.002149112056940794,\n",
       "    -0.007344731129705906,\n",
       "    -0.0019438039744272828,\n",
       "    -0.014411303214728832,\n",
       "    0.008212323300540447,\n",
       "    -0.0037352824583649635,\n",
       "    -0.01737833581864834,\n",
       "    -0.03176314756274223,\n",
       "    0.011490629985928535,\n",
       "    -0.014861656352877617,\n",
       "    0.0037385940086096525,\n",
       "    0.0015249092830345035,\n",
       "    0.013033751398324966,\n",
       "    -0.025325745344161987,\n",
       "    -0.026584085077047348,\n",
       "    -0.002250110264867544,\n",
       "    0.008563334122300148,\n",
       "    -0.0029107388108968735,\n",
       "    -0.0010430974652990699,\n",
       "    0.012252256274223328,\n",
       "    -0.010119701735675335,\n",
       "    0.0216964278370142,\n",
       "    -0.0078017073683440685,\n",
       "    0.011232338845729828,\n",
       "    0.01841149851679802,\n",
       "    0.01245756447315216,\n",
       "    -0.030544543638825417,\n",
       "    0.039392661303281784,\n",
       "    -0.002481909701600671,\n",
       "    0.0041624559089541435,\n",
       "    0.020173175260424614,\n",
       "    0.0026375465095043182,\n",
       "    -0.022583888843655586,\n",
       "    -0.01284168940037489,\n",
       "    -0.009106406942009926,\n",
       "    0.017126668244600296,\n",
       "    -0.010861460119485855,\n",
       "    0.003097834065556526,\n",
       "    0.010212421417236328,\n",
       "    0.009695840068161488,\n",
       "    -0.013318534009158611,\n",
       "    -0.014371565543115139,\n",
       "    -0.006874509155750275,\n",
       "    0.01472919899970293,\n",
       "    -0.015537185594439507,\n",
       "    0.0012392991920933127,\n",
       "    -0.0023328959941864014,\n",
       "    -0.009126275777816772,\n",
       "    0.014080161228775978,\n",
       "    0.0025911866687238216,\n",
       "    0.001461164327338338,\n",
       "    -0.017484301701188087,\n",
       "    -0.028743131086230278,\n",
       "    -0.04469093307852745,\n",
       "    0.013616561889648438,\n",
       "    0.004175701644271612,\n",
       "    -0.005864526145160198,\n",
       "    0.00944417156279087,\n",
       "    0.0215904638171196,\n",
       "    -0.018014129251241684,\n",
       "    -0.010887951590120792,\n",
       "    -0.007861312478780746,\n",
       "    0.009258732199668884,\n",
       "    0.013066866435110569,\n",
       "    -0.02058379165828228,\n",
       "    -0.00228984747081995,\n",
       "    0.029643837362527847,\n",
       "    -0.0010240568080917,\n",
       "    0.0004449721600394696,\n",
       "    -0.02479591779410839,\n",
       "    -0.038147564977407455,\n",
       "    -0.015126570127904415,\n",
       "    -0.03390894830226898,\n",
       "    0.01331191137433052,\n",
       "    -0.0025183353573083878,\n",
       "    0.031233320012688637,\n",
       "    0.008768642321228981,\n",
       "    -0.013318534009158611,\n",
       "    -0.01279533002525568,\n",
       "    -0.007761970162391663,\n",
       "    -0.038015108555555344,\n",
       "    -0.019815541803836823,\n",
       "    0.0038776735309511423,\n",
       "    0.023670034483075142,\n",
       "    0.018610185012221336,\n",
       "    0.017815442755818367,\n",
       "    0.018742641434073448,\n",
       "    0.021683182567358017,\n",
       "    0.014649725519120693,\n",
       "    0.015749117359519005,\n",
       "    -0.02786891721189022,\n",
       "    0.024636970832943916,\n",
       "    -0.010073341429233551,\n",
       "    -0.03059752658009529,\n",
       "    0.02091493271291256,\n",
       "    -0.016424646601080894,\n",
       "    -0.048028845340013504,\n",
       "    -0.015974292531609535,\n",
       "    -0.009980621747672558,\n",
       "    -0.014265600591897964,\n",
       "    0.004675725940614939,\n",
       "    0.01604052260518074,\n",
       "    0.011808525770902634,\n",
       "    -0.002606088062748313,\n",
       "    -0.006914246361702681,\n",
       "    0.021550726145505905,\n",
       "    -0.0032170452177524567,\n",
       "    -0.001725250156596303,\n",
       "    0.01706044003367424,\n",
       "    -0.03912774845957756,\n",
       "    -0.009411057457327843,\n",
       "    0.011258830316364765,\n",
       "    0.008424254134297371,\n",
       "    -0.0071924058720469475,\n",
       "    0.007093063089996576,\n",
       "    0.01467621698975563,\n",
       "    0.0052419789135456085,\n",
       "    0.01943141594529152,\n",
       "    -0.011682691983878613,\n",
       "    0.0034273203928023577,\n",
       "    -0.012166159227490425,\n",
       "    0.004722085781395435,\n",
       "    0.006198979448527098,\n",
       "    0.01706044003367424,\n",
       "    0.00420881574973464,\n",
       "    0.029749803245067596,\n",
       "    0.007728856056928635,\n",
       "    -0.024968111887574196,\n",
       "    -0.006314879283308983,\n",
       "    0.00915276724845171,\n",
       "    -0.014252354390919209,\n",
       "    0.0019603611435741186,\n",
       "    0.01034487783908844,\n",
       "    0.010358124040067196,\n",
       "    -0.0032865849789232016,\n",
       "    0.015828590840101242,\n",
       "    0.01763000339269638,\n",
       "    0.005745314992964268,\n",
       "    -0.025762852281332016,\n",
       "    0.021405022591352463,\n",
       "    0.004092915914952755,\n",
       "    -0.01614648662507534,\n",
       "    -0.028584184125065804,\n",
       "    -0.015139815397560596,\n",
       "    -0.021444760262966156,\n",
       "    -0.01817307621240616,\n",
       "    -0.00463598920032382,\n",
       "    0.0013883131323382258,\n",
       "    0.025497939437627792,\n",
       "    -0.006728806998580694,\n",
       "    0.03173665702342987,\n",
       "    0.00155719555914402,\n",
       "    -0.0174048263579607,\n",
       "    0.008788510225713253,\n",
       "    -0.008523596450686455,\n",
       "    -0.033352628350257874,\n",
       "    -0.0108482139185071,\n",
       "    0.015523940324783325,\n",
       "    0.014689462259411812,\n",
       "    0.008099734783172607,\n",
       "    0.2090698629617691,\n",
       "    0.023471349850296974,\n",
       "    0.0012831755448132753,\n",
       "    0.0176167581230402,\n",
       "    0.004205504432320595,\n",
       "    0.0006167520768940449,\n",
       "    0.016119996085762978,\n",
       "    0.010192552581429482,\n",
       "    0.015484203584492207,\n",
       "    0.012808575294911861,\n",
       "    -0.008762018755078316,\n",
       "    0.02672978863120079,\n",
       "    0.024398548528552055,\n",
       "    0.003841248108074069,\n",
       "    0.005549941211938858,\n",
       "    -0.0364256277680397,\n",
       "    -0.03208104521036148,\n",
       "    0.009841542690992355,\n",
       "    -0.014159634709358215,\n",
       "    0.02533899061381817,\n",
       "    0.010384615510702133,\n",
       "    -0.022332221269607544,\n",
       "    0.0009462384623475373,\n",
       "    -0.004828051198273897,\n",
       "    0.019047291949391365,\n",
       "    0.011139619164168835,\n",
       "    -0.005046605132520199,\n",
       "    0.012199274264276028,\n",
       "    0.04108810797333717,\n",
       "    0.013828492723405361,\n",
       "    -0.01433182880282402,\n",
       "    0.0033577806316316128,\n",
       "    0.0034637460485100746,\n",
       "    -0.015775607898831367,\n",
       "    0.004996933974325657,\n",
       "    -0.016649823635816574,\n",
       "    0.024160126224160194,\n",
       "    -0.0021259321365505457,\n",
       "    -0.002430582884699106,\n",
       "    0.0027501347940415144,\n",
       "    0.010040227323770523,\n",
       "    -0.00881500169634819,\n",
       "    -0.003920722287148237,\n",
       "    0.011470761150121689,\n",
       "    0.00971570797264576,\n",
       "    0.005142636131495237,\n",
       "    ...],\n",
       "   'cik': '1002047',\n",
       "   'cusip6': '64110D',\n",
       "   'text': '>Item 1.  \\nBusiness\\n\\n\\nOverview\\n\\n\\nNetApp, Inc. (NetApp, we, us or the Company) is a global cloud-led, data-centric software company. We were incorporated in 1992 and are headquartered in San Jose, California. Building on more than three decades of innovation, we give customers the freedom to manage applications and data across hybrid multicloud environments. Our portfolio of cloud services, and storage infrastructure, powered by intelligent data management software, enables applications to run faster, more reliably, and more securely, all at a lower cost.\\n\\n\\nOur opportunity is defined by the durable megatrends of data-driven digital and cloud transformations. NetApp helps organizations meet the complexities created by rapid data and cloud growth, multi-cloud management, and the adoption of next-generation technologies, such as AI, Kubernetes, and modern databases. Our modern approach to hybrid, multicloud infrastructure and data management, which we term ‘evolved cloud’, provides customers the ability to leverage data across their entire estate with simplicity, security, and sustainability which increases our relevance and value to our customers.\\n\\n\\nIn an evolved cloud state, the cloud is fully integrated into an organization’s architecture and operations. Data centers and clouds are seamlessly united and hybrid multicloud operations are simplified, with consistency and observability across environments. The key benefits NetApp brings to an organization’s hybrid multicloud environment are:\\n\\n\\n•\\nOperational simplicity: NetApp’s use of open source, open architectures and APIs, microservices, and common capabilities and data services facilitate the creation of applications that can run anywhere.\\n\\n\\n•\\nFlexibility and consistency: NetApp makes moving data and applications between environments seamless through a common storage foundation across on-premises and multicloud environments.',\n",
       "   'source': 'https://www.sec.gov/Archives/edgar/data/1002047/000095017023027948/0000950170-23-027948-index.htm',\n",
       "   'chunkId': '0000950170-23-027948-item1-chunk0000',\n",
       "   'chunkSeqId': 0}}]"
      ]
     },
     "execution_count": 175,
     "metadata": {},
     "output_type": "execute_result"
    }
   ],
   "source": [
    "# Create a single chunk node for now\n",
    "kg.query(merge_chunk_node_query, \n",
    "         params={'chunkParam':first_file_chunks[0]})"
   ]
  },
  {
   "cell_type": "code",
   "execution_count": 176,
   "metadata": {},
   "outputs": [
    {
     "data": {
      "text/plain": [
       "[]"
      ]
     },
     "execution_count": 176,
     "metadata": {},
     "output_type": "execute_result"
    }
   ],
   "source": [
    "# Create a uniqueness constraint to avoid duplicate chunks\n",
    "kg.query(\"\"\"\n",
    "CREATE CONSTRAINT unique_chunk IF NOT EXISTS \n",
    "    FOR (c:Chunk) REQUIRE c.chunkId IS UNIQUE\n",
    "\"\"\")"
   ]
  },
  {
   "cell_type": "code",
   "execution_count": 177,
   "metadata": {},
   "outputs": [
    {
     "data": {
      "text/plain": [
       "[{'id': 5,\n",
       "  'name': 'form_10k_chunks',\n",
       "  'state': 'ONLINE',\n",
       "  'populationPercent': 100.0,\n",
       "  'type': 'VECTOR',\n",
       "  'entityType': 'NODE',\n",
       "  'labelsOrTypes': ['Chunk'],\n",
       "  'properties': ['textEmbedding'],\n",
       "  'indexProvider': 'vector-2.0',\n",
       "  'owningConstraint': None,\n",
       "  'lastRead': neo4j.time.DateTime(2024, 3, 17, 18, 29, 50, 164000000, tzinfo=<UTC>),\n",
       "  'readCount': 13},\n",
       " {'id': 8,\n",
       "  'name': 'fullTextManagerNames',\n",
       "  'state': 'ONLINE',\n",
       "  'populationPercent': 100.0,\n",
       "  'type': 'FULLTEXT',\n",
       "  'entityType': 'NODE',\n",
       "  'labelsOrTypes': ['Manager'],\n",
       "  'properties': ['managerName'],\n",
       "  'indexProvider': 'fulltext-1.0',\n",
       "  'owningConstraint': None,\n",
       "  'lastRead': neo4j.time.DateTime(2024, 3, 17, 19, 32, 37, 661000000, tzinfo=<UTC>),\n",
       "  'readCount': 1},\n",
       " {'id': 1,\n",
       "  'name': 'index_343aff4e',\n",
       "  'state': 'ONLINE',\n",
       "  'populationPercent': 100.0,\n",
       "  'type': 'LOOKUP',\n",
       "  'entityType': 'NODE',\n",
       "  'labelsOrTypes': None,\n",
       "  'properties': None,\n",
       "  'indexProvider': 'token-lookup-1.0',\n",
       "  'owningConstraint': None,\n",
       "  'lastRead': neo4j.time.DateTime(2024, 3, 17, 19, 36, 2, 333000000, tzinfo=<UTC>),\n",
       "  'readCount': 47},\n",
       " {'id': 2,\n",
       "  'name': 'index_f7700477',\n",
       "  'state': 'ONLINE',\n",
       "  'populationPercent': 100.0,\n",
       "  'type': 'LOOKUP',\n",
       "  'entityType': 'RELATIONSHIP',\n",
       "  'labelsOrTypes': None,\n",
       "  'properties': None,\n",
       "  'indexProvider': 'token-lookup-1.0',\n",
       "  'owningConstraint': None,\n",
       "  'lastRead': None,\n",
       "  'readCount': 0},\n",
       " {'id': 3,\n",
       "  'name': 'unique_chunk',\n",
       "  'state': 'ONLINE',\n",
       "  'populationPercent': 100.0,\n",
       "  'type': 'RANGE',\n",
       "  'entityType': 'NODE',\n",
       "  'labelsOrTypes': ['Chunk'],\n",
       "  'properties': ['chunkId'],\n",
       "  'indexProvider': 'range-1.0',\n",
       "  'owningConstraint': 'unique_chunk',\n",
       "  'lastRead': neo4j.time.DateTime(2024, 3, 17, 18, 14, 36, 440000000, tzinfo=<UTC>),\n",
       "  'readCount': 73},\n",
       " {'id': 6,\n",
       "  'name': 'unique_manager',\n",
       "  'state': 'ONLINE',\n",
       "  'populationPercent': 100.0,\n",
       "  'type': 'RANGE',\n",
       "  'entityType': 'NODE',\n",
       "  'labelsOrTypes': ['Manager'],\n",
       "  'properties': ['managerCik'],\n",
       "  'indexProvider': 'range-1.0',\n",
       "  'owningConstraint': 'unique_manager',\n",
       "  'lastRead': neo4j.time.DateTime(2024, 3, 17, 19, 36, 2, 331000000, tzinfo=<UTC>),\n",
       "  'readCount': 1682}]"
      ]
     },
     "execution_count": 177,
     "metadata": {},
     "output_type": "execute_result"
    }
   ],
   "source": [
    "kg.query(\"SHOW INDEXES\")"
   ]
  },
  {
   "cell_type": "code",
   "execution_count": 178,
   "metadata": {},
   "outputs": [
    {
     "name": "stdout",
     "output_type": "stream",
     "text": [
      "Creating `:Chunk` node for chunk ID 0000950170-23-027948-item1-chunk0000\n",
      "Creating `:Chunk` node for chunk ID 0000950170-23-027948-item1-chunk0001\n",
      "Creating `:Chunk` node for chunk ID 0000950170-23-027948-item1-chunk0002\n",
      "Creating `:Chunk` node for chunk ID 0000950170-23-027948-item1-chunk0003\n",
      "Creating `:Chunk` node for chunk ID 0000950170-23-027948-item1-chunk0004\n",
      "Creating `:Chunk` node for chunk ID 0000950170-23-027948-item1-chunk0005\n",
      "Creating `:Chunk` node for chunk ID 0000950170-23-027948-item1-chunk0006\n",
      "Creating `:Chunk` node for chunk ID 0000950170-23-027948-item1-chunk0007\n",
      "Creating `:Chunk` node for chunk ID 0000950170-23-027948-item1-chunk0008\n",
      "Creating `:Chunk` node for chunk ID 0000950170-23-027948-item1-chunk0009\n",
      "Creating `:Chunk` node for chunk ID 0000950170-23-027948-item1-chunk0010\n",
      "Creating `:Chunk` node for chunk ID 0000950170-23-027948-item1-chunk0011\n",
      "Creating `:Chunk` node for chunk ID 0000950170-23-027948-item1-chunk0012\n",
      "Creating `:Chunk` node for chunk ID 0000950170-23-027948-item1-chunk0013\n",
      "Creating `:Chunk` node for chunk ID 0000950170-23-027948-item1-chunk0014\n",
      "Creating `:Chunk` node for chunk ID 0000950170-23-027948-item1-chunk0015\n",
      "Creating `:Chunk` node for chunk ID 0000950170-23-027948-item1-chunk0016\n",
      "Creating `:Chunk` node for chunk ID 0000950170-23-027948-item1-chunk0017\n",
      "Creating `:Chunk` node for chunk ID 0000950170-23-027948-item1-chunk0018\n",
      "Creating `:Chunk` node for chunk ID 0000950170-23-027948-item1-chunk0019\n",
      "Creating `:Chunk` node for chunk ID 0000950170-23-027948-item1a-chunk0000\n",
      "Creating `:Chunk` node for chunk ID 0000950170-23-027948-item7-chunk0000\n",
      "Creating `:Chunk` node for chunk ID 0000950170-23-027948-item7a-chunk0000\n",
      "Created 23 nodes\n"
     ]
    }
   ],
   "source": [
    "# now Loop through and create nodes for all chunks\n",
    "# Should create 23 nodes because you set a limit of 20 chunks in the text splitting function above\n",
    "node_count = 0\n",
    "for chunk in first_file_chunks:\n",
    "    print(f\"Creating `:Chunk` node for chunk ID {chunk['chunkId']}\")\n",
    "    kg.query(merge_chunk_node_query, params={ 'chunkParam': chunk})\n",
    "    node_count += 1\n",
    "print(f\"Created {node_count} nodes\")"
   ]
  },
  {
   "cell_type": "code",
   "execution_count": 179,
   "metadata": {},
   "outputs": [
    {
     "data": {
      "text/plain": [
       "[{'nodeCount': 586}]"
      ]
     },
     "execution_count": 179,
     "metadata": {},
     "output_type": "execute_result"
    }
   ],
   "source": [
    "kg.query(\"\"\"\n",
    "         MATCH (n)\n",
    "         RETURN count(n) as nodeCount\n",
    "         \"\"\")"
   ]
  },
  {
   "cell_type": "markdown",
   "metadata": {},
   "source": [
    "## Create a vector index"
   ]
  },
  {
   "cell_type": "code",
   "execution_count": 180,
   "metadata": {},
   "outputs": [
    {
     "data": {
      "text/plain": [
       "[]"
      ]
     },
     "execution_count": 180,
     "metadata": {},
     "output_type": "execute_result"
    }
   ],
   "source": [
    "kg.query(\"\"\"\n",
    "         CREATE VECTOR INDEX `form_10k_chunks` IF NOT EXISTS\n",
    "          FOR (c:Chunk) ON (c.textEmbedding) \n",
    "          OPTIONS { indexConfig: {\n",
    "            `vector.dimensions`: 1536,\n",
    "            `vector.similarity_function`: 'cosine'    \n",
    "         }}\n",
    "\"\"\")"
   ]
  },
  {
   "cell_type": "code",
   "execution_count": 181,
   "metadata": {},
   "outputs": [
    {
     "data": {
      "text/plain": [
       "[{'id': 5,\n",
       "  'name': 'form_10k_chunks',\n",
       "  'state': 'ONLINE',\n",
       "  'populationPercent': 100.0,\n",
       "  'type': 'VECTOR',\n",
       "  'entityType': 'NODE',\n",
       "  'labelsOrTypes': ['Chunk'],\n",
       "  'properties': ['textEmbedding'],\n",
       "  'indexProvider': 'vector-2.0',\n",
       "  'owningConstraint': None,\n",
       "  'lastRead': neo4j.time.DateTime(2024, 3, 17, 18, 29, 50, 164000000, tzinfo=<UTC>),\n",
       "  'readCount': 13},\n",
       " {'id': 8,\n",
       "  'name': 'fullTextManagerNames',\n",
       "  'state': 'ONLINE',\n",
       "  'populationPercent': 100.0,\n",
       "  'type': 'FULLTEXT',\n",
       "  'entityType': 'NODE',\n",
       "  'labelsOrTypes': ['Manager'],\n",
       "  'properties': ['managerName'],\n",
       "  'indexProvider': 'fulltext-1.0',\n",
       "  'owningConstraint': None,\n",
       "  'lastRead': neo4j.time.DateTime(2024, 3, 17, 19, 32, 37, 661000000, tzinfo=<UTC>),\n",
       "  'readCount': 1},\n",
       " {'id': 1,\n",
       "  'name': 'index_343aff4e',\n",
       "  'state': 'ONLINE',\n",
       "  'populationPercent': 100.0,\n",
       "  'type': 'LOOKUP',\n",
       "  'entityType': 'NODE',\n",
       "  'labelsOrTypes': None,\n",
       "  'properties': None,\n",
       "  'indexProvider': 'token-lookup-1.0',\n",
       "  'owningConstraint': None,\n",
       "  'lastRead': neo4j.time.DateTime(2024, 3, 17, 19, 36, 2, 333000000, tzinfo=<UTC>),\n",
       "  'readCount': 47},\n",
       " {'id': 2,\n",
       "  'name': 'index_f7700477',\n",
       "  'state': 'ONLINE',\n",
       "  'populationPercent': 100.0,\n",
       "  'type': 'LOOKUP',\n",
       "  'entityType': 'RELATIONSHIP',\n",
       "  'labelsOrTypes': None,\n",
       "  'properties': None,\n",
       "  'indexProvider': 'token-lookup-1.0',\n",
       "  'owningConstraint': None,\n",
       "  'lastRead': None,\n",
       "  'readCount': 0},\n",
       " {'id': 3,\n",
       "  'name': 'unique_chunk',\n",
       "  'state': 'ONLINE',\n",
       "  'populationPercent': 100.0,\n",
       "  'type': 'RANGE',\n",
       "  'entityType': 'NODE',\n",
       "  'labelsOrTypes': ['Chunk'],\n",
       "  'properties': ['chunkId'],\n",
       "  'indexProvider': 'range-1.0',\n",
       "  'owningConstraint': 'unique_chunk',\n",
       "  'lastRead': neo4j.time.DateTime(2024, 3, 17, 18, 14, 36, 440000000, tzinfo=<UTC>),\n",
       "  'readCount': 73},\n",
       " {'id': 6,\n",
       "  'name': 'unique_manager',\n",
       "  'state': 'ONLINE',\n",
       "  'populationPercent': 100.0,\n",
       "  'type': 'RANGE',\n",
       "  'entityType': 'NODE',\n",
       "  'labelsOrTypes': ['Manager'],\n",
       "  'properties': ['managerCik'],\n",
       "  'indexProvider': 'range-1.0',\n",
       "  'owningConstraint': 'unique_manager',\n",
       "  'lastRead': neo4j.time.DateTime(2024, 3, 17, 19, 36, 2, 331000000, tzinfo=<UTC>),\n",
       "  'readCount': 1682}]"
      ]
     },
     "execution_count": 181,
     "metadata": {},
     "output_type": "execute_result"
    }
   ],
   "source": [
    "kg.query(\"SHOW INDEXES\")"
   ]
  },
  {
   "cell_type": "markdown",
   "metadata": {},
   "source": [
    "## Calculate embedding vectors for chunks and populate index\n",
    "\n",
    "This query calculates the embedding vector and stores it as a property called textEmbedding on each Chunk node."
   ]
  },
  {
   "cell_type": "code",
   "execution_count": 182,
   "metadata": {},
   "outputs": [
    {
     "data": {
      "text/plain": [
       "[]"
      ]
     },
     "execution_count": 182,
     "metadata": {},
     "output_type": "execute_result"
    }
   ],
   "source": [
    "kg.query(\"\"\"\n",
    "    MATCH (chunk:Chunk) WHERE chunk.textEmbedding IS NULL\n",
    "    WITH chunk, genai.vector.encode(chunk.text,\"OpenAI\", {token: $openAiApiKey}) AS vector\n",
    "    CALL db.create.setNodeVectorProperty(chunk, \"textEmbedding\", vector)\n",
    "    \"\"\", \n",
    "    params={\"openAiApiKey\":OPENAI_API_KEY} )"
   ]
  },
  {
   "cell_type": "code",
   "execution_count": 183,
   "metadata": {},
   "outputs": [
    {
     "name": "stdout",
     "output_type": "stream",
     "text": [
      "Node properties are the following:\n",
      "Chunk {textEmbedding: LIST, f10kItem: STRING, chunkSeqId: INTEGER, text: STRING, cik: STRING, cusip6: STRING, names: LIST, formId: STRING, source: STRING, chunkId: STRING},Form {cik: STRING, cusip6: STRING, names: LIST, formId: STRING, source: STRING},Company {cusip6: STRING, names: LIST, companyName: STRING, cusip: STRING},Manager {managerName: STRING, managerCik: STRING, managerAddress: STRING}\n",
      "Relationship properties are the following:\n",
      "SECTION {f10kItem: STRING}\n",
      "The relationships are the following:\n",
      "(:Chunk)-[:NEXT]->(:Chunk),(:Chunk)-[:PART_OF]->(:Form),(:Form)-[:SECTION]->(:Chunk),(:Company)-[:FILED]->(:Form)\n"
     ]
    }
   ],
   "source": [
    "kg.refresh_schema()\n",
    "print(kg.schema)"
   ]
  },
  {
   "cell_type": "markdown",
   "metadata": {},
   "source": [
    "## Use similarity search to find relevant chunks"
   ]
  },
  {
   "cell_type": "code",
   "execution_count": 184,
   "metadata": {},
   "outputs": [],
   "source": [
    "# help function to perform similarity search using the vector index\n",
    "def neo4j_vector_search(question):\n",
    "  \"\"\"Search for similar nodes using the Neo4j vector index\"\"\"\n",
    "  vector_search_query = \"\"\"\n",
    "    WITH genai.vector.encode(\n",
    "      $question, \n",
    "      \"OpenAI\", {token: $openAiApiKey}) AS question_embedding\n",
    "    CALL db.index.vector.queryNodes($index_name, $top_k, question_embedding) yield node, score\n",
    "    RETURN score, node.text AS text\n",
    "  \"\"\"\n",
    "  similar = kg.query(vector_search_query, \n",
    "                     params={\n",
    "                      'question': question, \n",
    "                      'openAiApiKey':OPENAI_API_KEY,\n",
    "                      'index_name':VECTOR_INDEX_NAME, \n",
    "                      'top_k': 10})\n",
    "  return similar"
   ]
  },
  {
   "cell_type": "code",
   "execution_count": 185,
   "metadata": {},
   "outputs": [
    {
     "data": {
      "text/plain": [
       "{'score': 0.9358518719673157,\n",
       " 'text': '>Item 1.  \\nBusiness\\n\\n\\nOverview\\n\\n\\nNetApp, Inc. (NetApp, we, us or the Company) is a global cloud-led, data-centric software company. We were incorporated in 1992 and are headquartered in San Jose, California. Building on more than three decades of innovation, we give customers the freedom to manage applications and data across hybrid multicloud environments. Our portfolio of cloud services, and storage infrastructure, powered by intelligent data management software, enables applications to run faster, more reliably, and more securely, all at a lower cost.\\n\\n\\nOur opportunity is defined by the durable megatrends of data-driven digital and cloud transformations. NetApp helps organizations meet the complexities created by rapid data and cloud growth, multi-cloud management, and the adoption of next-generation technologies, such as AI, Kubernetes, and modern databases. Our modern approach to hybrid, multicloud infrastructure and data management, which we term ‘evolved cloud’, provides customers the ability to leverage data across their entire estate with simplicity, security, and sustainability which increases our relevance and value to our customers.\\n\\n\\nIn an evolved cloud state, the cloud is fully integrated into an organization’s architecture and operations. Data centers and clouds are seamlessly united and hybrid multicloud operations are simplified, with consistency and observability across environments. The key benefits NetApp brings to an organization’s hybrid multicloud environment are:\\n\\n\\n•\\nOperational simplicity: NetApp’s use of open source, open architectures and APIs, microservices, and common capabilities and data services facilitate the creation of applications that can run anywhere.\\n\\n\\n•\\nFlexibility and consistency: NetApp makes moving data and applications between environments seamless through a common storage foundation across on-premises and multicloud environments.'}"
      ]
     },
     "execution_count": 185,
     "metadata": {},
     "output_type": "execute_result"
    }
   ],
   "source": [
    "search_results = neo4j_vector_search(\n",
    "    'In a single sentence, tell me about Netapp.'\n",
    ")\n",
    "search_results[0]"
   ]
  },
  {
   "cell_type": "markdown",
   "metadata": {},
   "source": [
    "## Set up a LangChain RAG workflow to chat with the form\n",
    "\n",
    "- Set up a RetrievalQAWithSourcesChain to carry out question answering\n",
    "- You can check out the LangChain documentation for this chain [here](https://api.python.langchain.com/en/latest/chains/langchain.chains.qa_with_sources.retrieval.RetrievalQAWithSourcesChain.html)"
   ]
  },
  {
   "cell_type": "code",
   "execution_count": 186,
   "metadata": {},
   "outputs": [
    {
     "name": "stderr",
     "output_type": "stream",
     "text": [
      "Failed to write data to connection IPv4Address(('localhost', 7687)) (ResolvedIPv4Address(('127.0.0.1', 7687)))\n"
     ]
    }
   ],
   "source": [
    "# use factrory method to create Neo4jVector from existing graph database\n",
    "# under the hood, it use cypher to query vector store\n",
    "neo4j_vector_store = Neo4jVector.from_existing_graph(\n",
    "    embedding=OpenAIEmbeddings(),\n",
    "    url=NEO4J_URI,\n",
    "    username=NEO4J_USERNAME,\n",
    "    password=NEO4J_PASSWORD,\n",
    "    database=\"ten-k\",\n",
    "    index_name=VECTOR_INDEX_NAME,\n",
    "    node_label=VECTOR_NODE_LABEL,\n",
    "    text_node_properties=[VECTOR_SOURCE_PROPERTY],\n",
    "    embedding_node_property=VECTOR_EMBEDDING_PROPERTY,\n",
    ")\n",
    "# Create a retriever from the vector store\n",
    "retriever = neo4j_vector_store.as_retriever()\n",
    "# Create a chain with the retriever, query-answer type of interaction\n",
    "chain = RetrievalQAWithSourcesChain.from_chain_type(\n",
    "    ChatOpenAI(temperature=0), \n",
    "    chain_type=\"stuff\", \n",
    "    retriever=retriever\n",
    ")\n",
    "# print the chain's response to a question\n",
    "def prettychain(question: str) -> str:\n",
    "    \"\"\"Pretty print the chain's response to a question\"\"\"\n",
    "    response = chain({\"question\": question},\n",
    "        return_only_outputs=True,)\n",
    "    print(textwrap.fill(response['answer'], 60))"
   ]
  },
  {
   "cell_type": "code",
   "execution_count": 187,
   "metadata": {},
   "outputs": [
    {
     "name": "stdout",
     "output_type": "stream",
     "text": [
      "NetApp's primary business is enterprise storage and data\n",
      "management, cloud storage, and cloud operations.\n"
     ]
    }
   ],
   "source": [
    "question = \"What is Netapp's primary business?\"\n",
    "prettychain(question)"
   ]
  },
  {
   "cell_type": "code",
   "execution_count": 188,
   "metadata": {},
   "outputs": [
    {
     "name": "stdout",
     "output_type": "stream",
     "text": [
      "Netapp is headquartered in San Jose, California.\n"
     ]
    }
   ],
   "source": [
    "prettychain(\"Where is Netapp headquartered?\")"
   ]
  },
  {
   "cell_type": "code",
   "execution_count": 189,
   "metadata": {},
   "outputs": [
    {
     "name": "stdout",
     "output_type": "stream",
     "text": [
      "Apple is a global cloud-led, data-centric software company\n",
      "headquartered in San Jose, California, that provides\n",
      "customers the freedom to manage applications and data across\n",
      "hybrid multicloud environments.\n"
     ]
    }
   ],
   "source": [
    "# classical hallicunation\n",
    "prettychain(\"\"\"\n",
    "    Tell me about Apple. \n",
    "    Limit your answer to a single sentence.\n",
    "\"\"\")"
   ]
  },
  {
   "cell_type": "code",
   "execution_count": 190,
   "metadata": {},
   "outputs": [
    {
     "name": "stdout",
     "output_type": "stream",
     "text": [
      "I don't know.\n"
     ]
    }
   ],
   "source": [
    "# so tell your llm that you need to say don't instead of hallucinating with best effort\n",
    "prettychain(\"\"\"\n",
    "    Tell me about Apple. \n",
    "    Limit your answer to a single sentence.\n",
    "    If you are unsure about the answer, say you don't know.\n",
    "\"\"\")"
   ]
  },
  {
   "cell_type": "markdown",
   "metadata": {},
   "source": [
    "# Adding Relationships to the SEC Knowledge Graph\n",
    "\n",
    "The oridinal structure of the documents needs to be preseserved.\n",
    "\n",
    "## Create a Form 10-K node\n",
    "- Create a node to represent the entire Form 10-K\n",
    "- Populate with metadata taken from a single chunk of the form"
   ]
  },
  {
   "cell_type": "code",
   "execution_count": 191,
   "metadata": {},
   "outputs": [
    {
     "data": {
      "text/plain": [
       "[{'formInfo': {'cik': '1002047',\n",
       "   'source': 'https://www.sec.gov/Archives/edgar/data/1002047/000095017023027948/0000950170-23-027948-index.htm',\n",
       "   'formId': '0000950170-23-027948',\n",
       "   'names': ['Netapp Inc', 'NETAPP INC'],\n",
       "   'cusip6': '64110D'}}]"
      ]
     },
     "execution_count": 191,
     "metadata": {},
     "output_type": "execute_result"
    }
   ],
   "source": [
    "cypher = \"\"\"\n",
    "  MATCH (anyChunk:Chunk) \n",
    "  WITH anyChunk LIMIT 1\n",
    "  RETURN anyChunk { .names, .source, .formId, .cik, .cusip6 } as formInfo\n",
    "\"\"\"\n",
    "form_info_list = kg.query(cypher)\n",
    "\n",
    "form_info_list"
   ]
  },
  {
   "cell_type": "code",
   "execution_count": 192,
   "metadata": {},
   "outputs": [
    {
     "data": {
      "text/plain": [
       "{'cik': '1002047',\n",
       " 'source': 'https://www.sec.gov/Archives/edgar/data/1002047/000095017023027948/0000950170-23-027948-index.htm',\n",
       " 'formId': '0000950170-23-027948',\n",
       " 'names': ['Netapp Inc', 'NETAPP INC'],\n",
       " 'cusip6': '64110D'}"
      ]
     },
     "execution_count": 192,
     "metadata": {},
     "output_type": "execute_result"
    }
   ],
   "source": [
    "form_info = form_info_list[0]['formInfo']\n",
    "form_info"
   ]
  },
  {
   "cell_type": "code",
   "execution_count": 193,
   "metadata": {},
   "outputs": [
    {
     "data": {
      "text/plain": [
       "[]"
      ]
     },
     "execution_count": 193,
     "metadata": {},
     "output_type": "execute_result"
    }
   ],
   "source": [
    "cypher = \"\"\"\n",
    "    MERGE (f:Form {formId: $formInfoParam.formId })\n",
    "      ON CREATE \n",
    "        SET f.names = $formInfoParam.names\n",
    "        SET f.source = $formInfoParam.source\n",
    "        SET f.cik = $formInfoParam.cik\n",
    "        SET f.cusip6 = $formInfoParam.cusip6\n",
    "\"\"\"\n",
    "\n",
    "kg.query(cypher, params={'formInfoParam': form_info})"
   ]
  },
  {
   "cell_type": "code",
   "execution_count": 194,
   "metadata": {},
   "outputs": [
    {
     "data": {
      "text/plain": [
       "[{'formCount': 1}]"
      ]
     },
     "execution_count": 194,
     "metadata": {},
     "output_type": "execute_result"
    }
   ],
   "source": [
    "# check if it works\n",
    "kg.query(\"MATCH (f:Form) RETURN count(f) as formCount\")"
   ]
  },
  {
   "cell_type": "markdown",
   "metadata": {},
   "source": [
    "## Create a linked list of Chunk nodes for each section\n",
    "\n",
    "Add relationsships to improve the contexct of each chunk (feflect the original structure of the doc).  Start by identifying chunks from the same section\n",
    "\n",
    "<img src=\"./data/relationships.png\" width=\"500\">"
   ]
  },
  {
   "cell_type": "code",
   "execution_count": 195,
   "metadata": {},
   "outputs": [
    {
     "data": {
      "text/plain": [
       "[{'chunkInfo': {'formId': '0000950170-23-027948',\n",
       "   'f10kItem': 'item1',\n",
       "   'chunkId': '0000950170-23-027948-item1-chunk0000',\n",
       "   'chunkSeqId': 0}},\n",
       " {'chunkInfo': {'formId': '0000950170-23-027948',\n",
       "   'f10kItem': 'item1',\n",
       "   'chunkId': '0000950170-23-027948-item1-chunk0001',\n",
       "   'chunkSeqId': 1}},\n",
       " {'chunkInfo': {'formId': '0000950170-23-027948',\n",
       "   'f10kItem': 'item1',\n",
       "   'chunkId': '0000950170-23-027948-item1-chunk0002',\n",
       "   'chunkSeqId': 2}},\n",
       " {'chunkInfo': {'formId': '0000950170-23-027948',\n",
       "   'f10kItem': 'item1',\n",
       "   'chunkId': '0000950170-23-027948-item1-chunk0003',\n",
       "   'chunkSeqId': 3}},\n",
       " {'chunkInfo': {'formId': '0000950170-23-027948',\n",
       "   'f10kItem': 'item1',\n",
       "   'chunkId': '0000950170-23-027948-item1-chunk0004',\n",
       "   'chunkSeqId': 4}},\n",
       " {'chunkInfo': {'formId': '0000950170-23-027948',\n",
       "   'f10kItem': 'item1',\n",
       "   'chunkId': '0000950170-23-027948-item1-chunk0005',\n",
       "   'chunkSeqId': 5}},\n",
       " {'chunkInfo': {'formId': '0000950170-23-027948',\n",
       "   'f10kItem': 'item1',\n",
       "   'chunkId': '0000950170-23-027948-item1-chunk0006',\n",
       "   'chunkSeqId': 6}},\n",
       " {'chunkInfo': {'formId': '0000950170-23-027948',\n",
       "   'f10kItem': 'item1',\n",
       "   'chunkId': '0000950170-23-027948-item1-chunk0007',\n",
       "   'chunkSeqId': 7}},\n",
       " {'chunkInfo': {'formId': '0000950170-23-027948',\n",
       "   'f10kItem': 'item1',\n",
       "   'chunkId': '0000950170-23-027948-item1-chunk0008',\n",
       "   'chunkSeqId': 8}},\n",
       " {'chunkInfo': {'formId': '0000950170-23-027948',\n",
       "   'f10kItem': 'item1',\n",
       "   'chunkId': '0000950170-23-027948-item1-chunk0009',\n",
       "   'chunkSeqId': 9}}]"
      ]
     },
     "execution_count": 195,
     "metadata": {},
     "output_type": "execute_result"
    }
   ],
   "source": [
    "cypher = \"\"\"\n",
    "  MATCH (from_same_form:Chunk)\n",
    "    WHERE from_same_form.formId = $formIdParam\n",
    "  RETURN from_same_form {.formId, .f10kItem, .chunkId, .chunkSeqId } as chunkInfo\n",
    "    LIMIT 10\n",
    "\"\"\"\n",
    "\n",
    "kg.query(cypher, params={'formIdParam': form_info['formId']})"
   ]
  },
  {
   "cell_type": "code",
   "execution_count": 196,
   "metadata": {},
   "outputs": [
    {
     "data": {
      "text/plain": [
       "[{'chunkInfo': {'formId': '0000950170-23-027948',\n",
       "   'f10kItem': 'item7a',\n",
       "   'chunkId': '0000950170-23-027948-item7a-chunk0000',\n",
       "   'chunkSeqId': 0}},\n",
       " {'chunkInfo': {'formId': '0000950170-23-027948',\n",
       "   'f10kItem': 'item7',\n",
       "   'chunkId': '0000950170-23-027948-item7-chunk0000',\n",
       "   'chunkSeqId': 0}},\n",
       " {'chunkInfo': {'formId': '0000950170-23-027948',\n",
       "   'f10kItem': 'item1a',\n",
       "   'chunkId': '0000950170-23-027948-item1a-chunk0000',\n",
       "   'chunkSeqId': 0}},\n",
       " {'chunkInfo': {'formId': '0000950170-23-027948',\n",
       "   'f10kItem': 'item1',\n",
       "   'chunkId': '0000950170-23-027948-item1-chunk0000',\n",
       "   'chunkSeqId': 0}},\n",
       " {'chunkInfo': {'formId': '0000950170-23-027948',\n",
       "   'f10kItem': 'item1',\n",
       "   'chunkId': '0000950170-23-027948-item1-chunk0001',\n",
       "   'chunkSeqId': 1}},\n",
       " {'chunkInfo': {'formId': '0000950170-23-027948',\n",
       "   'f10kItem': 'item1',\n",
       "   'chunkId': '0000950170-23-027948-item1-chunk0002',\n",
       "   'chunkSeqId': 2}},\n",
       " {'chunkInfo': {'formId': '0000950170-23-027948',\n",
       "   'f10kItem': 'item1',\n",
       "   'chunkId': '0000950170-23-027948-item1-chunk0003',\n",
       "   'chunkSeqId': 3}},\n",
       " {'chunkInfo': {'formId': '0000950170-23-027948',\n",
       "   'f10kItem': 'item1',\n",
       "   'chunkId': '0000950170-23-027948-item1-chunk0004',\n",
       "   'chunkSeqId': 4}},\n",
       " {'chunkInfo': {'formId': '0000950170-23-027948',\n",
       "   'f10kItem': 'item1',\n",
       "   'chunkId': '0000950170-23-027948-item1-chunk0005',\n",
       "   'chunkSeqId': 5}},\n",
       " {'chunkInfo': {'formId': '0000950170-23-027948',\n",
       "   'f10kItem': 'item1',\n",
       "   'chunkId': '0000950170-23-027948-item1-chunk0006',\n",
       "   'chunkSeqId': 6}}]"
      ]
     },
     "execution_count": 196,
     "metadata": {},
     "output_type": "execute_result"
    }
   ],
   "source": [
    "# order by chunkSeqId\n",
    "cypher = \"\"\"\n",
    "  MATCH (from_same_form:Chunk)\n",
    "    WHERE from_same_form.formId = $formIdParam\n",
    "  RETURN from_same_form {.formId, .f10kItem, .chunkId, .chunkSeqId } as chunkInfo \n",
    "    ORDER BY from_same_form.chunkSeqId ASC\n",
    "    LIMIT 10\n",
    "\"\"\"\n",
    "\n",
    "kg.query(cypher, params={'formIdParam': form_info['formId']})"
   ]
  },
  {
   "cell_type": "code",
   "execution_count": 197,
   "metadata": {},
   "outputs": [
    {
     "data": {
      "text/plain": [
       "[{'from_same_section': {'formId': '0000950170-23-027948',\n",
       "   'f10kItem': 'item1',\n",
       "   'chunkId': '0000950170-23-027948-item1-chunk0000',\n",
       "   'chunkSeqId': 0}},\n",
       " {'from_same_section': {'formId': '0000950170-23-027948',\n",
       "   'f10kItem': 'item1',\n",
       "   'chunkId': '0000950170-23-027948-item1-chunk0001',\n",
       "   'chunkSeqId': 1}},\n",
       " {'from_same_section': {'formId': '0000950170-23-027948',\n",
       "   'f10kItem': 'item1',\n",
       "   'chunkId': '0000950170-23-027948-item1-chunk0002',\n",
       "   'chunkSeqId': 2}},\n",
       " {'from_same_section': {'formId': '0000950170-23-027948',\n",
       "   'f10kItem': 'item1',\n",
       "   'chunkId': '0000950170-23-027948-item1-chunk0003',\n",
       "   'chunkSeqId': 3}},\n",
       " {'from_same_section': {'formId': '0000950170-23-027948',\n",
       "   'f10kItem': 'item1',\n",
       "   'chunkId': '0000950170-23-027948-item1-chunk0004',\n",
       "   'chunkSeqId': 4}},\n",
       " {'from_same_section': {'formId': '0000950170-23-027948',\n",
       "   'f10kItem': 'item1',\n",
       "   'chunkId': '0000950170-23-027948-item1-chunk0005',\n",
       "   'chunkSeqId': 5}},\n",
       " {'from_same_section': {'formId': '0000950170-23-027948',\n",
       "   'f10kItem': 'item1',\n",
       "   'chunkId': '0000950170-23-027948-item1-chunk0006',\n",
       "   'chunkSeqId': 6}},\n",
       " {'from_same_section': {'formId': '0000950170-23-027948',\n",
       "   'f10kItem': 'item1',\n",
       "   'chunkId': '0000950170-23-027948-item1-chunk0007',\n",
       "   'chunkSeqId': 7}},\n",
       " {'from_same_section': {'formId': '0000950170-23-027948',\n",
       "   'f10kItem': 'item1',\n",
       "   'chunkId': '0000950170-23-027948-item1-chunk0008',\n",
       "   'chunkSeqId': 8}},\n",
       " {'from_same_section': {'formId': '0000950170-23-027948',\n",
       "   'f10kItem': 'item1',\n",
       "   'chunkId': '0000950170-23-027948-item1-chunk0009',\n",
       "   'chunkSeqId': 9}}]"
      ]
     },
     "execution_count": 197,
     "metadata": {},
     "output_type": "execute_result"
    }
   ],
   "source": [
    "# Limit chunks to just the \"Item 1\" section, the organize in ascending order\n",
    "cypher = \"\"\"\n",
    "  MATCH (from_same_section:Chunk)\n",
    "  WHERE from_same_section.formId = $formIdParam\n",
    "    AND from_same_section.f10kItem = $f10kItemParam // NEW!!!\n",
    "  RETURN from_same_section { .formId, .f10kItem, .chunkId, .chunkSeqId } \n",
    "    ORDER BY from_same_section.chunkSeqId ASC\n",
    "    LIMIT 10\n",
    "\"\"\"\n",
    "\n",
    "kg.query(cypher, params={'formIdParam': form_info['formId'], \n",
    "                         'f10kItemParam': 'item1'})"
   ]
  },
  {
   "cell_type": "code",
   "execution_count": 198,
   "metadata": {},
   "outputs": [
    {
     "data": {
      "text/plain": [
       "[{'collect(from_same_section)': [{'formId': '0000950170-23-027948',\n",
       "    'f10kItem': 'item1',\n",
       "    'chunkId': '0000950170-23-027948-item1-chunk0000',\n",
       "    'chunkSeqId': 0},\n",
       "   {'formId': '0000950170-23-027948',\n",
       "    'f10kItem': 'item1',\n",
       "    'chunkId': '0000950170-23-027948-item1-chunk0001',\n",
       "    'chunkSeqId': 1},\n",
       "   {'formId': '0000950170-23-027948',\n",
       "    'f10kItem': 'item1',\n",
       "    'chunkId': '0000950170-23-027948-item1-chunk0002',\n",
       "    'chunkSeqId': 2},\n",
       "   {'formId': '0000950170-23-027948',\n",
       "    'f10kItem': 'item1',\n",
       "    'chunkId': '0000950170-23-027948-item1-chunk0003',\n",
       "    'chunkSeqId': 3},\n",
       "   {'formId': '0000950170-23-027948',\n",
       "    'f10kItem': 'item1',\n",
       "    'chunkId': '0000950170-23-027948-item1-chunk0004',\n",
       "    'chunkSeqId': 4},\n",
       "   {'formId': '0000950170-23-027948',\n",
       "    'f10kItem': 'item1',\n",
       "    'chunkId': '0000950170-23-027948-item1-chunk0005',\n",
       "    'chunkSeqId': 5},\n",
       "   {'formId': '0000950170-23-027948',\n",
       "    'f10kItem': 'item1',\n",
       "    'chunkId': '0000950170-23-027948-item1-chunk0006',\n",
       "    'chunkSeqId': 6},\n",
       "   {'formId': '0000950170-23-027948',\n",
       "    'f10kItem': 'item1',\n",
       "    'chunkId': '0000950170-23-027948-item1-chunk0007',\n",
       "    'chunkSeqId': 7},\n",
       "   {'formId': '0000950170-23-027948',\n",
       "    'f10kItem': 'item1',\n",
       "    'chunkId': '0000950170-23-027948-item1-chunk0008',\n",
       "    'chunkSeqId': 8},\n",
       "   {'formId': '0000950170-23-027948',\n",
       "    'f10kItem': 'item1',\n",
       "    'chunkId': '0000950170-23-027948-item1-chunk0009',\n",
       "    'chunkSeqId': 9}]}]"
      ]
     },
     "execution_count": 198,
     "metadata": {},
     "output_type": "execute_result"
    }
   ],
   "source": [
    "# Collect ordered chunks into a list\n",
    "cypher = \"\"\"\n",
    "  MATCH (from_same_section:Chunk)\n",
    "  WHERE from_same_section.formId = $formIdParam\n",
    "    AND from_same_section.f10kItem = $f10kItemParam\n",
    "  WITH from_same_section { .formId, .f10kItem, .chunkId, .chunkSeqId } \n",
    "    ORDER BY from_same_section.chunkSeqId ASC\n",
    "    LIMIT 10\n",
    "  RETURN collect(from_same_section) // NEW!!!\n",
    "\"\"\"\n",
    "\n",
    "kg.query(cypher, params={'formIdParam': form_info['formId'], \n",
    "                         'f10kItemParam': 'item1'})\n"
   ]
  },
  {
   "cell_type": "markdown",
   "metadata": {},
   "source": [
    "## Add a NEXT relationship between subsequent chunks\n",
    "Use the apoc.nodes.link function from Neo4j to link ordered list of Chunk nodes with a NEXT relationship\n",
    "Do this for just the \"Item 1\" section to start"
   ]
  },
  {
   "cell_type": "code",
   "execution_count": 199,
   "metadata": {},
   "outputs": [
    {
     "data": {
      "text/plain": [
       "[{'size(section_chunk_list)': 20}]"
      ]
     },
     "execution_count": 199,
     "metadata": {},
     "output_type": "execute_result"
    }
   ],
   "source": [
    "cypher = \"\"\"\n",
    "  MATCH (from_same_section:Chunk)\n",
    "  WHERE from_same_section.formId = $formIdParam\n",
    "    AND from_same_section.f10kItem = $f10kItemParam\n",
    "  WITH from_same_section\n",
    "    ORDER BY from_same_section.chunkSeqId ASC\n",
    "  WITH collect(from_same_section) as section_chunk_list\n",
    "    CALL apoc.nodes.link(\n",
    "        section_chunk_list, \n",
    "        \"NEXT\", \n",
    "        {avoidDuplicates: true}\n",
    "    )  // NEW!!!\n",
    "  RETURN size(section_chunk_list)\n",
    "\"\"\"\n",
    "\n",
    "kg.query(cypher, params={'formIdParam': form_info['formId'], \n",
    "                         'f10kItemParam': 'item1'})\n"
   ]
  },
  {
   "cell_type": "code",
   "execution_count": 200,
   "metadata": {},
   "outputs": [
    {
     "name": "stdout",
     "output_type": "stream",
     "text": [
      "Node properties are the following:\n",
      "Chunk {textEmbedding: LIST, f10kItem: STRING, chunkSeqId: INTEGER, text: STRING, cik: STRING, cusip6: STRING, names: LIST, formId: STRING, source: STRING, chunkId: STRING},Form {cik: STRING, cusip6: STRING, names: LIST, formId: STRING, source: STRING},Company {cusip6: STRING, names: LIST, companyName: STRING, cusip: STRING},Manager {managerName: STRING, managerCik: STRING, managerAddress: STRING}\n",
      "Relationship properties are the following:\n",
      "SECTION {f10kItem: STRING}\n",
      "The relationships are the following:\n",
      "(:Chunk)-[:NEXT]->(:Chunk),(:Chunk)-[:PART_OF]->(:Form),(:Form)-[:SECTION]->(:Chunk),(:Company)-[:FILED]->(:Form)\n"
     ]
    }
   ],
   "source": [
    "kg.refresh_schema()\n",
    "print(kg.schema)"
   ]
  },
  {
   "cell_type": "code",
   "execution_count": 201,
   "metadata": {},
   "outputs": [],
   "source": [
    "#Loop through and create relationships for all sections of the form 10-K\n",
    "cypher = \"\"\"\n",
    "  MATCH (from_same_section:Chunk)\n",
    "  WHERE from_same_section.formId = $formIdParam\n",
    "    AND from_same_section.f10kItem = $f10kItemParam\n",
    "  WITH from_same_section\n",
    "    ORDER BY from_same_section.chunkSeqId ASC\n",
    "  WITH collect(from_same_section) as section_chunk_list\n",
    "    CALL apoc.nodes.link(\n",
    "        section_chunk_list, \n",
    "        \"NEXT\", \n",
    "        {avoidDuplicates: true}\n",
    "    )\n",
    "  RETURN size(section_chunk_list)\n",
    "\"\"\"\n",
    "for form10kItemName in ['item1', 'item1a', 'item7', 'item7a']:\n",
    "  kg.query(cypher, params={'formIdParam':form_info['formId'], \n",
    "                           'f10kItemParam': form10kItemName})\n"
   ]
  },
  {
   "cell_type": "code",
   "execution_count": 202,
   "metadata": {},
   "outputs": [
    {
     "data": {
      "text/plain": [
       "[{'count(newRelationship)': 23}]"
      ]
     },
     "execution_count": 202,
     "metadata": {},
     "output_type": "execute_result"
    }
   ],
   "source": [
    "# Connect chunks to their parent form with a PART_OF relationship\n",
    "cypher = \"\"\"\n",
    "  MATCH (c:Chunk), (f:Form)\n",
    "    WHERE c.formId = f.formId\n",
    "  MERGE (c)-[newRelationship:PART_OF]->(f)\n",
    "  RETURN count(newRelationship)\n",
    "\"\"\"\n",
    "\n",
    "kg.query(cypher)"
   ]
  },
  {
   "cell_type": "code",
   "execution_count": 203,
   "metadata": {},
   "outputs": [
    {
     "data": {
      "text/plain": [
       "[{'count(r)': 4}]"
      ]
     },
     "execution_count": 203,
     "metadata": {},
     "output_type": "execute_result"
    }
   ],
   "source": [
    "# Create a SECTION relationship on first chunk of each section¶\n",
    "cypher = \"\"\"\n",
    "  MATCH (first:Chunk), (f:Form)\n",
    "  WHERE first.formId = f.formId\n",
    "    AND first.chunkSeqId = 0\n",
    "  WITH first, f\n",
    "    MERGE (f)-[r:SECTION {f10kItem: first.f10kItem}]->(first)\n",
    "  RETURN count(r)\n",
    "\"\"\"\n",
    "\n",
    "kg.query(cypher)"
   ]
  },
  {
   "cell_type": "markdown",
   "metadata": {},
   "source": [
    "## Example queries to explore structure\n",
    "\n"
   ]
  },
  {
   "cell_type": "code",
   "execution_count": 204,
   "metadata": {},
   "outputs": [
    {
     "data": {
      "text/plain": [
       "{'chunkId': '0000950170-23-027948-item1-chunk0000',\n",
       " 'text': '>Item 1.  \\nBusiness\\n\\n\\nOverview\\n\\n\\nNetApp, Inc. (NetApp, we, us or the Company) is a global cloud-led, data-centric software company. We were incorporated in 1992 and are headquartered in San Jose, California. Building on more than three decades of innovation, we give customers the freedom to manage applications and data across hybrid multicloud environments. Our portfolio of cloud services, and storage infrastructure, powered by intelligent data management software, enables applications to run faster, more reliably, and more securely, all at a lower cost.\\n\\n\\nOur opportunity is defined by the durable megatrends of data-driven digital and cloud transformations. NetApp helps organizations meet the complexities created by rapid data and cloud growth, multi-cloud management, and the adoption of next-generation technologies, such as AI, Kubernetes, and modern databases. Our modern approach to hybrid, multicloud infrastructure and data management, which we term ‘evolved cloud’, provides customers the ability to leverage data across their entire estate with simplicity, security, and sustainability which increases our relevance and value to our customers.\\n\\n\\nIn an evolved cloud state, the cloud is fully integrated into an organization’s architecture and operations. Data centers and clouds are seamlessly united and hybrid multicloud operations are simplified, with consistency and observability across environments. The key benefits NetApp brings to an organization’s hybrid multicloud environment are:\\n\\n\\n•\\nOperational simplicity: NetApp’s use of open source, open architectures and APIs, microservices, and common capabilities and data services facilitate the creation of applications that can run anywhere.\\n\\n\\n•\\nFlexibility and consistency: NetApp makes moving data and applications between environments seamless through a common storage foundation across on-premises and multicloud environments.'}"
      ]
     },
     "execution_count": 204,
     "metadata": {},
     "output_type": "execute_result"
    }
   ],
   "source": [
    "# Return the first chunk of the Item 1 section\n",
    "cypher = \"\"\"\n",
    "  MATCH (f:Form)-[r:SECTION]->(first:Chunk)\n",
    "    WHERE f.formId = $formIdParam\n",
    "        AND r.f10kItem = $f10kItemParam\n",
    "  RETURN first.chunkId as chunkId, first.text as text\n",
    "\"\"\"\n",
    "\n",
    "first_chunk_info = kg.query(cypher, params={\n",
    "    'formIdParam': form_info['formId'], \n",
    "    'f10kItemParam': 'item1'\n",
    "})[0]\n",
    "\n",
    "first_chunk_info"
   ]
  },
  {
   "cell_type": "code",
   "execution_count": 205,
   "metadata": {},
   "outputs": [
    {
     "data": {
      "text/plain": [
       "{'chunkId': '0000950170-23-027948-item1-chunk0001',\n",
       " 'text': \"•\\nFlexibility and consistency: NetApp makes moving data and applications between environments seamless through a common storage foundation across on-premises and multicloud environments.\\n\\n\\n•\\nCyber resilience: NetApp unifies monitoring, data protection, security, governance, and compliance for total cyber resilience - with consistency and automation across environments. \\n\\n\\n•\\nContinuous operations: NetApp uses AI-driven automation for continuous optimization to service applications and store stateless and stateful applications at the lowest possible costs.\\n\\n\\n•\\nSustainability: NetApp has industry-leading tools to audit consumption, locate waste, and set guardrails to stop overprovisioning.\\n\\n\\nProduct, Solutions and Services Portfolio\\n \\n\\n\\nNetApp's portfolio of cloud services and storage infrastructure is powered by intelligent data management software. Our operations are organized into two segments: Hybrid Cloud and Public Cloud.\\n\\n\\n \\n\\n\\nHybrid Cloud\\n\\n\\nHybrid Cloud \\noffers a portfolio of storage management and infrastructure solutions that help customers recast their traditional data centers into modern data centers with the power of the cloud. Our hybrid cloud portfolio is designed to operate with public clouds to unlock the potential of hybrid, multi-cloud operations. We offer a broad portfolio of cloud-connected all-flash, hybrid-flash, and object storage systems, powered by intelligent data management software. Hybrid Cloud is composed of software, hardware, and related support, as well as professional and other services.\\n\\n\\nIntelligent data management software\"}"
      ]
     },
     "execution_count": 205,
     "metadata": {},
     "output_type": "execute_result"
    }
   ],
   "source": [
    "# Get the second chunk of the Item 1 section\n",
    "\n",
    "cypher = \"\"\"\n",
    "  MATCH (first:Chunk)-[:NEXT]->(nextChunk:Chunk)\n",
    "    WHERE first.chunkId = $chunkIdParam\n",
    "  RETURN nextChunk.chunkId as chunkId, nextChunk.text as text\n",
    "\"\"\"\n",
    "\n",
    "next_chunk_info = kg.query(cypher, params={\n",
    "    'chunkIdParam': first_chunk_info['chunkId']\n",
    "})[0]\n",
    "\n",
    "next_chunk_info\n"
   ]
  },
  {
   "cell_type": "code",
   "execution_count": 206,
   "metadata": {},
   "outputs": [
    {
     "name": "stdout",
     "output_type": "stream",
     "text": [
      "0000950170-23-027948-item1-chunk0000 0000950170-23-027948-item1-chunk0001\n"
     ]
    }
   ],
   "source": [
    "print(first_chunk_info['chunkId'], next_chunk_info['chunkId'])"
   ]
  },
  {
   "cell_type": "code",
   "execution_count": 207,
   "metadata": {},
   "outputs": [
    {
     "data": {
      "text/plain": [
       "[{'c1.chunkId': '0000950170-23-027948-item1-chunk0000',\n",
       "  'c2.chunkId': '0000950170-23-027948-item1-chunk0001',\n",
       "  'c3.chunkId': '0000950170-23-027948-item1-chunk0002'}]"
      ]
     },
     "execution_count": 207,
     "metadata": {},
     "output_type": "execute_result"
    }
   ],
   "source": [
    "# Return a window of three chunks\n",
    "\n",
    "cypher = \"\"\"\n",
    "    MATCH (c1:Chunk)-[:NEXT]->(c2:Chunk)-[:NEXT]->(c3:Chunk) \n",
    "        WHERE c2.chunkId = $chunkIdParam\n",
    "    RETURN c1.chunkId, c2.chunkId, c3.chunkId\n",
    "    \"\"\"\n",
    "\n",
    "kg.query(cypher,\n",
    "         params={'chunkIdParam': next_chunk_info['chunkId']})\n"
   ]
  },
  {
   "cell_type": "markdown",
   "metadata": {},
   "source": [
    "## Information is stored in the structure of a graph\n",
    "\n",
    "- Matched patterns of nodes and relationships in a graph are called **paths**\n",
    "- The length of a path is equal to the number of relationships in the path\n",
    "- Paths can be captured as variables and used elsewhere in queries"
   ]
  },
  {
   "cell_type": "code",
   "execution_count": 208,
   "metadata": {},
   "outputs": [
    {
     "data": {
      "text/plain": [
       "[{'windowPathLength': 2}]"
      ]
     },
     "execution_count": 208,
     "metadata": {},
     "output_type": "execute_result"
    }
   ],
   "source": [
    "cypher = \"\"\"\n",
    "    MATCH window = (c1:Chunk)-[:NEXT]->(c2:Chunk)-[:NEXT]->(c3:Chunk) \n",
    "        WHERE c1.chunkId = $chunkIdParam\n",
    "    RETURN length(window) as windowPathLength\n",
    "    \"\"\"\n",
    "\n",
    "kg.query(cypher,\n",
    "         params={'chunkIdParam': next_chunk_info['chunkId']})"
   ]
  },
  {
   "cell_type": "code",
   "execution_count": 209,
   "metadata": {},
   "outputs": [
    {
     "data": {
      "text/plain": [
       "[]"
      ]
     },
     "execution_count": 209,
     "metadata": {},
     "output_type": "execute_result"
    }
   ],
   "source": [
    "# Finding variable length windows\n",
    "# A pattern match will fail if the relationship doesn't exist in the graph\n",
    "# For example, the first chunk in a section has no preceding chunk, so the next query won't return anything\n",
    "cypher = \"\"\"\n",
    "    MATCH window=(c1:Chunk)-[:NEXT]->(c2:Chunk)-[:NEXT]->(c3:Chunk) \n",
    "        WHERE c2.chunkId = $chunkIdParam\n",
    "    RETURN nodes(window) as chunkList\n",
    "    \"\"\"\n",
    "# pull the chunk ID from the first \n",
    "kg.query(cypher,\n",
    "         params={'chunkIdParam': first_chunk_info['chunkId']})\n",
    "\n",
    "\n",
    "cypher = \"\"\"\n",
    "    MATCH window=(c1:Chunk)-[:NEXT]->(c2:Chunk)-[:NEXT]->(c3:Chunk) \n",
    "        WHERE c2.chunkId = $chunkIdParam\n",
    "    RETURN nodes(window) as chunkList\n",
    "    \"\"\"\n",
    "# pull the chunk ID from the first \n",
    "kg.query(cypher,\n",
    "         params={'chunkIdParam': first_chunk_info['chunkId']})\n"
   ]
  },
  {
   "cell_type": "code",
   "execution_count": 210,
   "metadata": {},
   "outputs": [
    {
     "data": {
      "text/plain": [
       "[{'length(window)': 0}, {'length(window)': 1}]"
      ]
     },
     "execution_count": 210,
     "metadata": {},
     "output_type": "execute_result"
    }
   ],
   "source": [
    "# Modify NEXT relationship to have variable length\n",
    "cypher = \"\"\"\n",
    "  MATCH window=\n",
    "      (:Chunk)-[:NEXT*0..1]->(c:Chunk)-[:NEXT*0..1]->(:Chunk) \n",
    "    WHERE c.chunkId = $chunkIdParam\n",
    "  RETURN length(window)\n",
    "  \"\"\"\n",
    "\n",
    "kg.query(cypher,\n",
    "         params={'chunkIdParam': first_chunk_info['chunkId']})"
   ]
  },
  {
   "cell_type": "code",
   "execution_count": 211,
   "metadata": {},
   "outputs": [
    {
     "data": {
      "text/plain": [
       "[{'length(longestChunkWindow)': 1}]"
      ]
     },
     "execution_count": 211,
     "metadata": {},
     "output_type": "execute_result"
    }
   ],
   "source": [
    "# Retrieve only the longest path\n",
    "\n",
    "cypher = \"\"\"\n",
    "  MATCH window=\n",
    "      (:Chunk)-[:NEXT*0..1]->(c:Chunk)-[:NEXT*0..1]->(:Chunk)\n",
    "    WHERE c.chunkId = $chunkIdParam\n",
    "  WITH window as longestChunkWindow \n",
    "      ORDER BY length(window) DESC LIMIT 1\n",
    "  RETURN length(longestChunkWindow)\n",
    "  \"\"\"\n",
    "\n",
    "kg.query(cypher,\n",
    "         params={'chunkIdParam': first_chunk_info['chunkId']})\n"
   ]
  },
  {
   "cell_type": "markdown",
   "metadata": {},
   "source": [
    "## Customize the results of the similarity search using Cypher\n",
    "\n",
    "Extend the vector store definition to accept a Cypher query. The Cypher query takes the results of the vector similarity search and then modifies them in some way. Start with a simple query that just returns some extra text along with the search results.\n",
    "\n",
    "**Note, you'll need to reset the vector store, retriever, and chain each time you change the Cypher query.**"
   ]
  },
  {
   "cell_type": "code",
   "execution_count": 212,
   "metadata": {},
   "outputs": [],
   "source": [
    "retrieval_query_extra_text = \"\"\"\n",
    "WITH node, score, \"Andreas knows Cypher. \" as extraText\n",
    "RETURN extraText + \"\\n\" + node.text as text,\n",
    "    score,\n",
    "    node {.source} AS metadata\n",
    "\"\"\""
   ]
  },
  {
   "cell_type": "markdown",
   "metadata": {},
   "source": [
    "### Set up the vector store to use the query, then instantiate a retriever and Question-Answer chain in LangChain"
   ]
  },
  {
   "cell_type": "code",
   "execution_count": 213,
   "metadata": {},
   "outputs": [],
   "source": [
    "vector_store_extra_text = Neo4jVector.from_existing_index(\n",
    "    embedding=OpenAIEmbeddings(),\n",
    "    url=NEO4J_URI,\n",
    "    username=NEO4J_USERNAME,\n",
    "    password=NEO4J_PASSWORD,\n",
    "    database=\"ten-k\",\n",
    "    index_name=VECTOR_INDEX_NAME,\n",
    "    text_node_property=VECTOR_SOURCE_PROPERTY,\n",
    "    retrieval_query=retrieval_query_extra_text, # NEW !!!\n",
    ")\n",
    "\n",
    "# Create a retriever from the vector store\n",
    "retriever_extra_text = vector_store_extra_text.as_retriever()\n",
    "\n",
    "# Create a chatbot Question & Answer chain from the retriever\n",
    "chain_extra_text = RetrievalQAWithSourcesChain.from_chain_type(\n",
    "    ChatOpenAI(temperature=0), \n",
    "    chain_type=\"stuff\", \n",
    "    retriever=retriever_extra_text\n",
    ")"
   ]
  },
  {
   "cell_type": "code",
   "execution_count": 214,
   "metadata": {},
   "outputs": [
    {
     "data": {
      "text/plain": [
       "{'answer': 'Andreas knows about Cypher, environmental management systems, and diversified customer bases.\\n',\n",
       " 'sources': 'https://www.sec.gov/Archives/edgar/data/1002047/000095017023027948/0000950170-23-027948-index.htm'}"
      ]
     },
     "execution_count": 214,
     "metadata": {},
     "output_type": "execute_result"
    }
   ],
   "source": [
    "# ask a question\n",
    "chain_extra_text(\n",
    "    {\"question\": \"What topics does Andreas know about?\"},\n",
    "    return_only_outputs=True)"
   ]
  },
  {
   "cell_type": "code",
   "execution_count": 215,
   "metadata": {},
   "outputs": [
    {
     "data": {
      "text/plain": [
       "{'answer': 'Andreas knows about Cypher.\\n',\n",
       " 'sources': 'https://www.sec.gov/Archives/edgar/data/1002047/000095017023027948/0000950170-23-027948-index.htm'}"
      ]
     },
     "execution_count": 215,
     "metadata": {},
     "output_type": "execute_result"
    }
   ],
   "source": [
    "# due ti hallucination tray a better question\n",
    "chain_extra_text(\n",
    "    {\"question\": \"What single topic does Andreas know about?\"},\n",
    "    return_only_outputs=True)"
   ]
  },
  {
   "cell_type": "code",
   "execution_count": 216,
   "metadata": {},
   "outputs": [],
   "source": [
    "# modify the retrieval extra text here then run the entire cell\n",
    "retrieval_query_extra_text = \"\"\"\n",
    "WITH node, score, \"Andreas knows Cypher. \" as extraText\n",
    "RETURN extraText + \"\\n\" + node.text as text,\n",
    "    score,\n",
    "    node {.source} AS metadata\n",
    "\"\"\"\n",
    "\n",
    "vector_store_extra_text = Neo4jVector.from_existing_index(\n",
    "    embedding=OpenAIEmbeddings(),\n",
    "    url=NEO4J_URI,\n",
    "    username=NEO4J_USERNAME,\n",
    "    password=NEO4J_PASSWORD,\n",
    "    database=\"ten-k\",\n",
    "    index_name=VECTOR_INDEX_NAME,\n",
    "    text_node_property=VECTOR_SOURCE_PROPERTY,\n",
    "    retrieval_query=retrieval_query_extra_text, # NEW !!!\n",
    ")\n",
    "\n",
    "# Create a retriever from the vector store\n",
    "retriever_extra_text = vector_store_extra_text.as_retriever()\n",
    "\n",
    "# Create a chatbot Question & Answer chain from the retriever\n",
    "chain_extra_text = RetrievalQAWithSourcesChain.from_chain_type(\n",
    "    ChatOpenAI(temperature=0), \n",
    "    chain_type=\"stuff\", \n",
    "    retriever=retriever_extra_text\n",
    ")"
   ]
  },
  {
   "cell_type": "markdown",
   "metadata": {},
   "source": [
    "### Expand context around a chunk using a window\n",
    "\n",
    "1. create a regular vector store that retrieves a single node\n",
    "2. define a window retrieval query to get consecutive chunks\n",
    "3. Set up a QA chain that will use the window retrieval query\n"
   ]
  },
  {
   "cell_type": "code",
   "execution_count": 217,
   "metadata": {},
   "outputs": [],
   "source": [
    "# regular vector store, that retrieves a single node\n",
    "neo4j_vector_store = Neo4jVector.from_existing_graph(\n",
    "    embedding=OpenAIEmbeddings(),\n",
    "    url=NEO4J_URI,\n",
    "    username=NEO4J_USERNAME,\n",
    "    password=NEO4J_PASSWORD,\n",
    "    database=\"ten-k\",\n",
    "    index_name=VECTOR_INDEX_NAME,\n",
    "    node_label=VECTOR_NODE_LABEL,\n",
    "    text_node_properties=[VECTOR_SOURCE_PROPERTY],\n",
    "    embedding_node_property=VECTOR_EMBEDDING_PROPERTY,\n",
    ")\n",
    "# Create a retriever from the vector store\n",
    "windowless_retriever = neo4j_vector_store.as_retriever()\n",
    "\n",
    "# Create a chatbot Question & Answer chain from the retriever\n",
    "windowless_chain = RetrievalQAWithSourcesChain.from_chain_type(\n",
    "    ChatOpenAI(temperature=0), \n",
    "    chain_type=\"stuff\", \n",
    "    retriever=windowless_retriever\n",
    ")"
   ]
  },
  {
   "cell_type": "code",
   "execution_count": 218,
   "metadata": {},
   "outputs": [],
   "source": [
    "# window retrieval query to get consecutive chunks\n",
    "retrieval_query_window = \"\"\"\n",
    "MATCH window=\n",
    "    (:Chunk)-[:NEXT*0..1]->(node)-[:NEXT*0..1]->(:Chunk)\n",
    "WITH node, score, window as longestWindow \n",
    "  ORDER BY length(window) DESC LIMIT 1\n",
    "WITH nodes(longestWindow) as chunkList, node, score\n",
    "  UNWIND chunkList as chunkRows\n",
    "WITH collect(chunkRows.text) as textList, node, score\n",
    "RETURN apoc.text.join(textList, \" \\n \") as text,\n",
    "    score,\n",
    "    node {.source} AS metadata\n",
    "\"\"\"\n"
   ]
  },
  {
   "cell_type": "code",
   "execution_count": 219,
   "metadata": {},
   "outputs": [],
   "source": [
    "# finally QA chain\n",
    "vector_store_window = Neo4jVector.from_existing_index(\n",
    "    embedding=OpenAIEmbeddings(),\n",
    "    url=NEO4J_URI,\n",
    "    username=NEO4J_USERNAME,\n",
    "    password=NEO4J_PASSWORD,\n",
    "    database=\"ten-k\",\n",
    "    index_name=VECTOR_INDEX_NAME,\n",
    "    text_node_property=VECTOR_SOURCE_PROPERTY,\n",
    "    retrieval_query=retrieval_query_window, # NEW!!!\n",
    ")\n",
    "\n",
    "# Create a retriever from the vector store\n",
    "retriever_window = vector_store_window.as_retriever()\n",
    "\n",
    "# Create a chatbot Question & Answer chain from the retriever\n",
    "chain_window = RetrievalQAWithSourcesChain.from_chain_type(\n",
    "    ChatOpenAI(temperature=0), \n",
    "    chain_type=\"stuff\", \n",
    "    retriever=retriever_window\n",
    ")"
   ]
  },
  {
   "cell_type": "markdown",
   "metadata": {},
   "source": [
    "### Compare the two chains¶\n",
    "\n",
    "Similar answer. Extended context highligts the key point of Netapp which is their premier product."
   ]
  },
  {
   "cell_type": "code",
   "execution_count": 220,
   "metadata": {},
   "outputs": [],
   "source": [
    "question = \"In a single sentence, tell me about Netapp's business.\""
   ]
  },
  {
   "cell_type": "code",
   "execution_count": 221,
   "metadata": {},
   "outputs": [
    {
     "name": "stdout",
     "output_type": "stream",
     "text": [
      "NetApp is a global cloud-led, data-centric software company that\n",
      "provides customers with the freedom to manage applications and data\n",
      "across hybrid multicloud environments, offering a portfolio of cloud\n",
      "services and storage infrastructure powered by intelligent data\n",
      "management software.\n"
     ]
    }
   ],
   "source": [
    "answer = windowless_chain(\n",
    "    {\"question\": question},\n",
    "    return_only_outputs=True,\n",
    ")\n",
    "print(textwrap.fill(answer[\"answer\"]))"
   ]
  },
  {
   "cell_type": "code",
   "execution_count": 222,
   "metadata": {},
   "outputs": [
    {
     "name": "stdout",
     "output_type": "stream",
     "text": [
      "NetApp's business focuses on providing storage-as-a-service offerings\n",
      "and global support for hybrid cloud environments through a\n",
      "multichannel distribution strategy and partnerships with leading cloud\n",
      "providers and other industry partners.\n"
     ]
    }
   ],
   "source": [
    "answer = chain_window(\n",
    "    {\"question\": question},\n",
    "    return_only_outputs=True,\n",
    ")\n",
    "print(textwrap.fill(answer[\"answer\"]))"
   ]
  },
  {
   "cell_type": "markdown",
   "metadata": {},
   "source": [
    "# Extend the graph in order to enricht the graph with investment informations\n",
    "\n",
    "Investment management firms must report on their investments in companies to the SEC by filing a document called Form 13. We'll load a collection of Form 13 for managers that have invested in NetApp.\n",
    "\n"
   ]
  },
  {
   "cell_type": "code",
   "execution_count": 223,
   "metadata": {},
   "outputs": [
    {
     "data": {
      "text/plain": [
       "[{'source': 'https://sec.gov/Archives/edgar/data/1000275/0001140361-23-039575.txt',\n",
       "  'managerCik': '1000275',\n",
       "  'managerAddress': 'ROYAL BANK PLAZA, 200 BAY STREET, TORONTO, A6, M5J2J5',\n",
       "  'managerName': 'Royal Bank of Canada',\n",
       "  'reportCalendarOrQuarter': '2023-06-30',\n",
       "  'cusip6': '64110D',\n",
       "  'cusip': '64110D104',\n",
       "  'companyName': 'NETAPP INC',\n",
       "  'value': '64395000000.0',\n",
       "  'shares': '842850'},\n",
       " {'source': 'https://sec.gov/Archives/edgar/data/1002784/0001387131-23-009542.txt',\n",
       "  'managerCik': '1002784',\n",
       "  'managerAddress': '1875 Lawrence Street, Suite 300, Denver, CO, 80202-1805',\n",
       "  'managerName': 'SHELTON CAPITAL MANAGEMENT',\n",
       "  'reportCalendarOrQuarter': '2023-06-30',\n",
       "  'cusip6': '64110D',\n",
       "  'cusip': '64110D104',\n",
       "  'companyName': 'NETAPP INC',\n",
       "  'value': '2989085000.0',\n",
       "  'shares': '39124'},\n",
       " {'source': 'https://sec.gov/Archives/edgar/data/1007280/0001007280-23-000008.txt',\n",
       "  'managerCik': '1007280',\n",
       "  'managerAddress': '277 E TOWN ST, COLUMBUS, OH, 43215',\n",
       "  'managerName': 'PUBLIC EMPLOYEES RETIREMENT SYSTEM OF OHIO',\n",
       "  'reportCalendarOrQuarter': '2023-06-30',\n",
       "  'cusip6': '64110D',\n",
       "  'cusip': '64110D104',\n",
       "  'companyName': 'Netapp Inc',\n",
       "  'value': '8170000.0',\n",
       "  'shares': '106941'},\n",
       " {'source': 'https://sec.gov/Archives/edgar/data/1007399/0001007399-23-000004.txt',\n",
       "  'managerCik': '1007399',\n",
       "  'managerAddress': '150 WEST MAIN STREET, SUITE 1700, NORFOLK, VA, 23510',\n",
       "  'managerName': 'WILBANKS SMITH & THOMAS ASSET MANAGEMENT LLC',\n",
       "  'reportCalendarOrQuarter': '2023-06-30',\n",
       "  'cusip6': '64110D',\n",
       "  'cusip': '64110D104',\n",
       "  'companyName': 'NETAPP INC',\n",
       "  'value': '505539000.0',\n",
       "  'shares': '6617'},\n",
       " {'source': 'https://sec.gov/Archives/edgar/data/1008894/0001172661-23-003025.txt',\n",
       "  'managerCik': '1008894',\n",
       "  'managerAddress': '250 Park Avenue South, Suite 250, Winter Park, FL, 32789',\n",
       "  'managerName': 'DEPRINCE RACE & ZOLLO INC',\n",
       "  'reportCalendarOrQuarter': '2023-06-30',\n",
       "  'cusip6': '64110D',\n",
       "  'cusip': '64110D104',\n",
       "  'companyName': 'NETAPP INC',\n",
       "  'value': '24492389000.0',\n",
       "  'shares': '320581'}]"
      ]
     },
     "execution_count": 223,
     "metadata": {},
     "output_type": "execute_result"
    }
   ],
   "source": [
    "import csv\n",
    "\n",
    "all_form13s = []\n",
    "\n",
    "with open('./data/form13.csv', mode='r') as csv_file:\n",
    "    csv_reader = csv.DictReader(csv_file)\n",
    "    for row in csv_reader: # each row will be a dictionary\n",
    "      all_form13s.append(row)\n",
    "# show the firts 5\n",
    "all_form13s[0:5]"
   ]
  },
  {
   "cell_type": "markdown",
   "metadata": {},
   "source": [
    "## Create company nodes in the graph\n",
    "\n",
    "Use the companies identified in the Form 13s to create Company nodes\n",
    "However, for now, there is only one company - NetApp"
   ]
  },
  {
   "cell_type": "code",
   "execution_count": 224,
   "metadata": {},
   "outputs": [
    {
     "data": {
      "text/plain": [
       "[]"
      ]
     },
     "execution_count": 224,
     "metadata": {},
     "output_type": "execute_result"
    }
   ],
   "source": [
    "# check first form\n",
    "# work with just the first form fow now\n",
    "first_form13 = all_form13s[0]\n",
    "\n",
    "cypher = \"\"\"\n",
    "MERGE (com:Company {cusip6: $cusip6})\n",
    "  ON CREATE\n",
    "    SET com.companyName = $companyName,\n",
    "        com.cusip = $cusip\n",
    "\"\"\"\n",
    "\n",
    "kg.query(cypher, params={\n",
    "    'cusip6':first_form13['cusip6'], \n",
    "    'companyName':first_form13['companyName'], \n",
    "    'cusip':first_form13['cusip'] \n",
    "})"
   ]
  },
  {
   "cell_type": "code",
   "execution_count": 225,
   "metadata": {},
   "outputs": [
    {
     "data": {
      "text/plain": [
       "[{'com': {'cusip': '64110D104',\n",
       "   'names': ['Netapp Inc', 'NETAPP INC'],\n",
       "   'companyName': 'NETAPP INC',\n",
       "   'cusip6': '64110D'}}]"
      ]
     },
     "execution_count": 225,
     "metadata": {},
     "output_type": "execute_result"
    }
   ],
   "source": [
    "cypher = \"\"\"\n",
    "MATCH (com:Company)\n",
    "RETURN com LIMIT 1\n",
    "\"\"\"\n",
    "\n",
    "kg.query(cypher)"
   ]
  },
  {
   "cell_type": "code",
   "execution_count": 226,
   "metadata": {},
   "outputs": [
    {
     "data": {
      "text/plain": [
       "[{'com.companyName': 'NETAPP INC', 'form.names': ['Netapp Inc', 'NETAPP INC']}]"
      ]
     },
     "execution_count": 226,
     "metadata": {},
     "output_type": "execute_result"
    }
   ],
   "source": [
    "# Update the company name to match Form 10-K\n",
    "cypher = \"\"\"\n",
    "  MATCH (com:Company), (form:Form)\n",
    "    WHERE com.cusip6 = form.cusip6\n",
    "  RETURN com.companyName, form.names\n",
    "\"\"\"\n",
    "\n",
    "kg.query(cypher)"
   ]
  },
  {
   "cell_type": "code",
   "execution_count": 227,
   "metadata": {},
   "outputs": [
    {
     "data": {
      "text/plain": [
       "[]"
      ]
     },
     "execution_count": 227,
     "metadata": {},
     "output_type": "execute_result"
    }
   ],
   "source": [
    "cypher = \"\"\"\n",
    "  MATCH (com:Company), (form:Form)\n",
    "    WHERE com.cusip6 = form.cusip6\n",
    "  SET com.names = form.names\n",
    "\"\"\"\n",
    "\n",
    "kg.query(cypher)"
   ]
  },
  {
   "cell_type": "code",
   "execution_count": 228,
   "metadata": {},
   "outputs": [
    {
     "data": {
      "text/plain": [
       "[]"
      ]
     },
     "execution_count": 228,
     "metadata": {},
     "output_type": "execute_result"
    }
   ],
   "source": [
    "#Create a FILED relationship between the company and the Form-10K node\n",
    "kg.query(\"\"\"\n",
    "  MATCH (com:Company), (form:Form)\n",
    "    WHERE com.cusip6 = form.cusip6\n",
    "  MERGE (com)-[:FILED]->(form)\n",
    "\"\"\")"
   ]
  },
  {
   "cell_type": "markdown",
   "metadata": {},
   "source": [
    "## Create manager nodes\n",
    "- Create a `manager` node for companies that have filed a Form 13 to report their investment in NetApp\n",
    "- Start with the single manager who filed the first Form 13 in the list"
   ]
  },
  {
   "cell_type": "code",
   "execution_count": 229,
   "metadata": {},
   "outputs": [
    {
     "data": {
      "text/plain": [
       "[]"
      ]
     },
     "execution_count": 229,
     "metadata": {},
     "output_type": "execute_result"
    }
   ],
   "source": [
    "cypher = \"\"\"\n",
    "  MERGE (mgr:Manager {managerCik: $managerParam.managerCik})\n",
    "    ON CREATE\n",
    "        SET mgr.managerName = $managerParam.managerName,\n",
    "            mgr.managerAddress = $managerParam.managerAddress\n",
    "\"\"\"\n",
    "\n",
    "kg.query(cypher, params={'managerParam': first_form13})"
   ]
  },
  {
   "cell_type": "code",
   "execution_count": 230,
   "metadata": {},
   "outputs": [
    {
     "data": {
      "text/plain": [
       "[{'mgr': {'managerCik': '1000275',\n",
       "   'managerAddress': 'ROYAL BANK PLAZA, 200 BAY STREET, TORONTO, A6, M5J2J5',\n",
       "   'managerName': 'Royal Bank of Canada'}}]"
      ]
     },
     "execution_count": 230,
     "metadata": {},
     "output_type": "execute_result"
    }
   ],
   "source": [
    "kg.query(\"\"\"\n",
    "  MATCH (mgr:Manager)\n",
    "  RETURN mgr LIMIT 1\n",
    "\"\"\")"
   ]
  },
  {
   "cell_type": "code",
   "execution_count": 231,
   "metadata": {},
   "outputs": [
    {
     "data": {
      "text/plain": [
       "[]"
      ]
     },
     "execution_count": 231,
     "metadata": {},
     "output_type": "execute_result"
    }
   ],
   "source": [
    "# Create a uniquness constraint to avoid duplicate managers\n",
    "kg.query(\"\"\"\n",
    "CREATE CONSTRAINT unique_manager \n",
    "  IF NOT EXISTS\n",
    "  FOR (n:Manager) \n",
    "  REQUIRE n.managerCik IS UNIQUE\n",
    "\"\"\")"
   ]
  },
  {
   "cell_type": "markdown",
   "metadata": {},
   "source": [
    "## Create full text index"
   ]
  },
  {
   "cell_type": "code",
   "execution_count": 232,
   "metadata": {},
   "outputs": [
    {
     "data": {
      "text/plain": [
       "[]"
      ]
     },
     "execution_count": 232,
     "metadata": {},
     "output_type": "execute_result"
    }
   ],
   "source": [
    "kg.query(\"\"\"\n",
    "CREATE CONSTRAINT unique_manager \n",
    "  IF NOT EXISTS\n",
    "  FOR (n:Manager) \n",
    "  REQUIRE n.managerCik IS UNIQUE\n",
    "\"\"\")"
   ]
  },
  {
   "cell_type": "code",
   "execution_count": 233,
   "metadata": {},
   "outputs": [
    {
     "data": {
      "text/plain": [
       "[]"
      ]
     },
     "execution_count": 233,
     "metadata": {},
     "output_type": "execute_result"
    }
   ],
   "source": [
    "kg.query(\"\"\"\n",
    "CREATE FULLTEXT INDEX fullTextManagerNames\n",
    "  IF NOT EXISTS\n",
    "  FOR (mgr:Manager) \n",
    "  ON EACH [mgr.managerName]\n",
    "\"\"\")\n"
   ]
  },
  {
   "cell_type": "code",
   "execution_count": 234,
   "metadata": {},
   "outputs": [
    {
     "data": {
      "text/plain": [
       "[{'node.managerName': 'Royal Bank of Canada', 'score': 3.7019896507263184},\n",
       " {'node.managerName': 'Royal Fund Management, LLC',\n",
       "  'score': 2.2780675888061523},\n",
       " {'node.managerName': 'ROYAL LONDON ASSET MANAGEMENT LTD',\n",
       "  'score': 2.063053607940674},\n",
       " {'node.managerName': 'AMALGAMATED BANK', 'score': 1.798886775970459},\n",
       " {'node.managerName': 'COMMERCE BANK', 'score': 1.798886775970459},\n",
       " {'node.managerName': 'UMB Bank, n.a.', 'score': 1.5895916223526},\n",
       " {'node.managerName': 'Norinchukin Bank, The', 'score': 1.5895916223526},\n",
       " {'node.managerName': 'HUNTINGTON NATIONAL BANK', 'score': 1.5895916223526},\n",
       " {'node.managerName': 'Swiss National Bank', 'score': 1.5895916223526},\n",
       " {'node.managerName': 'AMERICAN NATIONAL BANK', 'score': 1.5895916223526},\n",
       " {'node.managerName': 'TORONTO DOMINION BANK', 'score': 1.5895916223526},\n",
       " {'node.managerName': 'Bangor Savings Bank', 'score': 1.5895916223526},\n",
       " {'node.managerName': 'Czech National Bank', 'score': 1.5895916223526},\n",
       " {'node.managerName': 'DEUTSCHE BANK AG\\\\', 'score': 1.5895916223526},\n",
       " {'node.managerName': 'City State Bank', 'score': 1.5895916223526},\n",
       " {'node.managerName': 'M&T Bank Corp', 'score': 1.4239221811294556},\n",
       " {'node.managerName': 'BANK OF NOVA SCOTIA', 'score': 1.4239221811294556},\n",
       " {'node.managerName': 'BANK OF MONTREAL /CAN/', 'score': 1.4239221811294556},\n",
       " {'node.managerName': 'CENTRAL BANK & TRUST CO', 'score': 1.4239221811294556},\n",
       " {'node.managerName': 'Bank of New Hampshire', 'score': 1.4239221811294556},\n",
       " {'node.managerName': 'Parkside Financial Bank & Trust',\n",
       "  'score': 1.4239221811294556},\n",
       " {'node.managerName': 'DZ BANK AG Deutsche Zentral Genossenschafts Bank, Frankfurt am Main',\n",
       "  'score': 1.3731980323791504},\n",
       " {'node.managerName': 'NATIONAL BANK OF CANADA /FI/',\n",
       "  'score': 1.2895262241363525},\n",
       " {'node.managerName': 'BANK OF AMERICA CORP /DE/',\n",
       "  'score': 1.2895262241363525},\n",
       " {'node.managerName': 'Bank of New York Mellon Corp',\n",
       "  'score': 1.178311824798584}]"
      ]
     },
     "execution_count": 234,
     "metadata": {},
     "output_type": "execute_result"
    }
   ],
   "source": [
    "kg.query(\"\"\"\n",
    "  CALL db.index.fulltext.queryNodes(\"fullTextManagerNames\", \n",
    "      \"royal bank\") YIELD node, score\n",
    "  RETURN node.managerName, score\n",
    "\"\"\")"
   ]
  },
  {
   "cell_type": "markdown",
   "metadata": {},
   "source": [
    "## Create all nodes"
   ]
  },
  {
   "cell_type": "code",
   "execution_count": 235,
   "metadata": {},
   "outputs": [],
   "source": [
    "cypher = \"\"\"\n",
    "  MERGE (mgr:Manager {managerCik: $managerParam.managerCik})\n",
    "    ON CREATE\n",
    "        SET mgr.managerName = $managerParam.managerName,\n",
    "            mgr.managerAddress = $managerParam.managerAddress\n",
    "\"\"\"\n",
    "# loop through all Form 13s\n",
    "for form13 in all_form13s:\n",
    "  kg.query(cypher, params={'managerParam': form13 })"
   ]
  },
  {
   "cell_type": "code",
   "execution_count": 236,
   "metadata": {},
   "outputs": [
    {
     "data": {
      "text/plain": [
       "[{'count(mgr)': 561}]"
      ]
     },
     "execution_count": 236,
     "metadata": {},
     "output_type": "execute_result"
    }
   ],
   "source": [
    "# check the number of managers\n",
    "kg.query(\"\"\"\n",
    "    MATCH (mgr:Manager) \n",
    "    RETURN count(mgr)\n",
    "\"\"\")"
   ]
  },
  {
   "cell_type": "markdown",
   "metadata": {},
   "source": [
    "## Create relationships between managers and companies\n",
    "Match companies with managers based on data in the Form 13\n",
    "Create an OWNS_STOCK_IN relationship between the manager and the company\n",
    "Start with the single manager who filed the first Form 13 in the list"
   ]
  },
  {
   "cell_type": "code",
   "execution_count": 237,
   "metadata": {},
   "outputs": [
    {
     "data": {
      "text/plain": [
       "[{'mgr.managerName': 'Royal Bank of Canada',\n",
       "  'com.companyName': 'NETAPP INC',\n",
       "  'investment': {'shares': '842850',\n",
       "   'source': 'https://sec.gov/Archives/edgar/data/1000275/0001140361-23-039575.txt',\n",
       "   'managerName': 'Royal Bank of Canada',\n",
       "   'managerAddress': 'ROYAL BANK PLAZA, 200 BAY STREET, TORONTO, A6, M5J2J5',\n",
       "   'value': '64395000000.0',\n",
       "   'cusip6': '64110D',\n",
       "   'cusip': '64110D104',\n",
       "   'reportCalendarOrQuarter': '2023-06-30',\n",
       "   'companyName': 'NETAPP INC',\n",
       "   'managerCik': '1000275'}}]"
      ]
     },
     "execution_count": 237,
     "metadata": {},
     "output_type": "execute_result"
    }
   ],
   "source": [
    "cypher = \"\"\"\n",
    "  MATCH (mgr:Manager {managerCik: $investmentParam.managerCik}), \n",
    "        (com:Company {cusip6: $investmentParam.cusip6})\n",
    "  RETURN mgr.managerName, com.companyName, $investmentParam as investment\n",
    "\"\"\"\n",
    "\n",
    "kg.query(cypher, params={ \n",
    "    'investmentParam': first_form13 \n",
    "})"
   ]
  },
  {
   "cell_type": "code",
   "execution_count": 238,
   "metadata": {},
   "outputs": [
    {
     "data": {
      "text/plain": [
       "[{'mgr.managerName': 'Royal Bank of Canada',\n",
       "  'owns.reportCalendarOrQuarter': '2023-06-30',\n",
       "  'com.companyName': 'NETAPP INC'}]"
      ]
     },
     "execution_count": 238,
     "metadata": {},
     "output_type": "execute_result"
    }
   ],
   "source": [
    "cypher = \"\"\"\n",
    "MATCH (mgr:Manager {managerCik: $ownsParam.managerCik}), \n",
    "        (com:Company {cusip6: $ownsParam.cusip6})\n",
    "MERGE (mgr)-[owns:OWNS_STOCK_IN { \n",
    "    reportCalendarOrQuarter: $ownsParam.reportCalendarOrQuarter\n",
    "}]->(com)\n",
    "ON CREATE\n",
    "    SET owns.value  = toFloat($ownsParam.value), \n",
    "        owns.shares = toInteger($ownsParam.shares)\n",
    "RETURN mgr.managerName, owns.reportCalendarOrQuarter, com.companyName\n",
    "\"\"\"\n",
    "\n",
    "kg.query(cypher, params={ 'ownsParam': first_form13 })"
   ]
  },
  {
   "cell_type": "code",
   "execution_count": 239,
   "metadata": {},
   "outputs": [
    {
     "data": {
      "text/plain": [
       "[{'owns': {'shares': 842850, 'value': 64395000000.0}}]"
      ]
     },
     "execution_count": 239,
     "metadata": {},
     "output_type": "execute_result"
    }
   ],
   "source": [
    "kg.query(\"\"\"\n",
    "MATCH (mgr:Manager {managerCik: $ownsParam.managerCik})\n",
    "-[owns:OWNS_STOCK_IN]->\n",
    "        (com:Company {cusip6: $ownsParam.cusip6})\n",
    "RETURN owns { .shares, .value }\n",
    "\"\"\", params={ 'ownsParam': first_form13 })"
   ]
  },
  {
   "cell_type": "code",
   "execution_count": 240,
   "metadata": {},
   "outputs": [],
   "source": [
    "# now loop through all form 13s\n",
    "cypher = \"\"\"\n",
    "MATCH (mgr:Manager {managerCik: $ownsParam.managerCik}), \n",
    "        (com:Company {cusip6: $ownsParam.cusip6})\n",
    "MERGE (mgr)-[owns:OWNS_STOCK_IN { \n",
    "    reportCalendarOrQuarter: $ownsParam.reportCalendarOrQuarter \n",
    "    }]->(com)\n",
    "  ON CREATE\n",
    "    SET owns.value  = toFloat($ownsParam.value), \n",
    "        owns.shares = toInteger($ownsParam.shares)\n",
    "\"\"\"\n",
    "\n",
    "#loop through all Form 13s\n",
    "for form13 in all_form13s:\n",
    "  kg.query(cypher, params={'ownsParam': form13 })"
   ]
  },
  {
   "cell_type": "code",
   "execution_count": 241,
   "metadata": {},
   "outputs": [
    {
     "data": {
      "text/plain": [
       "[{'investments': 561}]"
      ]
     },
     "execution_count": 241,
     "metadata": {},
     "output_type": "execute_result"
    }
   ],
   "source": [
    "cypher = \"\"\"\n",
    "  MATCH (:Manager)-[owns:OWNS_STOCK_IN]->(:Company)\n",
    "  RETURN count(owns) as investments\n",
    "\"\"\"\n",
    "\n",
    "kg.query(cypher)"
   ]
  },
  {
   "cell_type": "code",
   "execution_count": 242,
   "metadata": {},
   "outputs": [
    {
     "name": "stdout",
     "output_type": "stream",
     "text": [
      "Node properties are the following: Chunk {textEmbedding:\n",
      "LIST, f10kItem: STRING, chunkSeqId: INTEGER, text: STRING,\n",
      "cik: STRING, cusip6: STRING, names: LIST, formId: STRING,\n",
      "source: STRING, chunkId: STRING},Form {cik: STRING, cusip6:\n",
      "STRING, names: LIST, formId: STRING, source: STRING},Company\n",
      "{cusip6: STRING, names: LIST, companyName: STRING, cusip:\n",
      "STRING},Manager {managerName: STRING, managerCik: STRING,\n",
      "managerAddress: STRING} Relationship properties are the\n",
      "following: SECTION {f10kItem: STRING},OWNS_STOCK_IN {shares:\n",
      "INTEGER, reportCalendarOrQuarter: STRING, value: FLOAT} The\n",
      "relationships are the following: (:Chunk)-[:NEXT]-\n",
      ">(:Chunk),(:Chunk)-[:PART_OF]->(:Form),(:Form)-[:SECTION]-\n",
      ">(:Chunk),(:Company)-[:FILED]->(:Form),(:Manager)-\n",
      "[:OWNS_STOCK_IN]->(:Company)\n"
     ]
    }
   ],
   "source": [
    "# show schema\n",
    "kg.refresh_schema()\n",
    "print(textwrap.fill(kg.schema, 60))"
   ]
  },
  {
   "cell_type": "markdown",
   "metadata": {},
   "source": [
    "### Determine the number of investors\n",
    "- Start by finding a form 10-K chunk, and save to use in subsequent queries"
   ]
  },
  {
   "cell_type": "code",
   "execution_count": 243,
   "metadata": {},
   "outputs": [
    {
     "name": "stdout",
     "output_type": "stream",
     "text": [
      "[{'chunkId': '0000950170-23-027948-item1-chunk0000'}]\n"
     ]
    }
   ],
   "source": [
    "cypher = \"\"\"\n",
    "    MATCH (chunk:Chunk)\n",
    "    RETURN chunk.chunkId as chunkId LIMIT 1\n",
    "    \"\"\"\n",
    "\n",
    "chunk_rows = kg.query(cypher)\n",
    "print(chunk_rows)"
   ]
  },
  {
   "cell_type": "code",
   "execution_count": 244,
   "metadata": {},
   "outputs": [
    {
     "name": "stdout",
     "output_type": "stream",
     "text": [
      "{'chunkId': '0000950170-23-027948-item1-chunk0000'}\n"
     ]
    }
   ],
   "source": [
    "chunk_first_row = chunk_rows[0]\n",
    "print(chunk_first_row)"
   ]
  },
  {
   "cell_type": "code",
   "execution_count": 245,
   "metadata": {},
   "outputs": [
    {
     "data": {
      "text/plain": [
       "'0000950170-23-027948-item1-chunk0000'"
      ]
     },
     "execution_count": 245,
     "metadata": {},
     "output_type": "execute_result"
    }
   ],
   "source": [
    "ref_chunk_id = chunk_first_row['chunkId']\n",
    "ref_chunk_id"
   ]
  },
  {
   "cell_type": "markdown",
   "metadata": {},
   "source": [
    "## Build up path from Form 10-K chunk to companies and managers"
   ]
  },
  {
   "cell_type": "code",
   "execution_count": 246,
   "metadata": {},
   "outputs": [
    {
     "data": {
      "text/plain": [
       "[{'f.source': 'https://www.sec.gov/Archives/edgar/data/1002047/000095017023027948/0000950170-23-027948-index.htm'}]"
      ]
     },
     "execution_count": 246,
     "metadata": {},
     "output_type": "execute_result"
    }
   ],
   "source": [
    "cypher = \"\"\"\n",
    "    MATCH (:Chunk {chunkId: $chunkIdParam})-[:PART_OF]->(f:Form)\n",
    "    RETURN f.source\n",
    "    \"\"\"\n",
    "\n",
    "kg.query(cypher, params={'chunkIdParam': ref_chunk_id})"
   ]
  },
  {
   "cell_type": "code",
   "execution_count": 247,
   "metadata": {},
   "outputs": [
    {
     "data": {
      "text/plain": [
       "[{'name': 'NETAPP INC'}]"
      ]
     },
     "execution_count": 247,
     "metadata": {},
     "output_type": "execute_result"
    }
   ],
   "source": [
    "cypher = \"\"\"\n",
    "MATCH (:Chunk {chunkId: $chunkIdParam})-[:PART_OF]->(f:Form),\n",
    "    (com:Company)-[:FILED]->(f)\n",
    "RETURN com.companyName as name\n",
    "\"\"\"\n",
    "\n",
    "kg.query(cypher, params={'chunkIdParam': ref_chunk_id})"
   ]
  },
  {
   "cell_type": "markdown",
   "metadata": {},
   "source": [
    "### Check no of investors\n",
    "\n",
    "Only the KG can ansewr this question!\n",
    "\n"
   ]
  },
  {
   "cell_type": "code",
   "execution_count": 248,
   "metadata": {},
   "outputs": [
    {
     "data": {
      "text/plain": [
       "[{'com.companyName': 'NETAPP INC', 'numberOfinvestors': 561}]"
      ]
     },
     "execution_count": 248,
     "metadata": {},
     "output_type": "execute_result"
    }
   ],
   "source": [
    "cypher = \"\"\"\n",
    "MATCH (:Chunk {chunkId: $chunkIdParam})-[:PART_OF]->(f:Form),\n",
    "        (com:Company)-[:FILED]->(f),\n",
    "        (mgr:Manager)-[:OWNS_STOCK_IN]->(com)\n",
    "RETURN com.companyName, \n",
    "        count(mgr.managerName) as numberOfinvestors \n",
    "LIMIT 1\n",
    "\"\"\"\n",
    "\n",
    "kg.query(cypher, params={\n",
    "    'chunkIdParam': ref_chunk_id\n",
    "})"
   ]
  },
  {
   "cell_type": "markdown",
   "metadata": {},
   "source": [
    "## Use queries to build additional context for LLM\n",
    "\n",
    "Create sentences that indicate how much stock a manager has invested in a company"
   ]
  },
  {
   "cell_type": "code",
   "execution_count": 249,
   "metadata": {},
   "outputs": [
    {
     "data": {
      "text/plain": [
       "[{'text': 'CSS LLC/IL owns 12500 shares of NETAPP INC at a value of $955,000,000'},\n",
       " {'text': 'BOKF, NA owns 40774 shares of NETAPP INC at a value of $3,115,134,000'},\n",
       " {'text': 'BANK OF NOVA SCOTIA owns 18676 shares of NETAPP INC at a value of $1,426,847,000'},\n",
       " {'text': 'Jefferies Financial Group Inc. owns 23200 shares of NETAPP INC at a value of $1,772,480,000'},\n",
       " {'text': 'DEUTSCHE BANK AG\\\\ owns 929854 shares of NETAPP INC at a value of $71,040,845,000'},\n",
       " {'text': 'TORONTO DOMINION BANK owns 183163 shares of NETAPP INC at a value of $13,984,000'},\n",
       " {'text': 'STATE BOARD OF ADMINISTRATION OF FLORIDA RETIREMENT SYSTEM owns 265756 shares of NETAPP INC at a value of $20,303,759,000'},\n",
       " {'text': 'NISA INVESTMENT ADVISORS, LLC owns 67848 shares of NETAPP INC at a value of $5,183,587,000'},\n",
       " {'text': 'ONTARIO TEACHERS PENSION PLAN BOARD owns 7290 shares of NETAPP INC at a value of $556,956,000'},\n",
       " {'text': 'STATE STREET CORP owns 9321206 shares of NETAPP INC at a value of $712,140,138,000'}]"
      ]
     },
     "execution_count": 249,
     "metadata": {},
     "output_type": "execute_result"
    }
   ],
   "source": [
    "cypher = \"\"\"\n",
    "    MATCH (:Chunk {chunkId: $chunkIdParam})-[:PART_OF]->(f:Form),\n",
    "        (com:Company)-[:FILED]->(f),\n",
    "        (mgr:Manager)-[owns:OWNS_STOCK_IN]->(com)\n",
    "    RETURN mgr.managerName + \" owns \" + owns.shares + \n",
    "        \" shares of \" + com.companyName + \n",
    "        \" at a value of $\" + \n",
    "        apoc.number.format(toInteger(owns.value)) AS text\n",
    "    LIMIT 10\n",
    "    \"\"\"\n",
    "kg.query(cypher, params={\n",
    "    'chunkIdParam': ref_chunk_id\n",
    "})"
   ]
  },
  {
   "cell_type": "code",
   "execution_count": 250,
   "metadata": {},
   "outputs": [
    {
     "name": "stdout",
     "output_type": "stream",
     "text": [
      "CSS LLC/IL owns 12500 shares of NETAPP INC at a value of\n",
      "$955,000,000\n"
     ]
    }
   ],
   "source": [
    "results = kg.query(cypher, params={\n",
    "    'chunkIdParam': ref_chunk_id\n",
    "})\n",
    "print(textwrap.fill(results[0]['text'], 60))"
   ]
  },
  {
   "cell_type": "markdown",
   "metadata": {},
   "source": [
    "## QA Chains\n",
    "\n",
    "Again create two chains: a plain chain and a second with augmented similarity search"
   ]
  },
  {
   "cell_type": "code",
   "execution_count": 251,
   "metadata": {},
   "outputs": [],
   "source": [
    "# Similarity search only, no augmentation by Cypher Query\n",
    "vector_store = Neo4jVector.from_existing_graph(\n",
    "    embedding=OpenAIEmbeddings(),\n",
    "    url=NEO4J_URI,\n",
    "    username=NEO4J_USERNAME,\n",
    "    password=NEO4J_PASSWORD,\n",
    "    index_name=VECTOR_INDEX_NAME,\n",
    "    database=\"ten-k\",\n",
    "    node_label=VECTOR_NODE_LABEL,\n",
    "    text_node_properties=[VECTOR_SOURCE_PROPERTY],\n",
    "    embedding_node_property=VECTOR_EMBEDDING_PROPERTY,\n",
    ")\n",
    "# Create a retriever from the vector store\n",
    "retriever = vector_store.as_retriever()\n",
    "\n",
    "# Create a chatbot Question & Answer chain from the retriever\n",
    "plain_chain = RetrievalQAWithSourcesChain.from_chain_type(\n",
    "    ChatOpenAI(temperature=0), \n",
    "    chain_type=\"stuff\", \n",
    "    retriever=retriever\n",
    ")"
   ]
  },
  {
   "cell_type": "code",
   "execution_count": 253,
   "metadata": {},
   "outputs": [],
   "source": [
    "# second chain with augmented similarity search using sentences found by the investment query above\n",
    "investment_retrieval_query = \"\"\"\n",
    "MATCH (node)-[:PART_OF]->(f:Form),\n",
    "    (f)<-[:FILED]-(com:Company),\n",
    "    (com)<-[owns:OWNS_STOCK_IN]-(mgr:Manager)\n",
    "WITH node, score, mgr, owns, com \n",
    "    ORDER BY owns.shares DESC LIMIT 10\n",
    "WITH collect (\n",
    "    mgr.managerName + \n",
    "    \" owns \" + owns.shares + \n",
    "    \" shares in \" + com.companyName + \n",
    "    \" at a value of $\" + \n",
    "    apoc.number.format(toInteger(owns.value)) + \".\" \n",
    ") AS investment_statements, node, score\n",
    "RETURN apoc.text.join(investment_statements, \"\\n\") + \n",
    "    \"\\n\" + node.text AS text,\n",
    "    score,\n",
    "    { \n",
    "      source: node.source\n",
    "    } as metadata\n",
    "\"\"\"\n",
    "vector_store_with_investment = Neo4jVector.from_existing_index(\n",
    "    OpenAIEmbeddings(),\n",
    "    url=NEO4J_URI,\n",
    "    username=NEO4J_USERNAME,\n",
    "    password=NEO4J_PASSWORD,\n",
    "    database=\"ten-k\",\n",
    "    index_name=VECTOR_INDEX_NAME,\n",
    "    text_node_property=VECTOR_SOURCE_PROPERTY,\n",
    "    retrieval_query=investment_retrieval_query,\n",
    ")\n",
    "\n",
    "# Create a retriever from the vector store\n",
    "retriever_with_investments = vector_store_with_investment.as_retriever()\n",
    "\n",
    "# Create a chatbot Question & Answer chain from the retriever\n",
    "investment_chain = RetrievalQAWithSourcesChain.from_chain_type(\n",
    "    ChatOpenAI(temperature=0), \n",
    "    chain_type=\"stuff\", \n",
    "    retriever=retriever_with_investments\n",
    ")"
   ]
  },
  {
   "cell_type": "code",
   "execution_count": 254,
   "metadata": {},
   "outputs": [],
   "source": [
    "question = \"In a single sentence, tell me about Netapp.\""
   ]
  },
  {
   "cell_type": "code",
   "execution_count": 255,
   "metadata": {},
   "outputs": [
    {
     "data": {
      "text/plain": [
       "{'answer': 'NetApp is a global cloud-led, data-centric software company that provides customers with the freedom to manage applications and data across hybrid multicloud environments. \\n',\n",
       " 'sources': 'https://www.sec.gov/Archives/edgar/data/1002047/000095017023027948/0000950170-23-027948-index.htm'}"
      ]
     },
     "execution_count": 255,
     "metadata": {},
     "output_type": "execute_result"
    }
   ],
   "source": [
    "plain_chain(\n",
    "    {\"question\": question},\n",
    "    return_only_outputs=True,\n",
    ")"
   ]
  },
  {
   "cell_type": "code",
   "execution_count": 256,
   "metadata": {},
   "outputs": [
    {
     "data": {
      "text/plain": [
       "{'answer': 'NetApp is a global cloud-led, data-centric software company that provides customers with the freedom to manage applications and data across hybrid multicloud environments. \\n',\n",
       " 'sources': 'https://www.sec.gov/Archives/edgar/data/1002047/000095017023027948/0000950170-23-027948-index.htm'}"
      ]
     },
     "execution_count": 256,
     "metadata": {},
     "output_type": "execute_result"
    }
   ],
   "source": [
    "investment_chain(\n",
    "    {\"question\": question},\n",
    "    return_only_outputs=True,\n",
    ")"
   ]
  },
  {
   "cell_type": "code",
   "execution_count": 257,
   "metadata": {},
   "outputs": [
    {
     "data": {
      "text/plain": [
       "{'answer': 'Netapp investors are diverse and include global enterprises, local businesses, and government installations who look to NetApp and its ecosystem of partners to maximize the business value of their IT and cloud investments.\\n',\n",
       " 'sources': 'https://www.sec.gov/Archives/edgar/data/1002047/000095017023027948/0000950170-23-027948-index.htm'}"
      ]
     },
     "execution_count": 257,
     "metadata": {},
     "output_type": "execute_result"
    }
   ],
   "source": [
    "# The LLM didn't make use of the investor information since the question didn't ask about investors\n",
    "question = \"In a single sentence, tell me about Netapp investors.\"\n",
    "\n",
    "plain_chain(\n",
    "    {\"question\": question},\n",
    "    return_only_outputs=True,\n",
    ")\n"
   ]
  },
  {
   "cell_type": "code",
   "execution_count": 258,
   "metadata": {},
   "outputs": [
    {
     "data": {
      "text/plain": [
       "{'answer': 'Netapp investors include VANGUARD GROUP INC, BlackRock Inc., and PRIMECAP MANAGEMENT CO/CA/.\\n',\n",
       " 'sources': 'https://www.sec.gov/Archives/edgar/data/1002047/000095017023027948/0000950170-23-027948-index.htm'}"
      ]
     },
     "execution_count": 258,
     "metadata": {},
     "output_type": "execute_result"
    }
   ],
   "source": [
    "investment_chain(\n",
    "    {\"question\": question},\n",
    "    return_only_outputs=True,\n",
    ")"
   ]
  },
  {
   "cell_type": "markdown",
   "metadata": {},
   "source": [
    "# Chat with the knowledge graph\n",
    "\n",
    "First created a MVP Graph and later exented it. \n",
    "\n",
    "Steps above:\n",
    "\n",
    "1. From the forms split the text\n",
    "2. Create chunks\n",
    "3. Create nodes from the chunks\n",
    "4. Add embeddings\n",
    "6. Connect the chunks\n",
    "\n",
    "| Chunked Text Nodes | Form 10K Nodes | Companies | Management Firms |\n",
    "|---|---|---|---|\n",
    "| Source | Form 10K json | Form 13 CSV | Form 13 CSV |\n",
    "| 1. Extract | :Chunk | :Form | :Company | :Manager |\n",
    "| 2. Enhance | Vector embedding of text | Unique chunk IDs | Unique company cusip6 | Full-text index of names |\n",
    "| 3. Expand | (Chunk) -[NEXT]-> (Chunk) | (Chunk) -[PART_OF]-> (Form) | (Company) -[FILED]-> (Form) | (Manager) -[OWNS_STOCK_IN]-> (Company) |\n",
    "\n",
    "Potential growth would be \n",
    "\n",
    "- cross-link comapnies that mention each other\n",
    "- add people, places, topics extracted from text\n",
    "- add more from data\n",
    "- add users to refine the graph\n",
    "\n"
   ]
  },
  {
   "cell_type": "code",
   "execution_count": 281,
   "metadata": {},
   "outputs": [],
   "source": [
    "from langchain.prompts.prompt import PromptTemplate\n",
    "from langchain.chains import RetrievalQAWithSourcesChain\n",
    "from langchain.prompts.prompt import PromptTemplate\n",
    "from langchain.chains import GraphCypherQAChain\n",
    "# Load from environment\n",
    "load_dotenv('.env', override=True)\n",
    "NEO4J_URI = os.getenv('NEO4J_URI')\n",
    "NEO4J_USERNAME = os.getenv('NEO4J_USERNAME')\n",
    "NEO4J_PASSWORD = os.getenv('NEO4J_PASSWORD')\n",
    "OPENAI_API_KEY = os.getenv('OPENAI_API_KEY')\n",
    "\n",
    "# Global constants\n",
    "VECTOR_INDEX_NAME = 'form_10k_chunks'\n",
    "VECTOR_NODE_LABEL = 'Chunk'\n",
    "VECTOR_SOURCE_PROPERTY = 'text'\n",
    "VECTOR_EMBEDDING_PROPERTY = 'textEmbedding'"
   ]
  },
  {
   "cell_type": "code",
   "execution_count": 261,
   "metadata": {},
   "outputs": [],
   "source": [
    "# take that the DB is already created from dump file\n",
    "kg = Neo4jGraph(\n",
    "    url=NEO4J_URI, username=NEO4J_USERNAME, password=NEO4J_PASSWORD, database='ten-k-full'\n",
    ")"
   ]
  },
  {
   "cell_type": "code",
   "execution_count": 262,
   "metadata": {},
   "outputs": [
    {
     "name": "stdout",
     "output_type": "stream",
     "text": [
      "Node properties are the following: Chunk {textEmbedding:\n",
      "LIST, f10kItem: STRING, chunkSeqId: INTEGER, text: STRING,\n",
      "cik: STRING, cusip6: STRING, names: LIST, formId: STRING,\n",
      "source: STRING, chunkId: STRING},Form {cusip6: STRING,\n",
      "names: LIST, formId: STRING, source: STRING},Company\n",
      "{location: POINT, cusip: STRING, names: LIST,\n",
      "companyAddress: STRING, companyName: STRING, cusip6:\n",
      "STRING},Manager {location: POINT, managerName: STRING,\n",
      "managerCik: STRING, managerAddress: STRING},Address\n",
      "{location: POINT, country: STRING, city: STRING, state:\n",
      "STRING} Relationship properties are the following: SECTION\n",
      "{f10kItem: STRING},OWNS_STOCK_IN {shares: INTEGER,\n",
      "reportCalendarOrQuarter: STRING, value: FLOAT} The\n",
      "relationships are the following: (:Chunk)-[:NEXT]-\n",
      ">(:Chunk),(:Chunk)-[:PART_OF]->(:Form),(:Form)-[:SECTION]-\n",
      ">(:Chunk),(:Company)-[:FILED]->(:Form),(:Company)-\n",
      "[:LOCATED_AT]->(:Address),(:Manager)-[:LOCATED_AT]-\n",
      ">(:Address),(:Manager)-[:OWNS_STOCK_IN]->(:Company)\n"
     ]
    }
   ],
   "source": [
    "kg.refresh_schema()\n",
    "print(textwrap.fill(kg.schema, 60))"
   ]
  },
  {
   "cell_type": "markdown",
   "metadata": {},
   "source": [
    "## Explore some data"
   ]
  },
  {
   "cell_type": "code",
   "execution_count": 263,
   "metadata": {},
   "outputs": [
    {
     "data": {
      "text/plain": [
       "[{'mgr': {'managerCik': '1424381',\n",
       "   'managerAddress': '650 Madison Avenue, 25th Floor, New York, NY, 10022',\n",
       "   'location': POINT(-73.9713457 40.7639879),\n",
       "   'managerName': 'LAKEWOOD CAPITAL MANAGEMENT, LP'},\n",
       "  'addr': {'country': 'United States',\n",
       "   'city': 'New York',\n",
       "   'location': POINT(-73.9821429 40.7584882),\n",
       "   'state': 'New York'}}]"
      ]
     },
     "execution_count": 263,
     "metadata": {},
     "output_type": "execute_result"
    }
   ],
   "source": [
    "kg.query(\"\"\"\n",
    "MATCH (mgr:Manager)-[:LOCATED_AT]->(addr:Address)\n",
    "RETURN mgr, addr\n",
    "LIMIT 1\n",
    "\"\"\")"
   ]
  },
  {
   "cell_type": "code",
   "execution_count": 264,
   "metadata": {},
   "outputs": [
    {
     "data": {
      "text/plain": [
       "[{'node.managerName': 'Royal Bank of Canada', 'score': 4.431276321411133}]"
      ]
     },
     "execution_count": 264,
     "metadata": {},
     "output_type": "execute_result"
    }
   ],
   "source": [
    "# Full text search for a manager named Royal Bank\n",
    "kg.query(\"\"\"\n",
    "  CALL db.index.fulltext.queryNodes(\n",
    "         \"fullTextManagerNames\", \n",
    "         \"royal bank\") YIELD node, score\n",
    "  RETURN node.managerName, score LIMIT 1\n",
    "\"\"\")"
   ]
  },
  {
   "cell_type": "code",
   "execution_count": 265,
   "metadata": {},
   "outputs": [
    {
     "data": {
      "text/plain": [
       "[{'mgr.managerName': 'Royal Bank of Canada',\n",
       "  'addr': {'country': 'Canada',\n",
       "   'city': 'Toronto',\n",
       "   'location': POINT(-79.3805647 43.6508267),\n",
       "   'state': 'Ontario'}}]"
      ]
     },
     "execution_count": 265,
     "metadata": {},
     "output_type": "execute_result"
    }
   ],
   "source": [
    "kg.query(\"\"\"\n",
    "CALL db.index.fulltext.queryNodes(\n",
    "         \"fullTextManagerNames\", \n",
    "         \"royal bank\"\n",
    "  ) YIELD node, score\n",
    "WITH node as mgr LIMIT 1\n",
    "MATCH (mgr:Manager)-[:LOCATED_AT]->(addr:Address)\n",
    "RETURN mgr.managerName, addr\n",
    "\"\"\")"
   ]
  },
  {
   "cell_type": "code",
   "execution_count": 266,
   "metadata": {},
   "outputs": [
    {
     "data": {
      "text/plain": [
       "[{'state': 'New York', 'numManagers': 304},\n",
       " {'state': 'California', 'numManagers': 302},\n",
       " {'state': 'Massachusetts', 'numManagers': 146},\n",
       " {'state': 'Pennsylvania', 'numManagers': 138},\n",
       " {'state': 'Texas', 'numManagers': 125},\n",
       " {'state': 'Illinois', 'numManagers': 121},\n",
       " {'state': 'Florida', 'numManagers': 115},\n",
       " {'state': 'Connecticut', 'numManagers': 77},\n",
       " {'state': 'Ohio', 'numManagers': 76},\n",
       " {'state': 'New Jersey', 'numManagers': 69}]"
      ]
     },
     "execution_count": 266,
     "metadata": {},
     "output_type": "execute_result"
    }
   ],
   "source": [
    "#  which state has the most investment firms\n",
    "kg.query(\"\"\"\n",
    "  MATCH p=(:Manager)-[:LOCATED_AT]->(address:Address)\n",
    "  RETURN address.state as state, count(address.state) as numManagers\n",
    "    ORDER BY numManagers DESC\n",
    "    LIMIT 10\n",
    "\"\"\")"
   ]
  },
  {
   "cell_type": "code",
   "execution_count": 267,
   "metadata": {},
   "outputs": [
    {
     "data": {
      "text/plain": [
       "[{'state': 'California', 'numCompanies': 7},\n",
       " {'state': 'Delaware', 'numCompanies': 1},\n",
       " {'state': 'New York', 'numCompanies': 1},\n",
       " {'state': 'Oregon', 'numCompanies': 1}]"
      ]
     },
     "execution_count": 267,
     "metadata": {},
     "output_type": "execute_result"
    }
   ],
   "source": [
    "#  which state has the most companies\n",
    "kg.query(\"\"\"\n",
    "  MATCH p=(:Company)-[:LOCATED_AT]->(address:Address)\n",
    "  RETURN address.state as state, count(address.state) as numCompanies\n",
    "    ORDER BY numCompanies DESC\n",
    "\"\"\")"
   ]
  },
  {
   "cell_type": "code",
   "execution_count": 268,
   "metadata": {},
   "outputs": [
    {
     "data": {
      "text/plain": [
       "[{'city': 'San Francisco', 'numManagers': 48},\n",
       " {'city': 'Los Angeles', 'numManagers': 44},\n",
       " {'city': 'San Diego', 'numManagers': 17},\n",
       " {'city': 'Pasadena', 'numManagers': 13},\n",
       " {'city': 'Menlo Park', 'numManagers': 9},\n",
       " {'city': 'Newport Beach', 'numManagers': 9},\n",
       " {'city': 'Irvine', 'numManagers': 9},\n",
       " {'city': 'Walnut Creek', 'numManagers': 8},\n",
       " {'city': 'Palo Alto', 'numManagers': 6},\n",
       " {'city': 'Lafayette', 'numManagers': 6}]"
      ]
     },
     "execution_count": 268,
     "metadata": {},
     "output_type": "execute_result"
    }
   ],
   "source": [
    "# cities in california with the most investment firms\n",
    "kg.query(\"\"\"\n",
    "  MATCH p=(:Manager)-[:LOCATED_AT]->(address:Address)\n",
    "         WHERE address.state = 'California'\n",
    "  RETURN address.city as city, count(address.city) as numManagers\n",
    "    ORDER BY numManagers DESC\n",
    "    LIMIT 10\n",
    "\"\"\")"
   ]
  },
  {
   "cell_type": "code",
   "execution_count": 269,
   "metadata": {},
   "outputs": [
    {
     "data": {
      "text/plain": [
       "[{'city': 'Santa Clara', 'numCompanies': 3},\n",
       " {'city': 'San Jose', 'numCompanies': 2},\n",
       " {'city': 'Sunnyvale', 'numCompanies': 1},\n",
       " {'city': 'Cupertino', 'numCompanies': 1}]"
      ]
     },
     "execution_count": 269,
     "metadata": {},
     "output_type": "execute_result"
    }
   ],
   "source": [
    "# Which city in California has the most companies listed?\n",
    "kg.query(\"\"\"\n",
    "  MATCH p=(:Company)-[:LOCATED_AT]->(address:Address)\n",
    "         WHERE address.state = 'California'\n",
    "  RETURN address.city as city, count(address.city) as numCompanies\n",
    "    ORDER BY numCompanies DESC\n",
    "\"\"\")"
   ]
  },
  {
   "cell_type": "code",
   "execution_count": 270,
   "metadata": {},
   "outputs": [
    {
     "data": {
      "text/plain": [
       "[{'mgr.managerName': 'Dodge & Cox', 'totalInvestmentValue': 3889236092000.0},\n",
       " {'mgr.managerName': 'WELLS FARGO & COMPANY/MN',\n",
       "  'totalInvestmentValue': 2177580039000.0},\n",
       " {'mgr.managerName': 'CHARLES SCHWAB INVESTMENT MANAGEMENT INC',\n",
       "  'totalInvestmentValue': 1944847519000.0},\n",
       " {'mgr.managerName': 'Parallax Volatility Advisers, L.P.',\n",
       "  'totalInvestmentValue': 694023723000.0},\n",
       " {'mgr.managerName': 'PARNASSUS INVESTMENTS, LLC',\n",
       "  'totalInvestmentValue': 211068925000.0},\n",
       " {'mgr.managerName': 'Spyglass Capital Management LLC',\n",
       "  'totalInvestmentValue': 98135259000.0},\n",
       " {'mgr.managerName': 'Valiant Capital Management, L.P.',\n",
       "  'totalInvestmentValue': 52124040000.0},\n",
       " {'mgr.managerName': 'Ensemble Capital Management, LLC',\n",
       "  'totalInvestmentValue': 42355370000.0},\n",
       " {'mgr.managerName': 'Woodline Partners LP',\n",
       "  'totalInvestmentValue': 41497384000.0},\n",
       " {'mgr.managerName': 'Alta Park Capital, LP',\n",
       "  'totalInvestmentValue': 38959909000.0}]"
      ]
     },
     "execution_count": 270,
     "metadata": {},
     "output_type": "execute_result"
    }
   ],
   "source": [
    "# top investment firms in California\n",
    "kg.query(\"\"\"\n",
    "  MATCH p=(mgr:Manager)-[:LOCATED_AT]->(address:Address),\n",
    "         (mgr)-[owns:OWNS_STOCK_IN]->(:Company)\n",
    "         WHERE address.city = \"San Francisco\"\n",
    "  RETURN mgr.managerName, sum(owns.value) as totalInvestmentValue\n",
    "    ORDER BY totalInvestmentValue DESC\n",
    "    LIMIT 10\n",
    "\"\"\")"
   ]
  },
  {
   "cell_type": "code",
   "execution_count": 271,
   "metadata": {},
   "outputs": [
    {
     "data": {
      "text/plain": [
       "[{'com.companyName': 'PALO ALTO NETWORKS INC'},\n",
       " {'com.companyName': 'SEAGATE TECHNOLOGY'},\n",
       " {'com.companyName': 'ATLASSIAN CORP PLC'}]"
      ]
     },
     "execution_count": 271,
     "metadata": {},
     "output_type": "execute_result"
    }
   ],
   "source": [
    "# santa clara companies\n",
    "kg.query(\"\"\"\n",
    "  MATCH (com:Company)-[:LOCATED_AT]->(address:Address)\n",
    "         WHERE address.city = \"Santa Clara\"\n",
    "  RETURN com.companyName\n",
    "\"\"\")"
   ]
  },
  {
   "cell_type": "code",
   "execution_count": 272,
   "metadata": {},
   "outputs": [
    {
     "data": {
      "text/plain": [
       "[{'com.companyName': 'PALO ALTO NETWORKS INC',\n",
       "  'com.companyAddress': '3000 Tannery Way, Santa Clara, CA 95054, USA'},\n",
       " {'com.companyName': 'GSI TECHNOLOGY INC',\n",
       "  'com.companyAddress': '1213 Elko Dr, Sunnyvale, CA 94089, USA'},\n",
       " {'com.companyName': 'SEAGATE TECHNOLOGY',\n",
       "  'com.companyAddress': '2445 Augustine Dr, Santa Clara, CA 95054, USA'},\n",
       " {'com.companyName': 'ATLASSIAN CORP PLC',\n",
       "  'com.companyAddress': '431 El Camino Real, Santa Clara, CA 95050, USA'},\n",
       " {'com.companyName': 'APPLE INC', 'com.companyAddress': 'Cupertino, CA, USA'}]"
      ]
     },
     "execution_count": 272,
     "metadata": {},
     "output_type": "execute_result"
    }
   ],
   "source": [
    "# companies within 10km of Santa Clara\n",
    "kg.query(\"\"\"\n",
    "  MATCH (sc:Address)\n",
    "    WHERE sc.city = \"Santa Clara\"\n",
    "  MATCH (com:Company)-[:LOCATED_AT]->(comAddr:Address)\n",
    "    WHERE point.distance(sc.location, comAddr.location) < 10000\n",
    "  RETURN com.companyName, com.companyAddress\n",
    "\"\"\")"
   ]
  },
  {
   "cell_type": "code",
   "execution_count": 273,
   "metadata": {},
   "outputs": [
    {
     "data": {
      "text/plain": [
       "[{'mgr.managerName': 'Mine & Arao Wealth Creation & Management, LLC.',\n",
       "  'mgr.managerAddress': '901 CAMPISI WAY, SUITE 140, CAMPBELL, CA, 95008'}]"
      ]
     },
     "execution_count": 273,
     "metadata": {},
     "output_type": "execute_result"
    }
   ],
   "source": [
    "# What investment firms are near Santa Clara?\n",
    "# Try updating the distance in the query to expand the search radius\n",
    "kg.query(\"\"\"\n",
    "  MATCH (address:Address)\n",
    "    WHERE address.city = \"Santa Clara\"\n",
    "  MATCH (mgr:Manager)-[:LOCATED_AT]->(managerAddress:Address)\n",
    "    WHERE point.distance(address.location, \n",
    "        managerAddress.location) < 10000\n",
    "  RETURN mgr.managerName, mgr.managerAddress\n",
    "\"\"\")"
   ]
  },
  {
   "cell_type": "code",
   "execution_count": 274,
   "metadata": {},
   "outputs": [
    {
     "data": {
      "text/plain": [
       "[{'mgr': {'managerCik': '1802994',\n",
       "   'managerAddress': '901 CAMPISI WAY, SUITE 140, CAMPBELL, CA, 95008',\n",
       "   'location': POINT(-121.9342655 37.2909459),\n",
       "   'managerName': 'Mine & Arao Wealth Creation & Management, LLC.'},\n",
       "  'distanceKm': 6}]"
      ]
     },
     "execution_count": 274,
     "metadata": {},
     "output_type": "execute_result"
    }
   ],
   "source": [
    "# Which investment firms are near Palo Aalto Networks?\n",
    "kg.query(\"\"\"\n",
    "  CALL db.index.fulltext.queryNodes(\n",
    "         \"fullTextCompanyNames\", \n",
    "         \"Palo Aalto Networks\"\n",
    "         ) YIELD node, score\n",
    "  WITH node as com\n",
    "  MATCH (com)-[:LOCATED_AT]->(comAddress:Address),\n",
    "    (mgr:Manager)-[:LOCATED_AT]->(mgrAddress:Address)\n",
    "    WHERE point.distance(comAddress.location, \n",
    "        mgrAddress.location) < 10000\n",
    "  RETURN mgr, \n",
    "    toInteger(point.distance(comAddress.location, \n",
    "        mgrAddress.location) / 1000) as distanceKm\n",
    "    ORDER BY distanceKm ASC\n",
    "    LIMIT 10\n",
    "\"\"\")"
   ]
  },
  {
   "cell_type": "markdown",
   "metadata": {},
   "source": [
    "## Writing Cypher with an LLM\n",
    "\n",
    "Neo4j integration within LangChain called GraphCypherQAChain"
   ]
  },
  {
   "cell_type": "code",
   "execution_count": 277,
   "metadata": {},
   "outputs": [],
   "source": [
    "CYPHER_GENERATION_TEMPLATE = \"\"\"Task:Generate Cypher statement to \n",
    "query a graph database.\n",
    "Instructions:\n",
    "Use only the provided relationship types and properties in the \n",
    "schema. Do not use any other relationship types or properties that \n",
    "are not provided.\n",
    "Schema:\n",
    "{schema}\n",
    "Note: Do not include any explanations or apologies in your responses.\n",
    "Do not respond to any questions that might ask anything else than \n",
    "for you to construct a Cypher statement.\n",
    "Do not include any text except the generated Cypher statement.\n",
    "Examples: Here are a few examples of generated Cypher \n",
    "statements for particular questions:\n",
    "\n",
    "# What investment firms are in San Francisco?\n",
    "MATCH (mgr:Manager)-[:LOCATED_AT]->(mgrAddress:Address)\n",
    "    WHERE mgrAddress.city = 'San Francisco'\n",
    "RETURN mgr.managerName\n",
    "The question is:\n",
    "{question}\"\"\""
   ]
  },
  {
   "cell_type": "code",
   "execution_count": 279,
   "metadata": {},
   "outputs": [],
   "source": [
    "CYPHER_GENERATION_PROMPT = PromptTemplate(\n",
    "    input_variables=[\"schema\", \"question\"], \n",
    "    template=CYPHER_GENERATION_TEMPLATE\n",
    ")"
   ]
  },
  {
   "cell_type": "code",
   "execution_count": 282,
   "metadata": {},
   "outputs": [],
   "source": [
    "CYPHER_GENERATION_PROMPT = PromptTemplate(\n",
    "    input_variables=[\"schema\", \"question\"], \n",
    "    template=CYPHER_GENERATION_TEMPLATE\n",
    ")\n",
    "\n",
    "cypherChain = GraphCypherQAChain.from_llm(\n",
    "    ChatOpenAI(temperature=0),\n",
    "    graph=kg,\n",
    "    verbose=True,\n",
    "    cypher_prompt=CYPHER_GENERATION_PROMPT,\n",
    ")"
   ]
  },
  {
   "cell_type": "code",
   "execution_count": 284,
   "metadata": {},
   "outputs": [],
   "source": [
    "def prettyCypherChain(question: str) -> str:\n",
    "    response = cypherChain.run(question)\n",
    "    print(textwrap.fill(response, 60))"
   ]
  },
  {
   "cell_type": "code",
   "execution_count": 285,
   "metadata": {},
   "outputs": [
    {
     "name": "stdout",
     "output_type": "stream",
     "text": [
      "\n",
      "\n",
      "\u001b[1m> Entering new GraphCypherQAChain chain...\u001b[0m\n",
      "Generated Cypher:\n",
      "\u001b[32;1m\u001b[1;3mMATCH (mgr:Manager)-[:LOCATED_AT]->(mgrAddress:Address)\n",
      "    WHERE mgrAddress.city = 'San Francisco'\n",
      "RETURN mgr.managerName\u001b[0m\n",
      "Full Context:\n",
      "\u001b[32;1m\u001b[1;3m[{'mgr.managerName': 'PARNASSUS INVESTMENTS, LLC'}, {'mgr.managerName': 'SKBA CAPITAL MANAGEMENT LLC'}, {'mgr.managerName': 'ROSENBLUM SILVERMAN SUTTON S F INC /CA'}, {'mgr.managerName': 'CHARLES SCHWAB INVESTMENT MANAGEMENT INC'}, {'mgr.managerName': 'WELLS FARGO & COMPANY/MN'}, {'mgr.managerName': 'Dodge & Cox'}, {'mgr.managerName': 'Strait & Sound Wealth Management LLC'}, {'mgr.managerName': 'Sonoma Private Wealth LLC'}, {'mgr.managerName': 'Fund Management at Engine No. 1 LLC'}, {'mgr.managerName': 'SELDON CAPITAL LP'}]\u001b[0m\n",
      "\n",
      "\u001b[1m> Finished chain.\u001b[0m\n",
      "PARNASSUS INVESTMENTS, LLC, SKBA CAPITAL MANAGEMENT LLC,\n",
      "ROSENBLUM SILVERMAN SUTTON S F INC /CA, and Strait & Sound\n",
      "Wealth Management LLC are investment firms in San Francisco.\n"
     ]
    }
   ],
   "source": [
    "prettyCypherChain(\"What investment firms are in San Francisco?\")"
   ]
  },
  {
   "cell_type": "code",
   "execution_count": 286,
   "metadata": {},
   "outputs": [
    {
     "name": "stdout",
     "output_type": "stream",
     "text": [
      "\n",
      "\n",
      "\u001b[1m> Entering new GraphCypherQAChain chain...\u001b[0m\n",
      "Generated Cypher:\n",
      "\u001b[32;1m\u001b[1;3mMATCH (mgr:Manager)-[:LOCATED_AT]->(mgrAddress:Address)\n",
      "    WHERE mgrAddress.city = 'Menlo Park'\n",
      "RETURN mgr.managerName\u001b[0m\n",
      "Full Context:\n",
      "\u001b[32;1m\u001b[1;3m[{'mgr.managerName': 'Bordeaux Wealth Advisors LLC'}, {'mgr.managerName': 'Opes Wealth Management LLC'}, {'mgr.managerName': 'Solstein Capital, LLC'}, {'mgr.managerName': 'Stamos Capital Partners, L.P.'}, {'mgr.managerName': 'TIEMANN INVESTMENT ADVISORS, LLC'}, {'mgr.managerName': 'SCGE MANAGEMENT, L.P.'}, {'mgr.managerName': 'Nelson Capital Management, LLC'}, {'mgr.managerName': 'Jasper Ridge Partners, L.P.'}, {'mgr.managerName': 'CROSSLINK CAPITAL INC'}]\u001b[0m\n",
      "\n",
      "\u001b[1m> Finished chain.\u001b[0m\n",
      "Bordeaux Wealth Advisors LLC, Opes Wealth Management LLC,\n",
      "Solstein Capital, LLC, Stamos Capital Partners, L.P.,\n",
      "TIEMANN INVESTMENT ADVISORS, LLC, SCGE MANAGEMENT, L.P.,\n",
      "Nelson Capital Management, LLC, Jasper Ridge Partners, L.P.,\n",
      "and CROSSLINK CAPITAL INC are investment firms in Menlo\n",
      "Park.\n"
     ]
    }
   ],
   "source": [
    "prettyCypherChain(\"What investment firms are in Menlo Park?\")"
   ]
  },
  {
   "cell_type": "code",
   "execution_count": 287,
   "metadata": {},
   "outputs": [
    {
     "name": "stdout",
     "output_type": "stream",
     "text": [
      "\n",
      "\n",
      "\u001b[1m> Entering new GraphCypherQAChain chain...\u001b[0m\n",
      "Generated Cypher:\n",
      "\u001b[32;1m\u001b[1;3mMATCH (comp:Company)-[:LOCATED_AT]->(compAddress:Address)\n",
      "    WHERE compAddress.city = 'Santa Clara'\n",
      "RETURN comp.companyName\u001b[0m\n",
      "Full Context:\n",
      "\u001b[32;1m\u001b[1;3m[{'comp.companyName': 'PALO ALTO NETWORKS INC'}, {'comp.companyName': 'SEAGATE TECHNOLOGY'}, {'comp.companyName': 'ATLASSIAN CORP PLC'}]\u001b[0m\n",
      "\n",
      "\u001b[1m> Finished chain.\u001b[0m\n",
      "PALO ALTO NETWORKS INC, SEAGATE TECHNOLOGY, ATLASSIAN CORP\n",
      "PLC are in Santa Clara.\n"
     ]
    }
   ],
   "source": [
    "prettyCypherChain(\"What companies are in Santa Clara?\")"
   ]
  },
  {
   "cell_type": "code",
   "execution_count": 288,
   "metadata": {},
   "outputs": [
    {
     "name": "stdout",
     "output_type": "stream",
     "text": [
      "\n",
      "\n",
      "\u001b[1m> Entering new GraphCypherQAChain chain...\u001b[0m\n",
      "Generated Cypher:\n",
      "\u001b[32;1m\u001b[1;3mMATCH (mgr:Manager)-[:LOCATED_AT]->(mgrAddress:Address)\n",
      "WHERE mgrAddress.city = 'Santa Clara'\n",
      "RETURN mgr.managerName\u001b[0m\n",
      "Full Context:\n",
      "\u001b[32;1m\u001b[1;3m[]\u001b[0m\n",
      "\n",
      "\u001b[1m> Finished chain.\u001b[0m\n",
      "I don't know the answer.\n"
     ]
    }
   ],
   "source": [
    "prettyCypherChain(\"What investment firms are near Santa Clara?\")"
   ]
  },
  {
   "cell_type": "markdown",
   "metadata": {},
   "source": [
    "## Expand the prompt to teach the LLM new Cypher patterns\n",
    "\n",
    "Update Cypher generation prompt with new template, and re-initialize the Cypher chain to use the new prompt\n",
    "Rerun this code anytime you make a change to the Cypher generation template!"
   ]
  },
  {
   "cell_type": "code",
   "execution_count": 292,
   "metadata": {},
   "outputs": [],
   "source": [
    "CYPHER_GENERATION_TEMPLATE = \"\"\"Task:Generate Cypher statement to query a graph database.\n",
    "Instructions:\n",
    "Use only the provided relationship types and properties in the schema.\n",
    "Do not use any other relationship types or properties that are not provided.\n",
    "Schema:\n",
    "{schema}\n",
    "Note: Do not include any explanations or apologies in your responses.\n",
    "Do not respond to any questions that might ask anything else than for you to construct a Cypher statement.\n",
    "Do not include any text except the generated Cypher statement.\n",
    "Examples: Here are a few examples of generated Cypher statements for particular questions:\n",
    "\n",
    "# What investment firms are in San Francisco?\n",
    "MATCH (mgr:Manager)-[:LOCATED_AT]->(mgrAddress:Address)\n",
    "    WHERE mgrAddress.city = 'San Francisco'\n",
    "RETURN mgr.managerName\n",
    "\n",
    "# What investment firms are near Santa Clara?\n",
    "  MATCH (address:Address)\n",
    "    WHERE address.city = \"Santa Clara\"\n",
    "  MATCH (mgr:Manager)-[:LOCATED_AT]->(managerAddress:Address)\n",
    "    WHERE point.distance(address.location, \n",
    "        managerAddress.location) < 10000\n",
    "  RETURN mgr.managerName, mgr.managerAddress\n",
    "\n",
    "The question is:\n",
    "{question}\"\"\""
   ]
  },
  {
   "cell_type": "code",
   "execution_count": 293,
   "metadata": {},
   "outputs": [],
   "source": [
    "CYPHER_GENERATION_PROMPT = PromptTemplate(\n",
    "    input_variables=[\"schema\", \"question\"], \n",
    "    template=CYPHER_GENERATION_TEMPLATE\n",
    ")\n",
    "\n",
    "cypherChain = GraphCypherQAChain.from_llm(\n",
    "    ChatOpenAI(temperature=0),\n",
    "    graph=kg,\n",
    "    verbose=True,\n",
    "    cypher_prompt=CYPHER_GENERATION_PROMPT,\n",
    ")"
   ]
  },
  {
   "cell_type": "code",
   "execution_count": 294,
   "metadata": {},
   "outputs": [
    {
     "name": "stdout",
     "output_type": "stream",
     "text": [
      "\n",
      "\n",
      "\u001b[1m> Entering new GraphCypherQAChain chain...\u001b[0m\n",
      "Generated Cypher:\n",
      "\u001b[32;1m\u001b[1;3mMATCH (address:Address)\n",
      "    WHERE address.city = \"Santa Clara\"\n",
      "MATCH (mgr:Manager)-[:LOCATED_AT]->(managerAddress:Address)\n",
      "    WHERE point.distance(address.location, managerAddress.location) < 10000\n",
      "RETURN mgr.managerName, mgr.managerAddress\u001b[0m\n",
      "Full Context:\n",
      "\u001b[32;1m\u001b[1;3m[{'mgr.managerName': 'Mine & Arao Wealth Creation & Management, LLC.', 'mgr.managerAddress': '901 CAMPISI WAY, SUITE 140, CAMPBELL, CA, 95008'}]\u001b[0m\n",
      "\n",
      "\u001b[1m> Finished chain.\u001b[0m\n",
      "Mine & Arao Wealth Creation & Management, LLC. is near Santa\n",
      "Clara.\n"
     ]
    }
   ],
   "source": [
    "prettyCypherChain(\"What investment firms are near Santa Clara?\")"
   ]
  },
  {
   "cell_type": "markdown",
   "metadata": {},
   "source": [
    "## Expand the query to retrieve information from the Form 10K chunks¶\n",
    "\n"
   ]
  },
  {
   "cell_type": "code",
   "execution_count": 298,
   "metadata": {},
   "outputs": [],
   "source": [
    "CYPHER_GENERATION_TEMPLATE = \"\"\"Task:Generate Cypher statement to query a graph database.\n",
    "Instructions:\n",
    "Use only the provided relationship types and properties in the schema.\n",
    "Do not use any other relationship types or properties that are not provided.\n",
    "Schema:\n",
    "{schema}\n",
    "Note: Do not include any explanations or apologies in your responses.\n",
    "Do not respond to any questions that might ask anything else than for you to construct a Cypher statement.\n",
    "Do not include any text except the generated Cypher statement.\n",
    "Examples: Here are a few examples of generated Cypher statements for particular questions:\n",
    "\n",
    "# What investment firms are in San Francisco?\n",
    "MATCH (mgr:Manager)-[:LOCATED_AT]->(mgrAddress:Address)\n",
    "    WHERE mgrAddress.city = 'San Francisco'\n",
    "RETURN mgr.managerName\n",
    "\n",
    "# What investment firms are near Santa Clara?\n",
    "  MATCH (address:Address)\n",
    "    WHERE address.city = \"Santa Clara\"\n",
    "  MATCH (mgr:Manager)-[:LOCATED_AT]->(managerAddress:Address)\n",
    "    WHERE point.distance(address.location, \n",
    "        managerAddress.location) < 10000\n",
    "  RETURN mgr.managerName, mgr.managerAddress\n",
    "\n",
    "# What does Palo Alto Networks do?\n",
    "  CALL db.index.fulltext.queryNodes(\n",
    "         \"fullTextCompanyNames\", \n",
    "         \"Palo Alto Networks\"\n",
    "         ) YIELD node, score\n",
    "  WITH node as com\n",
    "  MATCH (com)-[:FILED]->(f:Form),\n",
    "    (f)-[s:SECTION]->(c:Chunk)\n",
    "  WHERE s.f10kItem = \"item1\"\n",
    "RETURN c.text\n",
    "\n",
    "The question is:\n",
    "{question}\"\"\""
   ]
  },
  {
   "cell_type": "code",
   "execution_count": 299,
   "metadata": {},
   "outputs": [],
   "source": [
    "CYPHER_GENERATION_PROMPT = PromptTemplate(\n",
    "    input_variables=[\"schema\", \"question\"], \n",
    "    template=CYPHER_GENERATION_TEMPLATE\n",
    ")\n",
    "\n",
    "cypherChain = GraphCypherQAChain.from_llm(\n",
    "    ChatOpenAI(temperature=0),\n",
    "    graph=kg,\n",
    "    verbose=True,\n",
    "    cypher_prompt=CYPHER_GENERATION_PROMPT,\n",
    ")\n"
   ]
  },
  {
   "cell_type": "code",
   "execution_count": 300,
   "metadata": {},
   "outputs": [
    {
     "name": "stdout",
     "output_type": "stream",
     "text": [
      "\n",
      "\n",
      "\u001b[1m> Entering new GraphCypherQAChain chain...\u001b[0m\n",
      "Generated Cypher:\n",
      "\u001b[32;1m\u001b[1;3mCALL db.index.fulltext.queryNodes(\n",
      "     \"fullTextCompanyNames\", \n",
      "     \"Palo Alto Networks\"\n",
      "     ) YIELD node, score\n",
      "WITH node as com\n",
      "MATCH (com)-[:FILED]->(f:Form),\n",
      "  (f)-[s:SECTION]->(c:Chunk)\n",
      "WHERE s.f10kItem = \"item1\"\n",
      "RETURN c.text\u001b[0m\n",
      "Full Context:\n",
      "\u001b[32;1m\u001b[1;3m[{'c.text': '>Item 1. Business\\nGeneral\\nPalo Alto Networks, Inc. is a global cybersecurity provider with a vision of a world where each day is safer and more secure than the one before. We were incorporated in 2005 and are headquartered in Santa Clara, California.\\nWe empower enterprises, organizations, service providers, and government entities to protect themselves against today’s most sophisticated cyber threats. Our cybersecurity platforms and services help secure enterprise users, networks, clouds, and endpoints by delivering comprehensive cybersecurity backed by industry-leading artificial intelligence and automation. We are a leading provider of zero trust solutions, starting with next-generation zero trust network access to secure today’s remote hybrid workforces and extending to securing all users, applications, and infrastructure with zero trust principles. Our security solutions are designed to reduce customers’ total cost of ownership by improving operational efficiency and eliminating the need for siloed point products. Our company focuses on delivering value in four fundamental areas:\\nNetwork Security:\\n•\\nOur network security platform, designed to deliver complete zero trust solutions to our customers, includes our hardware and software ML-Powered Next-Generation Firewalls, as well as a cloud-delivered Secure Access Service Edge (“SASE”). Prisma\\n®\\n Access, our Security Services Edge (“SSE”) solution, when combined with Prisma SD-WAN, provides a comprehensive single-vendor SASE offering that is used to secure remote workforces and enable the cloud-delivered branch. We have been recognized as a leader in network firewalls, SSE, and SD-WAN. Our network security platform also includes our cloud-delivered security services, such as Advanced Threat Prevention, Advanced WildFire\\n®\\n, Advanced URL Filtering, DNS Security, IoT/OT Security, GlobalProtect\\n®'}]\u001b[0m\n",
      "\n",
      "\u001b[1m> Finished chain.\u001b[0m\n",
      "Palo Alto Networks is a global cybersecurity provider that\n",
      "empowers enterprises, organizations, service providers, and\n",
      "government entities to protect themselves against\n",
      "sophisticated cyber threats. Their cybersecurity platforms\n",
      "and services secure enterprise users, networks, clouds, and\n",
      "endpoints by delivering comprehensive cybersecurity\n",
      "solutions backed by industry-leading artificial intelligence\n",
      "and automation. They focus on delivering value in network\n",
      "security, zero trust solutions, and reducing customers'\n",
      "total cost of ownership.\n"
     ]
    }
   ],
   "source": [
    "prettyCypherChain(\"What does Palo Alto Networks do?\")"
   ]
  },
  {
   "cell_type": "code",
   "execution_count": 301,
   "metadata": {},
   "outputs": [
    {
     "name": "stdout",
     "output_type": "stream",
     "text": [
      "Node properties are the following: Chunk {textEmbedding:\n",
      "LIST, f10kItem: STRING, chunkSeqId: INTEGER, text: STRING,\n",
      "cik: STRING, cusip6: STRING, names: LIST, formId: STRING,\n",
      "source: STRING, chunkId: STRING},Form {cusip6: STRING,\n",
      "names: LIST, formId: STRING, source: STRING},Company\n",
      "{location: POINT, cusip: STRING, names: LIST,\n",
      "companyAddress: STRING, companyName: STRING, cusip6:\n",
      "STRING},Manager {location: POINT, managerName: STRING,\n",
      "managerCik: STRING, managerAddress: STRING},Address\n",
      "{location: POINT, country: STRING, city: STRING, state:\n",
      "STRING} Relationship properties are the following: SECTION\n",
      "{f10kItem: STRING},OWNS_STOCK_IN {shares: INTEGER,\n",
      "reportCalendarOrQuarter: STRING, value: FLOAT} The\n",
      "relationships are the following: (:Chunk)-[:NEXT]-\n",
      ">(:Chunk),(:Chunk)-[:PART_OF]->(:Form),(:Form)-[:SECTION]-\n",
      ">(:Chunk),(:Company)-[:FILED]->(:Form),(:Company)-\n",
      "[:LOCATED_AT]->(:Address),(:Manager)-[:LOCATED_AT]-\n",
      ">(:Address),(:Manager)-[:OWNS_STOCK_IN]->(:Company)\n"
     ]
    }
   ],
   "source": [
    "# Check the graph schema\n",
    "kg.refresh_schema()\n",
    "print(textwrap.fill(kg.schema, 60))"
   ]
  },
  {
   "cell_type": "code",
   "execution_count": 302,
   "metadata": {},
   "outputs": [],
   "source": [
    "CYPHER_GENERATION_TEMPLATE = \"\"\"Task:Generate Cypher statement to query a graph database.\n",
    "Instructions:\n",
    "Use only the provided relationship types and properties in the schema.\n",
    "Do not use any other relationship types or properties that are not provided.\n",
    "Schema:\n",
    "{schema}\n",
    "Note: Do not include any explanations or apologies in your responses.\n",
    "Do not respond to any questions that might ask anything else than for you to construct a Cypher statement.\n",
    "Do not include any text except the generated Cypher statement.\n",
    "Examples: Here are a few examples of generated Cypher statements for particular questions:\n",
    "\n",
    "# What investment firms are in San Francisco?\n",
    "MATCH (mgr:Manager)-[:LOCATED_AT]->(mgrAddress:Address)\n",
    "    WHERE mgrAddress.city = 'San Francisco'\n",
    "RETURN mgr.managerName\n",
    "\n",
    "# What investment firms are near Santa Clara?\n",
    "  MATCH (address:Address)\n",
    "    WHERE address.city = \"Santa Clara\"\n",
    "  MATCH (mgr:Manager)-[:LOCATED_AT]->(managerAddress:Address)\n",
    "    WHERE point.distance(address.location, \n",
    "        managerAddress.location) < 10000\n",
    "  RETURN mgr.managerName, mgr.managerAddress\n",
    "\n",
    "# What does Palo Alto Networks do?\n",
    "  CALL db.index.fulltext.queryNodes(\n",
    "         \"fullTextCompanyNames\", \n",
    "         \"Palo Alto Networks\"\n",
    "         ) YIELD node, score\n",
    "  WITH node as com\n",
    "  MATCH (com)-[:FILED]->(f:Form),\n",
    "    (f)-[s:SECTION]->(c:Chunk)\n",
    "  WHERE s.f10kItem = \"item1\"\n",
    "RETURN c.text\n",
    "\n",
    "The question is:\n",
    "{question}\"\"\""
   ]
  },
  {
   "cell_type": "code",
   "execution_count": 303,
   "metadata": {},
   "outputs": [],
   "source": [
    "# Update the prompt and reset the QA chain\n",
    "CYPHER_GENERATION_PROMPT = PromptTemplate(\n",
    "    input_variables=[\"schema\", \"question\"], \n",
    "    template=CYPHER_GENERATION_TEMPLATE\n",
    ")\n",
    "\n",
    "cypherChain = GraphCypherQAChain.from_llm(\n",
    "    ChatOpenAI(temperature=0),\n",
    "    graph=kg,\n",
    "    verbose=True,\n",
    "    cypher_prompt=CYPHER_GENERATION_PROMPT,\n",
    ")"
   ]
  },
  {
   "cell_type": "code",
   "execution_count": null,
   "metadata": {},
   "outputs": [],
   "source": [
    "prettyCypherChain(\"<<REPLACE WITH YOUR QUESTION>>\")"
   ]
  }
 ],
 "metadata": {
  "kernelspec": {
   "display_name": "llm",
   "language": "python",
   "name": "python3"
  },
  "language_info": {
   "codemirror_mode": {
    "name": "ipython",
    "version": 3
   },
   "file_extension": ".py",
   "mimetype": "text/x-python",
   "name": "python",
   "nbconvert_exporter": "python",
   "pygments_lexer": "ipython3",
   "version": "3.11.8"
  }
 },
 "nbformat": 4,
 "nbformat_minor": 2
}
